{
 "cells": [
  {
   "cell_type": "code",
   "execution_count": 1,
   "id": "1f957b39",
   "metadata": {},
   "outputs": [
    {
     "name": "stdout",
     "output_type": "stream",
     "text": [
      "Help on class range in module builtins:\n",
      "\n",
      "class range(object)\n",
      " |  range(stop) -> range object\n",
      " |  range(start, stop[, step]) -> range object\n",
      " |  \n",
      " |  Return an object that produces a sequence of integers from start (inclusive)\n",
      " |  to stop (exclusive) by step.  range(i, j) produces i, i+1, i+2, ..., j-1.\n",
      " |  start defaults to 0, and stop is omitted!  range(4) produces 0, 1, 2, 3.\n",
      " |  These are exactly the valid indices for a list of 4 elements.\n",
      " |  When step is given, it specifies the increment (or decrement).\n",
      " |  \n",
      " |  Methods defined here:\n",
      " |  \n",
      " |  __bool__(self, /)\n",
      " |      self != 0\n",
      " |  \n",
      " |  __contains__(self, key, /)\n",
      " |      Return key in self.\n",
      " |  \n",
      " |  __eq__(self, value, /)\n",
      " |      Return self==value.\n",
      " |  \n",
      " |  __ge__(self, value, /)\n",
      " |      Return self>=value.\n",
      " |  \n",
      " |  __getattribute__(self, name, /)\n",
      " |      Return getattr(self, name).\n",
      " |  \n",
      " |  __getitem__(self, key, /)\n",
      " |      Return self[key].\n",
      " |  \n",
      " |  __gt__(self, value, /)\n",
      " |      Return self>value.\n",
      " |  \n",
      " |  __hash__(self, /)\n",
      " |      Return hash(self).\n",
      " |  \n",
      " |  __iter__(self, /)\n",
      " |      Implement iter(self).\n",
      " |  \n",
      " |  __le__(self, value, /)\n",
      " |      Return self<=value.\n",
      " |  \n",
      " |  __len__(self, /)\n",
      " |      Return len(self).\n",
      " |  \n",
      " |  __lt__(self, value, /)\n",
      " |      Return self<value.\n",
      " |  \n",
      " |  __ne__(self, value, /)\n",
      " |      Return self!=value.\n",
      " |  \n",
      " |  __reduce__(...)\n",
      " |      Helper for pickle.\n",
      " |  \n",
      " |  __repr__(self, /)\n",
      " |      Return repr(self).\n",
      " |  \n",
      " |  __reversed__(...)\n",
      " |      Return a reverse iterator.\n",
      " |  \n",
      " |  count(...)\n",
      " |      rangeobject.count(value) -> integer -- return number of occurrences of value\n",
      " |  \n",
      " |  index(...)\n",
      " |      rangeobject.index(value) -> integer -- return index of value.\n",
      " |      Raise ValueError if the value is not present.\n",
      " |  \n",
      " |  ----------------------------------------------------------------------\n",
      " |  Static methods defined here:\n",
      " |  \n",
      " |  __new__(*args, **kwargs) from builtins.type\n",
      " |      Create and return a new object.  See help(type) for accurate signature.\n",
      " |  \n",
      " |  ----------------------------------------------------------------------\n",
      " |  Data descriptors defined here:\n",
      " |  \n",
      " |  start\n",
      " |  \n",
      " |  step\n",
      " |  \n",
      " |  stop\n",
      "\n"
     ]
    }
   ],
   "source": [
    "help(range)"
   ]
  },
  {
   "cell_type": "code",
   "execution_count": 2,
   "id": "43a1af19",
   "metadata": {},
   "outputs": [
    {
     "name": "stdout",
     "output_type": "stream",
     "text": [
      "result:  ac\n",
      "result:  je\n"
     ]
    }
   ],
   "source": [
    "my_str = 'abcdefghij'\n",
    "print('result: ',my_str[0:4:2])\n",
    "\n",
    "\n",
    "'''\n",
    "0 | 1| 2| 3| 4| 5| 6\n",
    "\n",
    "\n",
    "9\n",
    "9-5 = 4\n",
    "4-5 = -1\n",
    "result = a[9]a[4]\n",
    "'''\n",
    "\n",
    "\n",
    "print('result: ',my_str[::-5])\n"
   ]
  },
  {
   "cell_type": "code",
   "execution_count": 6,
   "id": "77470999",
   "metadata": {},
   "outputs": [
    {
     "name": "stdout",
     "output_type": "stream",
     "text": [
      "dcfrdasf\n"
     ]
    },
    {
     "ename": "TypeError",
     "evalue": "string indices must be integers",
     "output_type": "error",
     "traceback": [
      "\u001b[1;31m---------------------------------------------------------------------------\u001b[0m",
      "\u001b[1;31mTypeError\u001b[0m                                 Traceback (most recent call last)",
      "\u001b[1;32m<ipython-input-6-15fb9b70623f>\u001b[0m in \u001b[0;36m<module>\u001b[1;34m\u001b[0m\n\u001b[0;32m     11\u001b[0m \u001b[0mrange_variable\u001b[0m \u001b[1;33m=\u001b[0m \u001b[0mrange\u001b[0m\u001b[1;33m(\u001b[0m\u001b[1;36m2\u001b[0m\u001b[1;33m,\u001b[0m\u001b[1;36m10\u001b[0m\u001b[1;33m)\u001b[0m\u001b[1;33m\u001b[0m\u001b[1;33m\u001b[0m\u001b[0m\n\u001b[0;32m     12\u001b[0m \u001b[0mprint\u001b[0m\u001b[1;33m(\u001b[0m\u001b[0ma\u001b[0m\u001b[1;33m[\u001b[0m\u001b[0mslice_variable\u001b[0m\u001b[1;33m]\u001b[0m\u001b[1;33m)\u001b[0m\u001b[1;33m\u001b[0m\u001b[1;33m\u001b[0m\u001b[0m\n\u001b[1;32m---> 13\u001b[1;33m \u001b[0mprint\u001b[0m\u001b[1;33m(\u001b[0m\u001b[0ma\u001b[0m\u001b[1;33m[\u001b[0m\u001b[0mrange_variable\u001b[0m\u001b[1;33m]\u001b[0m\u001b[1;33m)\u001b[0m\u001b[1;33m\u001b[0m\u001b[1;33m\u001b[0m\u001b[0m\n\u001b[0m\u001b[0;32m     14\u001b[0m \u001b[0mprint\u001b[0m\u001b[1;33m(\u001b[0m\u001b[0mrange_variable\u001b[0m\u001b[1;33m)\u001b[0m\u001b[1;33m\u001b[0m\u001b[1;33m\u001b[0m\u001b[0m\n",
      "\u001b[1;31mTypeError\u001b[0m: string indices must be integers"
     ]
    }
   ],
   "source": [
    "'''\n",
    "a = 'abdcfrfg'\n",
    "slice_index=slice(start,end,jump)\n",
    "a[slice_index]\n",
    "'''\n",
    "a = 'abdcfrdasfg'\n",
    "slice_index=slice(1,9,2) # 1,3,5\n",
    "a[slice_index]\n",
    "\n",
    "slice_variable = slice(2,10)\n",
    "range_variable = range(2,10)\n",
    "print(a[slice_variable])\n",
    "print(a[range_variable])\n",
    "print(range_variable)\n"
   ]
  },
  {
   "cell_type": "code",
   "execution_count": 8,
   "id": "5dfafa67",
   "metadata": {},
   "outputs": [
    {
     "name": "stdout",
     "output_type": "stream",
     "text": [
      "inside range looop\n",
      "inside string loop\n",
      "inside string loop\n",
      "inside range looop\n",
      "inside string loop\n",
      "inside string loop\n"
     ]
    }
   ],
   "source": [
    "\n",
    "for member in range(0,2):#for i in range(1,10):\n",
    "    print(\"inside range looop\")\n",
    "    for s in [1,2]:\n",
    "        print(\"inside string loop\")\n",
    "        for l in []:\n",
    "            print(\"inside list loop\")\n",
    "            \n",
    "\n",
    "\n"
   ]
  },
  {
   "cell_type": "code",
   "execution_count": 12,
   "id": "a075c92f",
   "metadata": {},
   "outputs": [
    {
     "name": "stdout",
     "output_type": "stream",
     "text": [
      "starting for loop\n",
      "for loop iteration\n",
      "for loop iteration\n",
      "for loop iteration\n",
      "for loop ended\n"
     ]
    }
   ],
   "source": [
    "print(\"starting for loop\")\n",
    "for i in [1,2,3]:\n",
    "    print(\"for loop iteration\")\n",
    "print(\"for loop ended\")\n"
   ]
  },
  {
   "cell_type": "code",
   "execution_count": 11,
   "id": "392aa821",
   "metadata": {},
   "outputs": [
    {
     "name": "stdout",
     "output_type": "stream",
     "text": [
      "abcabcabcabcabc\n"
     ]
    }
   ],
   "source": [
    "# print(\"abc\"*5)\n",
    "print(\"abc\"*5)"
   ]
  },
  {
   "cell_type": "code",
   "execution_count": 16,
   "id": "dbc33c88",
   "metadata": {},
   "outputs": [
    {
     "name": "stdout",
     "output_type": "stream",
     "text": [
      "*\n",
      "**\n",
      "***\n",
      "****\n",
      "*****\n"
     ]
    }
   ],
   "source": [
    "'''\n",
    "#\n",
    "##\n",
    "###\n",
    "####\n",
    "#####\n",
    "\n",
    "psudo code\n",
    "print * 1 time\n",
    "print * 2 time\n",
    "...\n",
    "...\n",
    "...\n",
    "print * 5 time\n",
    "\n",
    "* \n",
    "* * \n",
    "* * * \n",
    "* * * * \n",
    "* * * * * \n",
    "* * * * \n",
    "* * * \n",
    "* * \n",
    "*\n",
    "\n",
    "'''\n",
    "\n",
    "print(\"*\")\n",
    "print(\"**\")\n",
    "print(\"***\")\n",
    "print(\"****\")\n",
    "print(\"*****\")\n",
    "\n"
   ]
  },
  {
   "cell_type": "code",
   "execution_count": 17,
   "id": "a12de1df",
   "metadata": {},
   "outputs": [
    {
     "name": "stdout",
     "output_type": "stream",
     "text": [
      "*\n",
      "**\n",
      "***\n",
      "****\n",
      "*****\n",
      "****\n",
      "***\n",
      "**\n",
      "*\n"
     ]
    }
   ],
   "source": [
    "for i in [1,2,3,4,5,4,3,2,1]:\n",
    "    print(\"*\"*i)"
   ]
  },
  {
   "cell_type": "code",
   "execution_count": 20,
   "id": "53cbe1ce",
   "metadata": {},
   "outputs": [
    {
     "name": "stdout",
     "output_type": "stream",
     "text": [
      "1\n",
      "12\n",
      "123\n",
      "1234\n",
      "12345\n"
     ]
    }
   ],
   "source": [
    "\n",
    "# 1\n",
    "# 12\n",
    "# 123\n",
    "# 1234\n",
    "# 12345\n",
    "\n",
    "for i in range(1,6):\n",
    "    #first i =1, secondtime i =2\n",
    "#     print(i, i+1)\n",
    "    for j in range(1,i+1): #first time range(1,1+1=2), second time range(1,2+1=3))\n",
    "        #first time j=1 second j=1 then again it will iterate j=2\n",
    "        print(j, end=\"\")\n",
    "    print()\n",
    "\n"
   ]
  },
  {
   "cell_type": "code",
   "execution_count": 26,
   "id": "a6886430",
   "metadata": {},
   "outputs": [
    {
     "name": "stdout",
     "output_type": "stream",
     "text": [
      "1\n",
      "1\n",
      "2\n",
      "1\n",
      "2\n",
      "3\n",
      "1\n",
      "2\n",
      "3\n",
      "4\n",
      "****\n",
      "***\n",
      "**\n",
      "*\n"
     ]
    }
   ],
   "source": [
    "range(1,10+1)\n",
    "for j in range(1,2):\n",
    "    print(j)\n",
    "\n",
    "for j in range(1,3):\n",
    "    print(j)\n",
    "    \n",
    "for j in range(1,4):\n",
    "    print(j)\n",
    "\n",
    "for j in range(1,5):\n",
    "    print(j)\n",
    "\n",
    "for i in range(4,0,-1):\n",
    "    print(\"*\"*i)"
   ]
  },
  {
   "cell_type": "code",
   "execution_count": 27,
   "id": "0e3f55d6",
   "metadata": {},
   "outputs": [
    {
     "name": "stdout",
     "output_type": "stream",
     "text": [
      "outer for loop iteration started\n",
      "inside outer for loop\n",
      "inner for loop iteration started\n",
      "inside inner for loop\n",
      "inner for loop iteration ended\n",
      "inner for loop iteration started\n",
      "inside inner for loop\n",
      "inner for loop iteration ended\n",
      "outer for loop iteration ended\n",
      "outer for loop iteration started\n",
      "inside outer for loop\n",
      "inner for loop iteration started\n",
      "inside inner for loop\n",
      "inner for loop iteration ended\n",
      "inner for loop iteration started\n",
      "inside inner for loop\n",
      "inner for loop iteration ended\n",
      "outer for loop iteration ended\n",
      "outer for loop iteration started\n",
      "inside outer for loop\n",
      "inner for loop iteration started\n",
      "inside inner for loop\n",
      "inner for loop iteration ended\n",
      "inner for loop iteration started\n",
      "inside inner for loop\n",
      "inner for loop iteration ended\n",
      "outer for loop iteration ended\n",
      "outside\n"
     ]
    }
   ],
   "source": [
    "for i in [1,2,3]:\n",
    "    print(\"outer for loop iteration started\")\n",
    "    print(\"inside outer for loop\")\n",
    "    for j in [1,2]:\n",
    "        print(\"inner for loop iteration started\")\n",
    "        print(\"inside inner for loop\")\n",
    "        print(\"inner for loop iteration ended\")\n",
    "    print(\"outer for loop iteration ended\")\n",
    "print(\"outside\")\n",
    "    "
   ]
  },
  {
   "cell_type": "code",
   "execution_count": null,
   "id": "7b0f953c",
   "metadata": {},
   "outputs": [],
   "source": []
  }
 ],
 "metadata": {
  "kernelspec": {
   "display_name": "Python 3",
   "language": "python",
   "name": "python3"
  },
  "language_info": {
   "codemirror_mode": {
    "name": "ipython",
    "version": 3
   },
   "file_extension": ".py",
   "mimetype": "text/x-python",
   "name": "python",
   "nbconvert_exporter": "python",
   "pygments_lexer": "ipython3",
   "version": "3.8.8"
  }
 },
 "nbformat": 4,
 "nbformat_minor": 5
}
