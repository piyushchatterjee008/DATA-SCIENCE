{
 "cells": [
  {
   "cell_type": "code",
   "execution_count": 1,
   "id": "e0418a2a",
   "metadata": {},
   "outputs": [
    {
     "name": "stdout",
     "output_type": "stream",
     "text": [
      "140713283102800\n",
      "140713283102832\n"
     ]
    }
   ],
   "source": [
    "a=10\n",
    "print(id(a))\n",
    "a=11\n",
    "print(id(a))"
   ]
  },
  {
   "cell_type": "code",
   "execution_count": 3,
   "id": "b3da3366",
   "metadata": {},
   "outputs": [
    {
     "name": "stdout",
     "output_type": "stream",
     "text": [
      "2805897509168\n",
      "2805897510000\n",
      "2805897251520\n",
      "[10, 11, 12]\n",
      "2805897251520\n",
      "[10, 21, 12]\n"
     ]
    }
   ],
   "source": [
    "name = 'dipesh'\n",
    "print(id(name))\n",
    "name='edyoda'\n",
    "print(id(name))\n",
    "a=1\n",
    "my_list = [1,2,3,'edyoda','python']\n",
    "my_list[0]=[10,11,12]\n",
    "print(id(my_list[0]))\n",
    "print(my_list[0])\n",
    "my_list[0][1]=21\n",
    "print(id(my_list[0]))\n",
    "print(my_list[0])"
   ]
  },
  {
   "cell_type": "code",
   "execution_count": 4,
   "id": "eb1f5555",
   "metadata": {},
   "outputs": [
    {
     "name": "stdout",
     "output_type": "stream",
     "text": [
      "2805897048128\n",
      "2805897250304\n",
      "2805897508928\n"
     ]
    }
   ],
   "source": [
    "my_tuple = (1,2,3)\n",
    "print(id(my_tuple))\n",
    "my_tuple = list(my_tuple)\n",
    "print(id(my_tuple))\n",
    "my_tuple = tuple(my_tuple)\n",
    "print(id(my_tuple))\n"
   ]
  },
  {
   "cell_type": "code",
   "execution_count": 6,
   "id": "39842e42",
   "metadata": {},
   "outputs": [
    {
     "name": "stdout",
     "output_type": "stream",
     "text": [
      "(1, 2, 3)\n",
      "2805897048384\n",
      "[10, 2, 3]\n",
      "2805897563328\n"
     ]
    }
   ],
   "source": [
    "my_tuple=(1,2,3)\n",
    "print(my_tuple)\n",
    "print(id(my_tuple))\n",
    "my_tuple=list(my_tuple)\n",
    "my_tuple[0]=10\n",
    "print(my_tuple)\n",
    "print(id(my_tuple))"
   ]
  },
  {
   "cell_type": "code",
   "execution_count": 8,
   "id": "87b548c6",
   "metadata": {},
   "outputs": [
    {
     "name": "stdout",
     "output_type": "stream",
     "text": [
      "2805897560576\n",
      "{'key': 'value2'}\n",
      "2805897560576\n"
     ]
    }
   ],
   "source": [
    "my_dict = {'key':'value1'}\n",
    "print(id(my_dict))\n",
    "my_dict['key']='value2'\n",
    "print(my_dict)\n",
    "print(id(my_dict))"
   ]
  },
  {
   "cell_type": "code",
   "execution_count": null,
   "id": "b6480800",
   "metadata": {},
   "outputs": [],
   "source": []
  }
 ],
 "metadata": {
  "kernelspec": {
   "display_name": "Python 3",
   "language": "python",
   "name": "python3"
  },
  "language_info": {
   "codemirror_mode": {
    "name": "ipython",
    "version": 3
   },
   "file_extension": ".py",
   "mimetype": "text/x-python",
   "name": "python",
   "nbconvert_exporter": "python",
   "pygments_lexer": "ipython3",
   "version": "3.8.8"
  }
 },
 "nbformat": 4,
 "nbformat_minor": 5
}
