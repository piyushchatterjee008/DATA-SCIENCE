{
 "cells": [
  {
   "cell_type": "code",
   "execution_count": 1,
   "id": "ed94398c",
   "metadata": {
    "scrolled": true
   },
   "outputs": [
    {
     "name": "stdout",
     "output_type": "stream",
     "text": [
      "Divinding 5 by  1\n",
      "5.0\n",
      "Diving succeed\n",
      "Divinding 5 by  5\n",
      "1.0\n",
      "Diving succeed\n",
      "Divinding 5 by  0\n",
      "Exception is :  division by zero\n",
      "Error while diving 5 by  0\n",
      "Divinding 5 by  10\n",
      "0.5\n",
      "Diving succeed\n",
      "Divinding 5 by  11\n",
      "0.45454545454545453\n",
      "Diving succeed\n"
     ]
    }
   ],
   "source": [
    "\"\"\"\n",
    "Error handling\n",
    "try:\n",
    "    #code\n",
    "except:\n",
    "    #code\n",
    "    \n",
    "error handling with exception also\n",
    "try:\n",
    "    #code\n",
    "except Exception as e:\n",
    "    #code\n",
    "    # here e is the exception \n",
    "\n",
    "\"\"\"\n",
    "\n",
    "numbers = [1,5,0,10,11]\n",
    "\n",
    "\n",
    "#exception will occur when diving by 0\n",
    "for i in numbers:\n",
    "    try:\n",
    "        print(\"Divinding 5 by \",i)\n",
    "        print(5/i)\n",
    "        print(\"Diving succeed\")\n",
    "    except Exception as e:\n",
    "        print(\"Exception is : \",e)\n",
    "        print(\"Error while diving 5 by \",i)\n",
    "    "
   ]
  },
  {
   "cell_type": "code",
   "execution_count": null,
   "id": "192ac64b",
   "metadata": {},
   "outputs": [],
   "source": [
    "# just for understading it won't get execute because find functions are not implemented\n",
    "find_user_by_username\n",
    "find_user_by_email\n",
    "\n",
    "def user_exist(username_or_email):\n",
    "    try:\n",
    "        user_exist = find_user_by_username(username)\n",
    "    except:\n",
    "        user_exist = find_user_by_email(email)\n",
    "    return user_exist\n",
    "    \n",
    "user_exist('dipeshsharma2507')\n",
    "user_exist('dipesh@edyoda.com')"
   ]
  },
  {
   "cell_type": "code",
   "execution_count": 4,
   "id": "d2248ecc",
   "metadata": {},
   "outputs": [
    {
     "name": "stdout",
     "output_type": "stream",
     "text": [
      "python - 1\n",
      "python - 2\n",
      "python - 3\n",
      "python - 4\n"
     ]
    }
   ],
   "source": [
    "# Generators: same as function and it will give iterable object but we use yield instead of return\n",
    "\n",
    "def generate_first_five_positive_integers():\n",
    "#     yield 1\n",
    "#     yield 2\n",
    "#     yield 3\n",
    "#     yield 4\n",
    "#     yield 5\n",
    "#     yield 6\n",
    "    \n",
    "    for i in range(1,6):\n",
    "        yield f\"python - {i}\"\n",
    "        \n",
    "    \n",
    "    \n",
    "first_five_integers = generate_first_five_positive_integers() #= [1,2,3,4,5]\n",
    "print(first_five_integers.__next__())\n",
    "print(first_five_integers.__next__())\n",
    "print(first_five_integers.__next__())\n",
    "print(first_five_integers.__next__())\n",
    "\n",
    "# for i in first_five_integers:\n",
    "#     print(i)"
   ]
  },
  {
   "cell_type": "code",
   "execution_count": null,
   "id": "74ce109f",
   "metadata": {},
   "outputs": [],
   "source": []
  }
 ],
 "metadata": {
  "kernelspec": {
   "display_name": "Python 3",
   "language": "python",
   "name": "python3"
  },
  "language_info": {
   "codemirror_mode": {
    "name": "ipython",
    "version": 3
   },
   "file_extension": ".py",
   "mimetype": "text/x-python",
   "name": "python",
   "nbconvert_exporter": "python",
   "pygments_lexer": "ipython3",
   "version": "3.8.8"
  }
 },
 "nbformat": 4,
 "nbformat_minor": 5
}
