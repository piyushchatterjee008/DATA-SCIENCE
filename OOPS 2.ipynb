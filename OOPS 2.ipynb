{
 "cells": [
  {
   "cell_type": "code",
   "execution_count": 2,
   "id": "90c98d75",
   "metadata": {},
   "outputs": [
    {
     "name": "stdout",
     "output_type": "stream",
     "text": [
      "25\n",
      "25000\n",
      "setting the salary\n",
      "50000\n"
     ]
    }
   ],
   "source": [
    "class employee:\n",
    "    \n",
    "    company_name = 'edyoda'\n",
    "    \n",
    "    def __init__(self,name,age,salary):\n",
    "        self.name=name\n",
    "        self.age=age\n",
    "        # how to make a attribute as a private attribute\n",
    "        self.__salary=salary # private attribute using __ before name\n",
    "        \n",
    "#     option1\n",
    "    def get_salary(self): #getter methods\n",
    "        return self.__salary\n",
    "    \n",
    "    def set_salary(self,new_salary): #setter methods\n",
    "        self.__salary = new_salary\n",
    "    \n",
    "    \n",
    "emp1 = employee('abc',25,15000)\n",
    "emp2 = employee('bcd',15,25000)\n",
    "emp1.get_salary\n",
    "print(emp1.age)\n",
    "print(emp2.get_salary())\n",
    "print(\"setting the salary\")\n",
    "emp2.set_salary(50000)\n",
    "print(emp2.get_salary())"
   ]
  },
  {
   "cell_type": "code",
   "execution_count": 16,
   "id": "21aa4bf3",
   "metadata": {},
   "outputs": [
    {
     "name": "stdout",
     "output_type": "stream",
     "text": [
      "60000\n",
      "25\n",
      "90000\n"
     ]
    }
   ],
   "source": [
    "class employee1:\n",
    "    \n",
    "    def __init__(self,name,age,salary):\n",
    "        self.name=name\n",
    "        self.age=age\n",
    " # how to make a attribute as a private attribute\n",
    "        self.__salary=salary # private attribute using __ before name\n",
    "#option 2 using @property\n",
    "        \n",
    "    @property\n",
    "    #getter methods\n",
    "    def get_salary(self):\n",
    "        return self.__salary\n",
    "    \n",
    "    #setter methods\n",
    "    def set_salary(self,new_salary):\n",
    "        self.__salary=new_salary\n",
    "        \n",
    "\n",
    "obj1 = employee1('piyush',25,60000)\n",
    "obj2 = employee1('bcd',15,25000)\n",
    "\n",
    "print(obj1.get_salary)\n",
    "print(obj1.age)\n",
    "\n",
    "#setting salary\n",
    "\n",
    "obj1.set_salary=90000\n",
    "print(obj1.set_salary)"
   ]
  },
  {
   "cell_type": "code",
   "execution_count": 1,
   "id": "17deb475",
   "metadata": {},
   "outputs": [
    {
     "name": "stdout",
     "output_type": "stream",
     "text": [
      "60000\n",
      "25\n",
      "90000\n"
     ]
    }
   ],
   "source": [
    "class employee3:\n",
    "    \n",
    "    company_name = \"Happiest Mind\"\n",
    "    \n",
    "    def __init__(self,name,age,salary):\n",
    "        self.name = name\n",
    "        self.age = age\n",
    "        self.__salary= salary\n",
    "        \n",
    "    @property\n",
    "    def salary(self):\n",
    "        return self.__salary\n",
    "    \n",
    "    @salary.setter\n",
    "    def salary(self,newsalary):\n",
    "        self.__salary=newsalary\n",
    "        \n",
    "obj1 = employee3('piyush',25,60000)\n",
    "obj2 = employee3('bcd',15,25000)\n",
    "\n",
    "print(obj1.salary)\n",
    "print(obj1.age)\n",
    "\n",
    "#setting salary\n",
    "\n",
    "obj1.salary=90000\n",
    "print(obj1.salary)"
   ]
  },
  {
   "cell_type": "code",
   "execution_count": 6,
   "id": "420a7793",
   "metadata": {},
   "outputs": [
    {
     "name": "stdout",
     "output_type": "stream",
     "text": [
      "15\n",
      "getter for salary called\n",
      "25000\n",
      "setting the salary\n",
      "getter for salary called\n",
      "Salary is sensitive\n"
     ]
    }
   ],
   "source": [
    "class employee:\n",
    "    \n",
    "    company_name = 'edyoda'\n",
    "    \n",
    "    def __init__(self,name,age,salary):\n",
    "        self.name=name\n",
    "        self.age=age\n",
    "        # how to make a attribute as a private attribute\n",
    "        self.__salary=salary # private attribute using __ before name\n",
    "        \n",
    "    #option 2 using @property\n",
    "    @property\n",
    "    def salary(self): #getter\n",
    "        print(\"getter for salary called\")\n",
    "        if self.__salary<50000:\n",
    "            return self.__salary\n",
    "        else:\n",
    "            return \"Salary is sensitive\"\n",
    "    \n",
    "    @salary.setter\n",
    "    def salary(self,new_salary): #setter\n",
    "        self.__salary = new_salary\n",
    "\n",
    "emp2 = employee('bcd',15,25000)\n",
    "print(emp2.age)\n",
    "print(emp2.salary)\n",
    "print(\"setting the salary\")\n",
    "emp2.salary=50000\n",
    "print(emp2.salary)"
   ]
  },
  {
   "cell_type": "code",
   "execution_count": 7,
   "id": "8b032cf2",
   "metadata": {},
   "outputs": [
    {
     "name": "stdout",
     "output_type": "stream",
     "text": [
      "changing branch for std1\n",
      "changing branch for std2\n",
      "IT change of branch Not Eligible because cgpa is  5\n",
      "IT\n",
      "MECH\n"
     ]
    }
   ],
   "source": [
    "class student:\n",
    "    \n",
    "    def __init__(self,branch,cgpa):\n",
    "        self.cgpa=cgpa\n",
    "        # how to make a attribute as a private attribute\n",
    "        self.__branch=branch # private attribute using __ before name\n",
    "\n",
    "    def get_branch(self):\n",
    "        return self.__branch\n",
    "    \n",
    "    def set_branch(self,new_branch):\n",
    "        if self.cgpa > 7.5:\n",
    "            self.__branch = new_branch\n",
    "        else:\n",
    "            print(\"Not Eligible\")\n",
    "    \n",
    "    @property\n",
    "    def branch(self):\n",
    "        return self.__branch\n",
    "    \n",
    "    @branch.setter\n",
    "    def branch(self,new_branch):\n",
    "        if self.cgpa > 7.5:\n",
    "            self.__branch = new_branch\n",
    "        else:\n",
    "            print(new_branch,\"change of branch Not Eligible because cgpa is \",self.cgpa)\n",
    "    \n",
    "std1 = student('CIVIL',8)\n",
    "std2 = student(\"MECH\", 5)\n",
    "\n",
    "# std1.get_branch()\n",
    "std1.branch\n",
    "\n",
    "# print(\"changing branch for std1\")\n",
    "# std1.set_branch('IT')\n",
    "# print(\"changing branch for std2\")\n",
    "# std2.set_branch('IT')\n",
    "\n",
    "# print(std1.getbranch)\n",
    "# print(std2.getbranch)\n",
    "\n",
    "print(\"changing branch for std1\")\n",
    "std1.branch='IT'\n",
    "print(\"changing branch for std2\")\n",
    "std2.branch='IT'\n",
    "\n",
    "print(std1.branch)\n",
    "print(std2.branch)"
   ]
  },
  {
   "cell_type": "code",
   "execution_count": null,
   "id": "0b72955a",
   "metadata": {},
   "outputs": [],
   "source": []
  }
 ],
 "metadata": {
  "kernelspec": {
   "display_name": "Python 3",
   "language": "python",
   "name": "python3"
  },
  "language_info": {
   "codemirror_mode": {
    "name": "ipython",
    "version": 3
   },
   "file_extension": ".py",
   "mimetype": "text/x-python",
   "name": "python",
   "nbconvert_exporter": "python",
   "pygments_lexer": "ipython3",
   "version": "3.8.8"
  }
 },
 "nbformat": 4,
 "nbformat_minor": 5
}
