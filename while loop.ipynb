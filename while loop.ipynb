{
 "cells": [
  {
   "cell_type": "code",
   "execution_count": 2,
   "id": "4cd2c84d",
   "metadata": {},
   "outputs": [
    {
     "name": "stdout",
     "output_type": "stream",
     "text": [
      "0\n",
      "admin\n",
      "1\n",
      "user\n",
      "2\n",
      "final\n"
     ]
    }
   ],
   "source": [
    "'''\n",
    "While loop\n",
    "while (condition):\n",
    "    code line1\n",
    "    code line1\n",
    "    code line1\n",
    "    code line1\n",
    "    \n",
    "Q: Print first three names.\n",
    "'''\n",
    "\n",
    "class_toppers = ['admin','user','final','extra']\n",
    "count = 0\n",
    "while count<=2:\n",
    "    print(count)\n",
    "    print(class_toppers[count])\n",
    "    count+=1"
   ]
  },
  {
   "cell_type": "code",
   "execution_count": 8,
   "id": "5cd8cf35",
   "metadata": {},
   "outputs": [
    {
     "name": "stdout",
     "output_type": "stream",
     "text": [
      "out side for loop\n",
      "adsa\n"
     ]
    }
   ],
   "source": [
    "'''\n",
    "continue: there is a condition we don't wanna run the loop and go to next interation\n",
    "\n",
    "\n",
    "\n",
    "break: it exit the loop or complete the loop\n",
    "'''\n",
    "\n",
    "print(\"out side for loop\")\n",
    "print(a)\n",
    "for i in [1,2]:\n",
    "    pass\n",
    "\n"
   ]
  },
  {
   "cell_type": "code",
   "execution_count": 9,
   "id": "cf65b3e8",
   "metadata": {},
   "outputs": [
    {
     "name": "stdout",
     "output_type": "stream",
     "text": [
      "while loop\n",
      "in while values of a is:  0\n",
      "performing action\n",
      "in while values of a is:  1\n",
      "Don't perform any action\n",
      "in while values of a is:  2\n",
      "performing action\n",
      "FOR LOOP\n",
      "in while values of a is:  1\n",
      "Don't perform any action\n",
      "in while values of a is:  2\n",
      "in while values of a is:  3\n"
     ]
    }
   ],
   "source": [
    "a = 0\n",
    "print(\"while loop\")\n",
    "while a<=2:\n",
    "    print(\"in while values of a is: \",a)\n",
    "    if a==1:\n",
    "        print(\"Don't perform any action\")\n",
    "        a = a+1\n",
    "        continue\n",
    "    a = a+1\n",
    "    print(\"performing action\")\n",
    "    \n",
    "print(\"FOR LOOP\")\n",
    "for a in [1,2,3]:\n",
    "    print(\"in while values of a is: \",a)\n",
    "    if a==1:\n",
    "        print(\"Don't perform any action\")\n",
    "        continue\n"
   ]
  },
  {
   "cell_type": "code",
   "execution_count": 10,
   "id": "ac152156",
   "metadata": {},
   "outputs": [
    {
     "name": "stdout",
     "output_type": "stream",
     "text": [
      "condtion is true\n"
     ]
    }
   ],
   "source": [
    "    \n",
    "'''    it check something like this if condition\n",
    "a =0\n",
    "while a in range(0,10):\n",
    "    perform action\n",
    "    a+=1\n",
    "'''\n",
    "if range(0,10):\n",
    "    print(\"condtion is true\")\n",
    "else:\n",
    "    print(\"condition is false\")"
   ]
  },
  {
   "cell_type": "code",
   "execution_count": 1,
   "id": "25c7d441",
   "metadata": {},
   "outputs": [
    {
     "name": "stdout",
     "output_type": "stream",
     "text": [
      "in while loop\n",
      "performing action\n",
      "in while loop\n",
      "performing action\n",
      "in while loop\n",
      "performing action\n",
      "in while loop\n",
      "a is greater terminating the loop\n"
     ]
    }
   ],
   "source": [
    "a = 0 \n",
    "while True:\n",
    "    print(\"in while loop\")\n",
    "    if a>2:\n",
    "        print(\"a is greater terminating the loop\")\n",
    "        break\n",
    "    a = a+1\n",
    "    print(\"performing action\")"
   ]
  },
  {
   "cell_type": "code",
   "execution_count": 4,
   "id": "076100d0",
   "metadata": {},
   "outputs": [
    {
     "name": "stdout",
     "output_type": "stream",
     "text": [
      "1505\n",
      "1540\n",
      "1575\n",
      "1610\n",
      "1645\n",
      "1680\n",
      "1715\n",
      "1750\n",
      "1785\n",
      "1820\n",
      "1855\n",
      "1890\n",
      "1925\n",
      "1960\n",
      "1995\n",
      "2030\n",
      "2065\n",
      "2100\n",
      "2135\n",
      "2170\n",
      "2205\n",
      "2240\n",
      "2275\n",
      "2310\n",
      "2345\n",
      "2380\n",
      "2415\n",
      "2450\n",
      "2485\n",
      "2520\n",
      "2555\n",
      "2590\n",
      "2625\n",
      "2660\n",
      "2695\n",
      "215.0 301.0\n"
     ]
    }
   ],
   "source": [
    "'''\n",
    "Write a Python program to find those numbers which are divisible by 7 and multiple of 5, between 1500 and 2700 (both included)\n",
    "\n",
    "we have iterate from 1500 to 2700 \n",
    "check number is it divisible by 7 if it gives remainder as 0 remainder==0\n",
    "check number is multiple of 5\n",
    "\n",
    "'''\n",
    "\n",
    "# a=1500\n",
    "# while a<=2700:\n",
    "# #     some action\n",
    "#     a+=1\n",
    "\n",
    "for i in range(1500,2700+1):\n",
    "    if i%7 ==0 and i%5==0:\n",
    "        print(i)\n",
    "print(1505/7, 1505/5)"
   ]
  },
  {
   "cell_type": "code",
   "execution_count": null,
   "id": "1cb3b2d1",
   "metadata": {},
   "outputs": [],
   "source": []
  }
 ],
 "metadata": {
  "kernelspec": {
   "display_name": "Python 3",
   "language": "python",
   "name": "python3"
  },
  "language_info": {
   "codemirror_mode": {
    "name": "ipython",
    "version": 3
   },
   "file_extension": ".py",
   "mimetype": "text/x-python",
   "name": "python",
   "nbconvert_exporter": "python",
   "pygments_lexer": "ipython3",
   "version": "3.8.8"
  }
 },
 "nbformat": 4,
 "nbformat_minor": 5
}
