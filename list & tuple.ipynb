{
 "cells": [
  {
   "cell_type": "code",
   "execution_count": 1,
   "id": "372e35ee",
   "metadata": {},
   "outputs": [
    {
     "ename": "SyntaxError",
     "evalue": "cannot assign to literal (<ipython-input-1-3e7c06d8fb50>, line 13)",
     "output_type": "error",
     "traceback": [
      "\u001b[1;36m  File \u001b[1;32m\"<ipython-input-1-3e7c06d8fb50>\"\u001b[1;36m, line \u001b[1;32m13\u001b[0m\n\u001b[1;33m    a = 0, b=1\u001b[0m\n\u001b[1;37m        ^\u001b[0m\n\u001b[1;31mSyntaxError\u001b[0m\u001b[1;31m:\u001b[0m cannot assign to literal\n"
     ]
    }
   ],
   "source": [
    "# my_dict = {'name':'dipesh','age':25}\n",
    "# my_set= {'name','dipesh','age'}\n",
    "# my_set = set(['name','age'])\n",
    "\n",
    "# a,b = 'abc', 1+3\n",
    "# a=n\n",
    "# print(a,b)\n",
    "\n",
    "a,b=0,1\n",
    "\n",
    "while b<50:\n",
    "    print(b,end=\" \")\n",
    "    a = 0, b=1\n",
    "    a,b = b,a+b # a=1,b=0+1\n",
    "    a=b         # a=1\n",
    "    b=a+b       # b=1+1 =2"
   ]
  },
  {
   "cell_type": "code",
   "execution_count": 8,
   "id": "40171b51",
   "metadata": {},
   "outputs": [
    {
     "name": "stdout",
     "output_type": "stream",
     "text": [
      "[1, 2]\n",
      "1\n",
      "n\n"
     ]
    }
   ],
   "source": [
    "'''\n",
    "List: \n",
    "'''\n",
    "# ordered and unordered\n",
    "l = [1,2,3]\n",
    "t = (1,2)\n",
    "my_str = 'name'\n",
    "d = {'key':'value'}\n",
    "s = {1,2}\n",
    "\n",
    "print(l[0:2])\n",
    "print(t[0])\n",
    "print(my_str[0])\n",
    "#print(d[0]) #no index\n",
    "#print(s[0]) #no index\n",
    "l = [1,2,3,'abc',(1,2),['q','w'],{'abc':'cd'},{1,2}]"
   ]
  },
  {
   "cell_type": "code",
   "execution_count": 19,
   "id": "6af5cf61",
   "metadata": {},
   "outputs": [
    {
     "name": "stdout",
     "output_type": "stream",
     "text": [
      "1890333257088\n",
      "1890333257088\n",
      "[1, 2, 4, 5, ['ab', 'cd']]\n",
      "[1, 2, 3, 5, ['ab', 'cd']]\n",
      "[1, 2, 3, 3, 5, ['ab', 'cd']]\n",
      "[1, 2, 4, 5, 6, 7, 8]\n",
      "My list 1:  [1, 2, 4, 5]\n",
      "[1, 2, 4, 5, 6, 7, 8] [6, 7, 8]\n"
     ]
    }
   ],
   "source": [
    "my_list = [1,2,4,5]\n",
    "#append = list.append(item) #one item at a time\n",
    "print(id(my_list))\n",
    "my_list.append(['ab','cd'])\n",
    "print(id(my_list))\n",
    "print(my_list)\n",
    "#print('abc'+str(1))\n",
    "\n",
    "#replace\n",
    "my_list[2]=3\n",
    "print(my_list)\n",
    "\n",
    "\n",
    "#insert(index,item) \n",
    "my_list.insert(2,3)\n",
    "print(my_list)\n",
    "\n",
    "#extend(iterable)\n",
    "my_list2 = [6,7,8]\n",
    "my_list1+my_list2\n",
    "print(my_list1+my_list2)\n",
    "print(\"My list 1: \", my_list1)\n",
    "my_list1.extend(my_list2)\n",
    "print(my_list1, my_list2)\n",
    "\n"
   ]
  },
  {
   "cell_type": "code",
   "execution_count": 21,
   "id": "c624f8a7",
   "metadata": {},
   "outputs": [
    {
     "name": "stdout",
     "output_type": "stream",
     "text": [
      "[1, 2, 4, 5, 6, 7, 8, 'key1', 'key2', 'key1', 'key2']\n",
      "key1\n",
      "key2\n"
     ]
    }
   ],
   "source": [
    "my_dictionary = {\"key1\":'value1',\"key2\": \"value2\"}\n",
    "my_list1.extend(my_dictionary)\n",
    "\n",
    "print(my_list1)\n",
    "\n",
    "for i in my_dictionary:\n",
    "    print(i)"
   ]
  },
  {
   "cell_type": "code",
   "execution_count": 1,
   "id": "e2834d66",
   "metadata": {},
   "outputs": [
    {
     "name": "stdout",
     "output_type": "stream",
     "text": [
      "[0, 1, 2, 4, 7, 8]\n",
      "[8, 7, 4, 2, 1, 0]\n"
     ]
    }
   ],
   "source": [
    "# Write a python to sort a list\n",
    "# sample input = [4,7,2,8,1,0]\n",
    "# sample output = [0,1,2,4,7,8]\n",
    "unsorted_list = [4,7,2,8,1,0]\n",
    "unsorted_list.sort()\n",
    "print(unsorted_list)\n",
    "unsorted_list2 = [4,7,2,8,1,0]\n",
    "unsorted_list2.sort(reverse=True) \n",
    "#which we will dicuss later that is key=function\n",
    "print(unsorted_list2)"
   ]
  },
  {
   "cell_type": "code",
   "execution_count": 5,
   "id": "82cd652a",
   "metadata": {},
   "outputs": [
    {
     "name": "stdout",
     "output_type": "stream",
     "text": [
      "None\n"
     ]
    }
   ],
   "source": [
    "str_list = ['bcd','edyoda', 'python3', 'java', 'dipeshsharma']\n",
    "str_list.sort()\n",
    "print(str_list)"
   ]
  },
  {
   "cell_type": "code",
   "execution_count": 7,
   "id": "b156cee0",
   "metadata": {},
   "outputs": [
    {
     "name": "stdout",
     "output_type": "stream",
     "text": [
      "['b', 'a', 'c']\n",
      "['a', 'b', 'c']\n"
     ]
    }
   ],
   "source": [
    "alpha_list =['b','a','c']\n",
    "print(alpha_list)\n",
    "alpha_list.sort()\n",
    "print(alpha_list)"
   ]
  },
  {
   "cell_type": "code",
   "execution_count": 8,
   "id": "9b516d83",
   "metadata": {},
   "outputs": [
    {
     "name": "stdout",
     "output_type": "stream",
     "text": [
      "2\n"
     ]
    }
   ],
   "source": [
    "#index = list.index(item)\n",
    "my_list1 = [1,2,4,4,5,5,4,6,4]\n",
    "print(my_list1.index(4))"
   ]
  },
  {
   "cell_type": "code",
   "execution_count": 9,
   "id": "285632ff",
   "metadata": {},
   "outputs": [
    {
     "name": "stdout",
     "output_type": "stream",
     "text": [
      "2\n"
     ]
    }
   ],
   "source": [
    "#count = list.count(item)\n",
    "print(my_list1.count(5))"
   ]
  },
  {
   "cell_type": "code",
   "execution_count": 11,
   "id": "5807310d",
   "metadata": {},
   "outputs": [
    {
     "name": "stdout",
     "output_type": "stream",
     "text": [
      "[4, 4, 5, 5, 4, 6, 4]\n"
     ]
    }
   ],
   "source": [
    "del my_list1[0]\n",
    "print(my_list1)"
   ]
  },
  {
   "cell_type": "code",
   "execution_count": 15,
   "id": "5aeee1f6",
   "metadata": {},
   "outputs": [
    {
     "name": "stdout",
     "output_type": "stream",
     "text": [
      "[5, 5, 4, 6, 4]\n"
     ]
    }
   ],
   "source": [
    "my_list1.remove(4)\n",
    "print(my_list1)"
   ]
  },
  {
   "cell_type": "code",
   "execution_count": 16,
   "id": "83f7f759",
   "metadata": {},
   "outputs": [
    {
     "name": "stdout",
     "output_type": "stream",
     "text": [
      "['abc', 'cde']\n"
     ]
    }
   ],
   "source": [
    "my_list = ['abc','abc','cde']\n",
    "my_list.remove('abc')\n",
    "print(my_list)"
   ]
  },
  {
   "cell_type": "code",
   "execution_count": 13,
   "id": "04182ec3",
   "metadata": {},
   "outputs": [
    {
     "name": "stdout",
     "output_type": "stream",
     "text": [
      "[]\n"
     ]
    }
   ],
   "source": [
    "my_list = [1,2,3]\n",
    "my_list.clear()\n",
    "print(my_list)"
   ]
  },
  {
   "cell_type": "code",
   "execution_count": 14,
   "id": "971517f0",
   "metadata": {},
   "outputs": [
    {
     "name": "stdout",
     "output_type": "stream",
     "text": [
      "[1, 2, 3]\n",
      "[1, 3]\n"
     ]
    }
   ],
   "source": [
    "my_list = [1,2,3]\n",
    "print(my_list)\n",
    "my_list.pop(1)\n",
    "print(my_list)\n",
    "# popped_elem=my_list.pop(1)\n",
    "# print(poped_element)\n",
    "# print(my_list.pop(0))"
   ]
  },
  {
   "cell_type": "code",
   "execution_count": 17,
   "id": "b8177b6b",
   "metadata": {},
   "outputs": [
    {
     "name": "stdout",
     "output_type": "stream",
     "text": [
      "['abc', 'abc', 'cde']\n",
      "['cde']\n"
     ]
    }
   ],
   "source": [
    "my_list = ['abc','abc','cde']\n",
    "print(my_list)\n",
    "del my_list[0:2] \n",
    "print(my_list)"
   ]
  },
  {
   "cell_type": "code",
   "execution_count": 18,
   "id": "7fed6d59",
   "metadata": {},
   "outputs": [
    {
     "name": "stdout",
     "output_type": "stream",
     "text": [
      "2\n",
      "max of string tuple dbc\n",
      "max of string tuple abcdevfgb\n",
      "max of list:  9\n",
      "min of list:  1\n",
      "False\n"
     ]
    },
    {
     "data": {
      "text/plain": [
       "(1, 23)"
      ]
     },
     "execution_count": 18,
     "metadata": {},
     "output_type": "execute_result"
    }
   ],
   "source": [
    "dictionary= {\"key\":'value'}\n",
    "t= ('abcdevfgb','dbc')\n",
    "# t != 1\n",
    "# t[0] = 2\n",
    "print(len(t))\n",
    "print(\"max of string tuple\",max(t)) #max(t)\n",
    "print(\"max of string tuple\",min(t)) #will work list\n",
    "print(\"max of list: \",max([1,5,2,9]))\n",
    "print(\"min of list: \",min([\"1\",\"5\",\"2\",\"9\"]))\n",
    "# 'acadscds','dcdascd','bcdscs' > sorted : 'acadscds','bcdscs','dcdascd'\n",
    "# 'aab', 'aad', 'aac' > 'aab', 'aac', 'aad'\n",
    "print('A'>'a')\n",
    "tuple([1,23])"
   ]
  },
  {
   "cell_type": "code",
   "execution_count": 22,
   "id": "545d54a3",
   "metadata": {},
   "outputs": [
    {
     "name": "stdout",
     "output_type": "stream",
     "text": [
      "[0, 1, 2, 4, 7, 8]\n"
     ]
    }
   ],
   "source": [
    "'''\n",
    "result = []\n",
    "iterate element of loop\n",
    "itereate elements after the current element\n",
    "\n",
    "[4,7,2,8,1,0] > current elem > remaining of all\n",
    "curr_el= 4, next is 7\n",
    "curr_el= 4, next is 2 swap >>> after swaping our list will look like something\n",
    "[2,7,4,8,1,0] >> \n",
    "curr_el = 2, next=8\n",
    "curr_el = 2, next=1 swap >>> [1,7,4,8,2,0]\n",
    "curr_el = 1, next=0 swap >>> [0,7,4,8,2,1]\n",
    "'''\n",
    "my_list = [4,7,2,8,1,0]\n",
    "\n",
    "for index in range(0,len(my_list)):\n",
    "    current_element = my_list[index]\n",
    "    for next_index in range(index+1,len(my_list)):\n",
    "        next_element = my_list[next_index]\n",
    "        if current_element > next_element:\n",
    "            my_list[index] = next_element # my_list[index] = my_list[next_index]\n",
    "            my_list[next_index] = current_element\n",
    "            current_element=next_element\n",
    "            \n",
    "            \n",
    "print(my_list)"
   ]
  },
  {
   "cell_type": "code",
   "execution_count": null,
   "id": "c7913ccf",
   "metadata": {},
   "outputs": [],
   "source": []
  }
 ],
 "metadata": {
  "kernelspec": {
   "display_name": "Python 3",
   "language": "python",
   "name": "python3"
  },
  "language_info": {
   "codemirror_mode": {
    "name": "ipython",
    "version": 3
   },
   "file_extension": ".py",
   "mimetype": "text/x-python",
   "name": "python",
   "nbconvert_exporter": "python",
   "pygments_lexer": "ipython3",
   "version": "3.8.8"
  }
 },
 "nbformat": 4,
 "nbformat_minor": 5
}
