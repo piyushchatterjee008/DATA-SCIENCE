{
 "cells": [
  {
   "cell_type": "code",
   "execution_count": 1,
   "id": "ca93d634",
   "metadata": {},
   "outputs": [
    {
     "name": "stdout",
     "output_type": "stream",
     "text": [
      "16.0\n"
     ]
    }
   ],
   "source": [
    "from math import pow\n",
    "\n",
    "print(pow(2,4))"
   ]
  },
  {
   "cell_type": "code",
   "execution_count": 3,
   "id": "0a186c89",
   "metadata": {},
   "outputs": [
    {
     "name": "stdout",
     "output_type": "stream",
     "text": [
      "Happy\n"
     ]
    }
   ],
   "source": [
    "# moudle is single file ,cointains vearibles and functionsim\n",
    "\n",
    "from module import a\n",
    "print(a)\n"
   ]
  },
  {
   "cell_type": "code",
   "execution_count": 14,
   "id": "14513ecb",
   "metadata": {},
   "outputs": [
    {
     "name": "stdout",
     "output_type": "stream",
     "text": [
      "Happy\n",
      "happy b\n"
     ]
    }
   ],
   "source": [
    "import module\n",
    "\n",
    "print(module.a)\n",
    "print(module.b)"
   ]
  },
  {
   "cell_type": "code",
   "execution_count": 15,
   "id": "1322e091",
   "metadata": {},
   "outputs": [
    {
     "name": "stdout",
     "output_type": "stream",
     "text": [
      "Hello  assa !!!\n"
     ]
    }
   ],
   "source": [
    "from module import print_name\n",
    "\n",
    "print_name(\"assa\")"
   ]
  },
  {
   "cell_type": "code",
   "execution_count": 16,
   "id": "4c40a287",
   "metadata": {},
   "outputs": [
    {
     "name": "stdout",
     "output_type": "stream",
     "text": [
      "test\n"
     ]
    }
   ],
   "source": [
    "from module import test\n",
    "\n",
    "a =test\n",
    "test()"
   ]
  },
  {
   "cell_type": "code",
   "execution_count": 19,
   "id": "26f23f84",
   "metadata": {},
   "outputs": [
    {
     "ename": "ModuleNotFoundError",
     "evalue": "No module named 'package_name'",
     "output_type": "error",
     "traceback": [
      "\u001b[1;31m---------------------------------------------------------------------------\u001b[0m",
      "\u001b[1;31mModuleNotFoundError\u001b[0m                       Traceback (most recent call last)",
      "\u001b[1;32m<ipython-input-19-0eb8aa843e9c>\u001b[0m in \u001b[0;36m<module>\u001b[1;34m\u001b[0m\n\u001b[0;32m      1\u001b[0m \u001b[1;31m#directly import module\u001b[0m\u001b[1;33m\u001b[0m\u001b[1;33m\u001b[0m\u001b[1;33m\u001b[0m\u001b[0m\n\u001b[1;32m----> 2\u001b[1;33m \u001b[1;32mimport\u001b[0m \u001b[0mpackage_name\u001b[0m\u001b[1;33m.\u001b[0m\u001b[0mmodule_name\u001b[0m\u001b[1;33m\u001b[0m\u001b[1;33m\u001b[0m\u001b[0m\n\u001b[0m\u001b[0;32m      3\u001b[0m \u001b[1;31m#then use method/variable\u001b[0m\u001b[1;33m\u001b[0m\u001b[1;33m\u001b[0m\u001b[1;33m\u001b[0m\u001b[0m\n\u001b[0;32m      4\u001b[0m \u001b[1;31m#emi_calculator.module_name\u001b[0m\u001b[1;33m\u001b[0m\u001b[1;33m\u001b[0m\u001b[1;33m\u001b[0m\u001b[0m\n\u001b[0;32m      5\u001b[0m \u001b[1;33m\u001b[0m\u001b[0m\n",
      "\u001b[1;31mModuleNotFoundError\u001b[0m: No module named 'package_name'"
     ]
    }
   ],
   "source": [
    "#directly import module\n",
    "import package_name.module_name\n",
    "#then use method/variable\n",
    "#emi_calculator.module_name\n",
    "\n",
    "#import method or varibale from module\n",
    "from package_name.module_name import emi_calc, module_name\n",
    "print(emi_calc(48000,12))\n",
    "print(module_name)\n",
    "\n",
    "#import everything \n",
    "from package_name.module_name import *"
   ]
  },
  {
   "cell_type": "code",
   "execution_count": 1,
   "id": "450ab498",
   "metadata": {},
   "outputs": [
    {
     "ename": "ModuleNotFoundError",
     "evalue": "No module named 'my_package.emi_calculator_module'",
     "output_type": "error",
     "traceback": [
      "\u001b[1;31m---------------------------------------------------------------------------\u001b[0m",
      "\u001b[1;31mModuleNotFoundError\u001b[0m                       Traceback (most recent call last)",
      "\u001b[1;32m<ipython-input-1-f3f7f5d635cf>\u001b[0m in \u001b[0;36m<module>\u001b[1;34m\u001b[0m\n\u001b[1;32m----> 1\u001b[1;33m \u001b[1;32mfrom\u001b[0m \u001b[0mmy_package\u001b[0m\u001b[1;33m.\u001b[0m\u001b[0memi_calculator_module\u001b[0m \u001b[1;32mimport\u001b[0m \u001b[0memi_calc1\u001b[0m\u001b[1;33m,\u001b[0m \u001b[0mtest_funct1\u001b[0m\u001b[1;33m\u001b[0m\u001b[1;33m\u001b[0m\u001b[0m\n\u001b[0m\u001b[0;32m      2\u001b[0m \u001b[1;32mfrom\u001b[0m \u001b[0mmy_package\u001b[0m\u001b[1;33m.\u001b[0m\u001b[0memi_calculator_module2\u001b[0m \u001b[1;32mimport\u001b[0m \u001b[0memi_calc2\u001b[0m\u001b[1;33m,\u001b[0m \u001b[0mtest_funct2\u001b[0m\u001b[1;33m\u001b[0m\u001b[1;33m\u001b[0m\u001b[0m\n\u001b[0;32m      3\u001b[0m \u001b[0mprint\u001b[0m\u001b[1;33m(\u001b[0m\u001b[0memi_calc1\u001b[0m\u001b[1;33m(\u001b[0m\u001b[1;36m480000\u001b[0m\u001b[1;33m,\u001b[0m\u001b[1;36m9\u001b[0m\u001b[1;33m)\u001b[0m\u001b[1;33m)\u001b[0m\u001b[1;33m\u001b[0m\u001b[1;33m\u001b[0m\u001b[0m\n\u001b[0;32m      4\u001b[0m \u001b[0mtest_funct1\u001b[0m\u001b[1;33m(\u001b[0m\u001b[1;33m)\u001b[0m\u001b[1;33m\u001b[0m\u001b[1;33m\u001b[0m\u001b[0m\n\u001b[0;32m      5\u001b[0m \u001b[0mprint\u001b[0m\u001b[1;33m(\u001b[0m\u001b[1;34m\"going into module 2\"\u001b[0m\u001b[1;33m)\u001b[0m\u001b[1;33m\u001b[0m\u001b[1;33m\u001b[0m\u001b[0m\n",
      "\u001b[1;31mModuleNotFoundError\u001b[0m: No module named 'my_package.emi_calculator_module'"
     ]
    }
   ],
   "source": [
    "from my_package.emi_calculator_module import emi_calc1, test_funct1\n",
    "from my_package.emi_calculator_module2 import emi_calc2, test_funct2\n",
    "print(emi_calc1(480000,9))\n",
    "test_funct1()\n",
    "print(\"going into module 2\")\n",
    "emi_calc2(54000,4)\n",
    "test_funct2()"
   ]
  },
  {
   "cell_type": "code",
   "execution_count": null,
   "id": "26dc4767",
   "metadata": {},
   "outputs": [],
   "source": []
  }
 ],
 "metadata": {
  "kernelspec": {
   "display_name": "Python 3",
   "language": "python",
   "name": "python3"
  },
  "language_info": {
   "codemirror_mode": {
    "name": "ipython",
    "version": 3
   },
   "file_extension": ".py",
   "mimetype": "text/x-python",
   "name": "python",
   "nbconvert_exporter": "python",
   "pygments_lexer": "ipython3",
   "version": "3.8.8"
  }
 },
 "nbformat": 4,
 "nbformat_minor": 5
}
