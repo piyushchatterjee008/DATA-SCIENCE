{
 "cells": [
  {
   "cell_type": "code",
   "execution_count": 3,
   "id": "400821d9",
   "metadata": {},
   "outputs": [
    {
     "name": "stdout",
     "output_type": "stream",
     "text": [
      "The lyrics is good. We are all happy now\n"
     ]
    }
   ],
   "source": [
    "x = 'The lyrics is not blah blah blah poor. We are all happy now'\n",
    "b = x.find('not')\n",
    "c = x.find('poor')\n",
    "\n",
    "if c>b:\n",
    "    print(x[:b]+'good'+x[c+len('poor'):])"
   ]
  },
  {
   "cell_type": "code",
   "execution_count": 4,
   "id": "493cee56",
   "metadata": {},
   "outputs": [
    {
     "data": {
      "text/plain": [
       "'The lyrics is good. We are all happy now'"
      ]
     },
     "execution_count": 4,
     "metadata": {},
     "output_type": "execute_result"
    }
   ],
   "source": [
    "import re\n",
    "x = 'The lyrics is not that poor. We are all happy now'\n",
    "regx = 'not.*poor'\n",
    "m = re.search(regx,x)\n",
    "x.replace(x[m.span()[0]:m.span()[1]],\"good\")"
   ]
  },
  {
   "cell_type": "code",
   "execution_count": 5,
   "id": "6b00517d",
   "metadata": {},
   "outputs": [
    {
     "data": {
      "text/plain": [
       "(14, 27)"
      ]
     },
     "execution_count": 5,
     "metadata": {},
     "output_type": "execute_result"
    }
   ],
   "source": [
    "m.span()"
   ]
  },
  {
   "cell_type": "code",
   "execution_count": 6,
   "id": "4ea08b3e",
   "metadata": {},
   "outputs": [
    {
     "data": {
      "text/plain": [
       "14"
      ]
     },
     "execution_count": 6,
     "metadata": {},
     "output_type": "execute_result"
    }
   ],
   "source": [
    "m.span()[0]"
   ]
  },
  {
   "cell_type": "code",
   "execution_count": 7,
   "id": "d3ee38d4",
   "metadata": {},
   "outputs": [
    {
     "data": {
      "text/plain": [
       "27"
      ]
     },
     "execution_count": 7,
     "metadata": {},
     "output_type": "execute_result"
    }
   ],
   "source": [
    "m.span()[1]"
   ]
  },
  {
   "cell_type": "code",
   "execution_count": 9,
   "id": "710046eb",
   "metadata": {},
   "outputs": [
    {
     "data": {
      "text/plain": [
       "'not that poor. We are a'"
      ]
     },
     "execution_count": 9,
     "metadata": {},
     "output_type": "execute_result"
    }
   ],
   "source": [
    "x[14:37]"
   ]
  },
  {
   "cell_type": "code",
   "execution_count": 10,
   "id": "a0b7937e",
   "metadata": {},
   "outputs": [
    {
     "data": {
      "text/plain": [
       "'The lyrics is good. We are all happy now'"
      ]
     },
     "execution_count": 10,
     "metadata": {},
     "output_type": "execute_result"
    }
   ],
   "source": [
    "x.replace(x[m.span()[0]:m.span()[1]],\"good\")"
   ]
  },
  {
   "cell_type": "code",
   "execution_count": 11,
   "id": "1d0405a2",
   "metadata": {},
   "outputs": [],
   "source": [
    "import re\n",
    "x = 'The lyrics is not that poor. We are all happy now'\n",
    "regx = 'not.*poor'\n",
    "m = re.search(regx,x)"
   ]
  },
  {
   "cell_type": "code",
   "execution_count": 13,
   "id": "f7115034",
   "metadata": {},
   "outputs": [
    {
     "name": "stdout",
     "output_type": "stream",
     "text": [
      "<re.Match object; span=(14, 27), match='not that poor'>\n"
     ]
    }
   ],
   "source": [
    "print(m)"
   ]
  },
  {
   "cell_type": "code",
   "execution_count": 14,
   "id": "bde7db33",
   "metadata": {},
   "outputs": [
    {
     "data": {
      "text/plain": [
       "14"
      ]
     },
     "execution_count": 14,
     "metadata": {},
     "output_type": "execute_result"
    }
   ],
   "source": [
    "m.span()[0]"
   ]
  },
  {
   "cell_type": "code",
   "execution_count": 15,
   "id": "70649166",
   "metadata": {},
   "outputs": [
    {
     "data": {
      "text/plain": [
       "27"
      ]
     },
     "execution_count": 15,
     "metadata": {},
     "output_type": "execute_result"
    }
   ],
   "source": [
    "m.span()[1]"
   ]
  },
  {
   "cell_type": "code",
   "execution_count": null,
   "id": "18c8d143",
   "metadata": {},
   "outputs": [],
   "source": [
    "# questions using functions\n",
    "Peak element problem\n",
    "\n",
    "Hint: Deal with edge test cases.\n",
    "    peak element is first or the last one."
   ]
  },
  {
   "cell_type": "code",
   "execution_count": 16,
   "id": "615d8224",
   "metadata": {},
   "outputs": [
    {
     "name": "stdout",
     "output_type": "stream",
     "text": [
      "0\n",
      "2\n"
     ]
    }
   ],
   "source": [
    "x = [1,2]\n",
    "for i in range(len(x) - 1):\n",
    "    print(i)\n",
    "    print(x[i+1])\n",
    "    \n",
    "# make sure that i+1 =>last_index_position\n",
    "# i => last_index_position - 1\n",
    "# i => len(x) - 1 - 1\n",
    "# i => len(x) - 2 + 1 => len(x) - 1"
   ]
  },
  {
   "cell_type": "code",
   "execution_count": 17,
   "id": "c48c0870",
   "metadata": {},
   "outputs": [
    {
     "name": "stdout",
     "output_type": "stream",
     "text": [
      "20\n",
      "90\n"
     ]
    }
   ],
   "source": [
    "a =[10,20,15,2,23,90,67]\n",
    "for i in range(0,len(a)-1):\n",
    "    if a[i]>a[i-1]and a[i]>a[i+1]:\n",
    "        print(a[i])"
   ]
  },
  {
   "cell_type": "code",
   "execution_count": 18,
   "id": "8b38f2b7",
   "metadata": {},
   "outputs": [
    {
     "name": "stdout",
     "output_type": "stream",
     "text": [
      "93\n",
      "20\n",
      "90\n"
     ]
    }
   ],
   "source": [
    "a =[10,20,15,2,23,90,67,93]\n",
    "m = len(a)\n",
    "if m == 1:\n",
    "    print(a[0])\n",
    "else:\n",
    "# if first or last element is peak\n",
    "    if a[0] > a[1]:\n",
    "        print(a[0])\n",
    "    if a[m-1] > a[m-2]:\n",
    "        print(a[m-1])\n",
    "# testing for middle elements\n",
    "    for i in range(1,m-1):\n",
    "        if a[i]>a[i-1]and a[i]>a[i+1]:\n",
    "            print(a[i])"
   ]
  },
  {
   "cell_type": "code",
   "execution_count": null,
   "id": "d79f8b05",
   "metadata": {},
   "outputs": [],
   "source": [
    "Sort the Array/list of 0s,1s,2s"
   ]
  },
  {
   "cell_type": "code",
   "execution_count": 19,
   "id": "9d7dd7a7",
   "metadata": {},
   "outputs": [
    {
     "name": "stdout",
     "output_type": "stream",
     "text": [
      "[0, 0, 0, 1, 1, 1, 1, 2, 2, 2]\n"
     ]
    }
   ],
   "source": [
    "x = [0,2,0,1,1,2,0,2,1,1]\n",
    "count_0 = 0\n",
    "count_1 = 0\n",
    "count_2 = 0\n",
    "final = []\n",
    "for i in x:\n",
    "    if i == 0:\n",
    "        count_0+=1\n",
    "    elif i == 1:\n",
    "        count_1+=1\n",
    "    else:\n",
    "        count_2+=1\n",
    "# print(count_0,count_1,count_2)\n",
    "for i in range(count_0):\n",
    "    final.append(0)\n",
    "for i in range(count_1):\n",
    "    final.append(1)\n",
    "for i in range(count_2):\n",
    "    final.append(2)\n",
    "print(final)"
   ]
  },
  {
   "cell_type": "code",
   "execution_count": 20,
   "id": "682b0414",
   "metadata": {},
   "outputs": [
    {
     "name": "stdout",
     "output_type": "stream",
     "text": [
      "[0, 0, 0, 1, 1, 1, 1, 2, 2, 2]\n"
     ]
    }
   ],
   "source": [
    "final = []\n",
    "x = [0,2,0,1,1,2,0,2,1,1]\n",
    "for i in range(x.count(0)):\n",
    "    final.append(0)\n",
    "for i in range(x.count(1)):\n",
    "    final.append(1)\n",
    "for i in range(x.count(2)):\n",
    "    final.append(2)\n",
    "print(final)"
   ]
  },
  {
   "cell_type": "code",
   "execution_count": 21,
   "id": "252f884b",
   "metadata": {},
   "outputs": [
    {
     "name": "stdout",
     "output_type": "stream",
     "text": [
      "[0, 0, 0, 1, 1, 1, 1, 2, 2, 2]\n"
     ]
    }
   ],
   "source": [
    "final = []\n",
    "x = [0,2,0,1,1,2,0,2,1,1]\n",
    "for j in [0,1,2]:\n",
    "    for i in range(x.count(j)):\n",
    "        final.append(j)\n",
    "print(final)"
   ]
  },
  {
   "cell_type": "code",
   "execution_count": null,
   "id": "64ee3ab4",
   "metadata": {},
   "outputs": [],
   "source": []
  }
 ],
 "metadata": {
  "kernelspec": {
   "display_name": "Python 3",
   "language": "python",
   "name": "python3"
  },
  "language_info": {
   "codemirror_mode": {
    "name": "ipython",
    "version": 3
   },
   "file_extension": ".py",
   "mimetype": "text/x-python",
   "name": "python",
   "nbconvert_exporter": "python",
   "pygments_lexer": "ipython3",
   "version": "3.8.8"
  }
 },
 "nbformat": 4,
 "nbformat_minor": 5
}
