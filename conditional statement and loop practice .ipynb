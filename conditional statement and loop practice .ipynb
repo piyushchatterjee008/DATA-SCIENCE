{
 "cells": [
  {
   "cell_type": "code",
   "execution_count": 1,
   "id": "ebe3c2a1",
   "metadata": {},
   "outputs": [
    {
     "name": "stdout",
     "output_type": "stream",
     "text": [
      "0\n",
      "14\n"
     ]
    }
   ],
   "source": [
    "'''\n",
    "Bitwise operator\n",
    "1. bitwise AND &\n",
    "2. bitwise OR  |\n",
    "3. bitwise Not ~\n",
    "4. bitwise XOR ^\n",
    "5. bitwise right shift = >>\n",
    "6. bitwise left shift = <<\n",
    "'''\n",
    "\n",
    "a = 10 #= 1010\n",
    "b = 4 #= 0100\n",
    "\n",
    "'''\n",
    "1 = True\n",
    "0 = False\n",
    "\n",
    "1010\n",
    "0100\n",
    "-----\n",
    "0000\n",
    "\n",
    "'''\n",
    "print(a&b)\n",
    "print(a|b)"
   ]
  },
  {
   "cell_type": "code",
   "execution_count": 7,
   "id": "bdf97968",
   "metadata": {},
   "outputs": [
    {
     "name": "stdout",
     "output_type": "stream",
     "text": [
      "you are not eligible\n"
     ]
    }
   ],
   "source": [
    "a = 12\n",
    "condition_result1 = a>20\n",
    "condition_result2 = a>=18\n",
    "\n",
    "'''\n",
    "if age is greater than 20 => Eligble\n",
    "if age is lesser but it is equal to 18 => Eligible\n",
    "if age is lesser but it is not equal to 18 => Not Eligible\n",
    "'''\n",
    "\n",
    "if condition_result1:\n",
    "    print('your are eligible')\n",
    "elif condition_result2:\n",
    "    print('your r eligible')\n",
    "else:\n",
    "    print('you are not eligible')"
   ]
  },
  {
   "cell_type": "code",
   "execution_count": 13,
   "id": "8e2a18f7",
   "metadata": {},
   "outputs": [
    {
     "name": "stdout",
     "output_type": "stream",
     "text": [
      "you are not eligible\n"
     ]
    }
   ],
   "source": [
    "a = 12\n",
    "condition_result1 = a>20\n",
    "condition_result2 = a>=18\n",
    "\n",
    "if condition_result1 or condition_result2:\n",
    "    print(\"you are eligble\")\n",
    "else:\n",
    "    print(\"you are not eligible\")\n",
    "    "
   ]
  },
  {
   "cell_type": "code",
   "execution_count": 18,
   "id": "fd10f1c3",
   "metadata": {},
   "outputs": [
    {
     "name": "stdout",
     "output_type": "stream",
     "text": [
      "False\n",
      "False\n",
      "True\n",
      "False\n",
      "False\n",
      "False\n",
      "True\n",
      "True\n",
      "True\n"
     ]
    }
   ],
   "source": [
    "bool(\"false\")\n",
    "\n",
    "'''\n",
    "there are some values for which bool() will give false\n",
    "None\n",
    "False\n",
    "0, 0.0, 0j\n",
    "[], (), '', {}\n",
    "__bool__(): return False #ignore this if not clear\n",
    "'''\n",
    "print(bool(None))\n",
    "print(bool(False))\n",
    "print(bool(True))\n",
    "print(bool(0))\n",
    "print(bool(0.0))\n",
    "print(bool([]))\n",
    "print(bool([1,2]))\n",
    "print(bool(\"Name\"))\n",
    "print(bool(\" \"))"
   ]
  },
  {
   "cell_type": "code",
   "execution_count": 21,
   "id": "7c84fc32",
   "metadata": {},
   "outputs": [
    {
     "name": "stdout",
     "output_type": "stream",
     "text": [
      "[4, 5]\n",
      "[4, 5]\n"
     ]
    }
   ],
   "source": [
    "#slicing\n",
    "# slicing can only be perform on iterable\n",
    "# a = [1,2,3]\n",
    "# print(a) #print(a)\n",
    "# print([1,2,3])\n",
    "\n",
    "MY_LIST=[0, 1, 2, 3, 4, 5]\n",
    "# Make slice of 0,1,2\n",
    "# my_list[index(0) or index values of 1st memeber : index(2)+1 or index values of 4th meneber]\n",
    "\n",
    "# Make slice of 3,4,5\n",
    "# my_list[index(3) or index values of 4th memeber : index(5)+1 or index values of 5th meneber+1]\n",
    "\n",
    "\n",
    "my_str = \"Dipesh Sharma\"\n",
    "#Syntax for slicing\n",
    "#(<iterable>)[starting_index:ending_index]\n",
    "#(<iterable>)[starting_index:ending_index:jump]\n",
    "#(<iterable>)[:ending_index]\n",
    "#(<iterable>)[starting_index:]\n",
    "\n",
    "print(MY_LIST[-2:])\n",
    "print([0, 1, 2, 3, 4, 5][-2:])"
   ]
  },
  {
   "cell_type": "code",
   "execution_count": 26,
   "id": "0db23d58",
   "metadata": {},
   "outputs": [
    {
     "name": "stdout",
     "output_type": "stream",
     "text": [
      "vowel : a\n"
     ]
    }
   ],
   "source": [
    "# Write a Python program to check whether an alphabet is a vowel or consonant\n",
    "\n",
    "s='a' #s.lower()='a'\n",
    "#l=['a','e','i','o','u',\"A\",\"E\",\"I\",\"O\",\"U\"]\n",
    "my_str='aeiouAEIOU'\n",
    "if s in my_str:\n",
    "    print(\"vowel :\",s)\n",
    "else:\n",
    "    print(\"consonent :\",s)"
   ]
  },
  {
   "cell_type": "code",
   "execution_count": 33,
   "id": "0f504673",
   "metadata": {},
   "outputs": [
    {
     "ename": "SyntaxError",
     "evalue": "EOL while scanning string literal (<ipython-input-33-22e316c4de6e>, line 5)",
     "output_type": "error",
     "traceback": [
      "\u001b[1;36m  File \u001b[1;32m\"<ipython-input-33-22e316c4de6e>\"\u001b[1;36m, line \u001b[1;32m5\u001b[0m\n\u001b[1;33m    print('vowel :',s\")\u001b[0m\n\u001b[1;37m                       ^\u001b[0m\n\u001b[1;31mSyntaxError\u001b[0m\u001b[1;31m:\u001b[0m EOL while scanning string literal\n"
     ]
    }
   ],
   "source": [
    "s=input(\" \")\n",
    "l=[\"a\",\"e\",\"i\",\"o\",\"u\",\"A\",\"E\",\"I\",\"O\",\"U\"]\n",
    "\n",
    "if s in l:\n",
    "    print('vowel :',s\")\n",
    "else:\n",
    "    print('consonent:'s\")"
   ]
  },
  {
   "cell_type": "code",
   "execution_count": 32,
   "id": "4b185b48",
   "metadata": {},
   "outputs": [
    {
     "name": "stdout",
     "output_type": "stream",
     "text": [
      "hello i'm curretnly at member:  E\n",
      "result values before adding 1:  0\n",
      "result values after adding 1:  1\n",
      "hello i'm curretnly at member:  d\n",
      "result values before adding 1:  1\n",
      "result values after adding 1:  2\n",
      "hello i'm curretnly at member:  Y\n",
      "result values before adding 1:  2\n",
      "result values after adding 1:  3\n",
      "hello i'm curretnly at member:  o\n",
      "result values before adding 1:  3\n",
      "result values after adding 1:  4\n",
      "hello i'm curretnly at member:  d\n",
      "result values before adding 1:  4\n",
      "result values after adding 1:  5\n",
      "hello i'm curretnly at member:  a\n",
      "result values before adding 1:  5\n",
      "result values after adding 1:  6\n",
      "6 6\n"
     ]
    }
   ],
   "source": [
    "result = 0\n",
    "for i in 'EdYoda':\n",
    "    print(\"hello i'm curretnly at member: \", i)\n",
    "    print(\"result values before adding 1: \", result)\n",
    "    #Adding 1 into result\n",
    "    result = result + 1\n",
    "    print(\"result values after adding 1: \", result)\n",
    "print(result, len('edyoda'))\n",
    "    "
   ]
  }
 ],
 "metadata": {
  "kernelspec": {
   "display_name": "Python 3",
   "language": "python",
   "name": "python3"
  },
  "language_info": {
   "codemirror_mode": {
    "name": "ipython",
    "version": 3
   },
   "file_extension": ".py",
   "mimetype": "text/x-python",
   "name": "python",
   "nbconvert_exporter": "python",
   "pygments_lexer": "ipython3",
   "version": "3.8.8"
  }
 },
 "nbformat": 4,
 "nbformat_minor": 5
}
