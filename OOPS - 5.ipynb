{
 "cells": [
  {
   "cell_type": "code",
   "execution_count": 1,
   "id": "b6a9e009",
   "metadata": {},
   "outputs": [
    {
     "name": "stdout",
     "output_type": "stream",
     "text": [
      "father class object creating\n",
      "father class first name\n",
      "sunil\n",
      "father class last name\n",
      "kumar\n",
      "father class object creating\n",
      "father class first name\n",
      "ishant\n",
      "False True\n"
     ]
    }
   ],
   "source": [
    "class Father():\n",
    "    \n",
    "    def __init__(self,first_name,last_name):\n",
    "        print(\"father class object creating\")\n",
    "        \n",
    "        self.first_name=first_name\n",
    "        self.last_name=last_name\n",
    "        \n",
    "    def get_last_name(self):\n",
    "        print('father class last name')\n",
    "        return self.last_name\n",
    "    \n",
    "    def get_first_name(self):\n",
    "        print('father class first name')\n",
    "        return self.first_name\n",
    "    \n",
    "    def is_son(self):\n",
    "        return False\n",
    "    \n",
    "    def is_father(self):\n",
    "        return True\n",
    "\n",
    "f1 =Father('sunil','kumar')\n",
    "\n",
    "print(f1.get_first_name())\n",
    "print(f1.get_last_name())\n",
    "\n",
    "#syntax of inheritance\n",
    "\n",
    "class Son(Father):\n",
    "    \n",
    "#     def __init__(self):\n",
    "#         pass\n",
    "    def is_son(self):\n",
    "        return True\n",
    "    \n",
    "    def is_father(self):\n",
    "        return False\n",
    "    \n",
    "    pass\n",
    "    \n",
    "s1 = Son('ishant','sharma')\n",
    "print(s1.get_first_name())\n",
    "print(s1.is_father(), s1.is_son())\n"
   ]
  },
  {
   "cell_type": "code",
   "execution_count": 1,
   "id": "0e53f82f",
   "metadata": {},
   "outputs": [
    {
     "name": "stdout",
     "output_type": "stream",
     "text": [
      "son class object creating\n",
      "father class object creating\n",
      "janki\n",
      "Ishant\n",
      "father class object creating\n",
      "father class method\n",
      "True\n"
     ]
    }
   ],
   "source": [
    "class Father():\n",
    "    \n",
    "    def __init__(self,first_name,last_name):\n",
    "        print(\"father class object creating\")\n",
    "        self.first_name = first_name\n",
    "        self.last_name = last_name\n",
    "    \n",
    "    def is_father(self):\n",
    "        print(\"father class method\")\n",
    "        return True\n",
    "        \n",
    "# f1 = Father('sanjay','sharma')\n",
    "# print(f1.get_first_name())\n",
    "# print(f1.get_last_name())\n",
    "# print(f1.is_father())\n",
    "\n",
    "#syntax of inheritance\n",
    "#single inheritance\n",
    "class Son():\n",
    "    \n",
    "    def __init__(self,first_name,last_name,mother_name):\n",
    "        print(\"son class object creating\")\n",
    "        Father.__init__(self,first_name,last_name)\n",
    "        self.mother_name = mother_name\n",
    "    \n",
    "    def is_father(self):\n",
    "        print(\"son class method\")\n",
    "        return False\n",
    "    pass\n",
    "    \n",
    "s1 = Son('Ishant','sharma','janki')\n",
    "print(s1.mother_name)\n",
    "print(s1.first_name)\n",
    "# print(s1.is_father())\n",
    "\n",
    "class grandSon(Father):\n",
    "    pass\n",
    "\n",
    "print(grandSon('a','b').is_father())"
   ]
  },
  {
   "cell_type": "code",
   "execution_count": 2,
   "id": "9597b653",
   "metadata": {},
   "outputs": [
    {
     "name": "stdout",
     "output_type": "stream",
     "text": [
      "Mother class object creating\n",
      "Mother class method\n",
      "True\n",
      "father class method\n",
      "True\n"
     ]
    }
   ],
   "source": [
    "class Father():\n",
    "    \n",
    "    def __init__(self,first_name,last_name):\n",
    "        print(\"father class object creating\")\n",
    "        self.first_name = first_name\n",
    "        self.last_name = last_name\n",
    "    \n",
    "    def is_father(self):\n",
    "        print(\"father class method\")\n",
    "        return True\n",
    "        \n",
    "# f1 = Father('sanjay','sharma')\n",
    "# print(f1.get_first_name())\n",
    "# print(f1.get_last_name())\n",
    "# print(f1.is_father())\n",
    "\n",
    "\n",
    "class Mother():\n",
    "    \n",
    "    def __init__(self,first_name,last_name):\n",
    "        print(\"Mother class object creating\")\n",
    "        self.first_name = first_name\n",
    "        self.last_name = last_name\n",
    "    \n",
    "    def is_mother(self):\n",
    "        print(\"Mother class method\")\n",
    "        return True\n",
    "    \n",
    "#syntax of inheritance\n",
    "#multiple inheritance\n",
    "class Son(Mother, Father):\n",
    "    pass\n",
    "    \n",
    "s1 = Son('Ishant','sharma')\n",
    "print(s1.is_mother())\n",
    "print(s1.is_father())\n",
    "# print(s1.is_father())"
   ]
  },
  {
   "cell_type": "code",
   "execution_count": 3,
   "id": "9e3876af",
   "metadata": {},
   "outputs": [],
   "source": [
    "class user():\n",
    "    def __init__(self,name):\n",
    "        self.name = name\n",
    "        \n",
    "    def login(self):\n",
    "        return \"Logged in\"\n",
    "    \n",
    "    def logout(self):\n",
    "        return \"Logged out\"\n",
    "    \n",
    "class shopOwner(user):\n",
    "    \n",
    "    def add_product(self):\n",
    "        return \"product Added\"\n",
    "  \n",
    "# multi-level inheritance\n",
    "class admin(shopOwner):\n",
    "    \n",
    "    def add_shop(self):\n",
    "        return \"shop added\"\n",
    "    \n",
    "    \n",
    "class customer(user):\n",
    "    \n",
    "    def purchase_product(self):\n",
    "        return \"Product \""
   ]
  },
  {
   "cell_type": "code",
   "execution_count": 4,
   "id": "4137776e",
   "metadata": {},
   "outputs": [],
   "source": [
    "class user():\n",
    "    def __init__(self,name):\n",
    "        self.name = name\n",
    "        \n",
    "    def login(self):\n",
    "        return \"Logged in\"\n",
    "    \n",
    "    def logout(self):\n",
    "        return \"Logged out\"\n",
    "    \n",
    "class shopOwner(user):\n",
    "    \n",
    "    def add_product(self):\n",
    "        return \"product Added\"\n",
    "    \n",
    "#Heirarichle inheritance    \n",
    "class customer(user):\n",
    "    \n",
    "    def purchase_product(self):\n",
    "        return \"Product\""
   ]
  },
  {
   "cell_type": "code",
   "execution_count": 5,
   "id": "a29b31a1",
   "metadata": {},
   "outputs": [],
   "source": [
    "class user():\n",
    "    def __init__(self,name):\n",
    "        self.name = name\n",
    "        \n",
    "    def login(self):\n",
    "        return \"Logged in\"\n",
    "    \n",
    "    def logout(self):\n",
    "        return \"Logged out\"\n",
    "    \n",
    "class shopOwner(user):\n",
    "    \n",
    "    def add_product(self):\n",
    "        return \"product Added\"\n",
    "\n",
    "class Permission():\n",
    "    pass\n",
    "    \n",
    "# Hybrid = multiple, multilevel inheritance\n",
    "class admin(shopOwner,Permission):\n",
    "    \n",
    "    def add_shop(self):\n",
    "        return \"shop added\""
   ]
  },
  {
   "cell_type": "code",
   "execution_count": 6,
   "id": "35b7dea9",
   "metadata": {},
   "outputs": [
    {
     "name": "stdout",
     "output_type": "stream",
     "text": [
      "father class\n",
      "Mother class\n",
      "Son class\n",
      "Sanjay Soni\n",
      "Father Mother SON\n"
     ]
    }
   ],
   "source": [
    "class Father():\n",
    "    \n",
    "    def __init__(self,father_name):\n",
    "        print(\"father class\")\n",
    "        self.father_name = father_name\n",
    "    \n",
    "    def is_father(self):\n",
    "        return \"Father\"\n",
    "    \n",
    "class Mother():\n",
    "    \n",
    "    def __init__(self,mother_name):\n",
    "        print(\"Mother class\")\n",
    "        self.mother_name = mother_name\n",
    "    \n",
    "    def is_mother(self):\n",
    "        return \"Mother\"\n",
    "    \n",
    "    \n",
    "class Son(Father, Mother):\n",
    "    def __init__(self,father_name,mother_name):\n",
    "        Father.__init__(self,father_name)\n",
    "        Mother.__init__(self,mother_name)\n",
    "        print(\"Son class\")\n",
    "    def is_son(self):\n",
    "        return \"SON\"\n",
    "    \n",
    "s1=Son(\"Sanjay\",\"Soni\")\n",
    "print(s1.father_name, s1.mother_name)\n",
    "print(s1.is_father(),s1.is_mother(),s1.is_son())"
   ]
  },
  {
   "cell_type": "code",
   "execution_count": 7,
   "id": "ea5a7f97",
   "metadata": {},
   "outputs": [
    {
     "name": "stdout",
     "output_type": "stream",
     "text": [
      "2\n",
      "6\n"
     ]
    }
   ],
   "source": [
    "def product(a,b):\n",
    "    return a*b\n",
    "\n",
    "print(product(1,2))\n",
    "\n",
    "def product(a,b,c):\n",
    "    return a*b*c\n",
    "\n",
    "\n",
    "print(product(1,2,3))"
   ]
  },
  {
   "cell_type": "code",
   "execution_count": 8,
   "id": "163f3871",
   "metadata": {},
   "outputs": [
    {
     "name": "stdout",
     "output_type": "stream",
     "text": [
      "admin\n",
      "Non admin\n"
     ]
    }
   ],
   "source": [
    "def permission(role):\n",
    "    if role == 'admin':\n",
    "        print('admin')\n",
    "    else:\n",
    "        print(\"Non admin\")\n",
    "        \n",
    "permission('admin')\n",
    "permission('customer')"
   ]
  },
  {
   "cell_type": "code",
   "execution_count": null,
   "id": "96b9fca3",
   "metadata": {},
   "outputs": [],
   "source": []
  }
 ],
 "metadata": {
  "kernelspec": {
   "display_name": "Python 3",
   "language": "python",
   "name": "python3"
  },
  "language_info": {
   "codemirror_mode": {
    "name": "ipython",
    "version": 3
   },
   "file_extension": ".py",
   "mimetype": "text/x-python",
   "name": "python",
   "nbconvert_exporter": "python",
   "pygments_lexer": "ipython3",
   "version": "3.8.8"
  }
 },
 "nbformat": 4,
 "nbformat_minor": 5
}
