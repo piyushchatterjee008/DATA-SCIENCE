{
 "cells": [
  {
   "cell_type": "code",
   "execution_count": 2,
   "id": "fbabc12a",
   "metadata": {},
   "outputs": [
    {
     "name": "stdout",
     "output_type": "stream",
     "text": [
      "[(2, 1), (1, 2), (2, 3), (4, 4), (2, 5)]\n"
     ]
    }
   ],
   "source": [
    "# Write a Python program to get a list, sorted in increasing order by the last element in each tuple from a given list of non-empty tuples\n",
    "\n",
    "# Sample List : [(2, 5), (1, 2), (4, 4), (2, 3), (2, 1)]\n",
    "\n",
    "# Expected Result : [(2, 1), (1, 2), (2, 3), (4, 4), (2, 5)]\n",
    "my_list = [(2, 5), (1, 2), (4, 4), (2, 3), (2, 1)]\n",
    "for index in range(0,len(my_list)):\n",
    "    for next_index in range (index+1,len(my_list)):\n",
    "        if my_list[next_index][1] < my_list[index][1]:\n",
    "            my_list[index],my_list[next_index]=my_list[next_index],my_list[index]\n",
    "            \n",
    "    \n",
    "print(my_list)\n",
    "\n",
    "my_list = [(2, 5), (1, 2), (4, 4), (2, 3), (2, 1)]\n"
   ]
  },
  {
   "cell_type": "code",
   "execution_count": 6,
   "id": "f0c47531",
   "metadata": {},
   "outputs": [
    {
     "name": "stdout",
     "output_type": "stream",
     "text": [
      "I'm a function\n",
      "\n",
      "I'm a function\n",
      "None\n"
     ]
    }
   ],
   "source": [
    "#functions\n",
    "'''\n",
    "def function_name():\n",
    "    print(\"I'm a function\")\n",
    "    return \"return statement\"\n",
    "'''\n",
    "def function_name():\n",
    "    print(\"I'm a function\")\n",
    "    \n",
    "function_name()\n",
    "\n",
    "print()\n",
    "a = function_name()\n",
    "print(a)\n"
   ]
  },
  {
   "cell_type": "code",
   "execution_count": 7,
   "id": "1469c080",
   "metadata": {},
   "outputs": [
    {
     "name": "stdout",
     "output_type": "stream",
     "text": [
      "I'm a function with Single object return type\n",
      "0\n"
     ]
    }
   ],
   "source": [
    "def function_with_single_object_return():\n",
    "    print(\"I'm a function with Single object return type\")\n",
    "    name = \"Single object return type\"\n",
    "    return 0\n",
    "    print(\"after return\")\n",
    "\n",
    "print(function_with_single_object_return())"
   ]
  },
  {
   "cell_type": "code",
   "execution_count": 8,
   "id": "d2c68d34",
   "metadata": {},
   "outputs": [
    {
     "name": "stdout",
     "output_type": "stream",
     "text": [
      "I'm a function with Single object return type\n",
      "first return object\n",
      "second return object\n"
     ]
    }
   ],
   "source": [
    "\n",
    "def function_with_single_object_return():\n",
    "    print(\"I'm a function with Single object return type\")\n",
    "    return \"first return object\",\"second return object\"\n",
    "\n",
    "first,second = function_with_single_object_return()\n",
    "print(first)\n",
    "print(second)"
   ]
  },
  {
   "cell_type": "code",
   "execution_count": 12,
   "id": "8f3bbc37",
   "metadata": {},
   "outputs": [
    {
     "name": "stdout",
     "output_type": "stream",
     "text": [
      "global a:  10\n",
      "inside fucntion  a+ 10:  15\n",
      "outside the function a+ 10:  20\n",
      "<function name at 0x00000136FB795550>\n"
     ]
    }
   ],
   "source": [
    "#namesapce = dir()\n",
    "\n",
    "a = 10\n",
    "print(\"global a: \",a)\n",
    "\n",
    "def func1():\n",
    "    a = 5\n",
    "    print(\"inside fucntion  a+ 10: \", a+10)\n",
    "func1()    \n",
    "\n",
    "print(\"outside the function a+ 10: \", a+10)\n",
    "\n",
    "# def outer():\n",
    "#     print(\"Outer\")\n",
    "\n",
    "#     def inner():\n",
    "#         print(\"Inner\")\n",
    "#     inner()\n",
    "\n",
    "        \n",
    "# outer()\n",
    "\n",
    "def name():\n",
    "    name_var = 'inside'\n",
    "    print(name_var)\n",
    "    \n",
    "# name()\n",
    "print(name)"
   ]
  },
  {
   "cell_type": "code",
   "execution_count": 17,
   "id": "e08f47b8",
   "metadata": {},
   "outputs": [
    {
     "name": "stdout",
     "output_type": "stream",
     "text": [
      "inside\n",
      "inside\n"
     ]
    }
   ],
   "source": [
    "global_var = 'name'\n",
    "def func1():\n",
    "    global name_var\n",
    "    print(name_var)\n",
    "    name_var = 'inside'\n",
    "    print(name_var)\n",
    "\n",
    "func1()"
   ]
  },
  {
   "cell_type": "code",
   "execution_count": 18,
   "id": "6e25f5b1",
   "metadata": {},
   "outputs": [
    {
     "name": "stdout",
     "output_type": "stream",
     "text": [
      "['ArithmeticError', 'AssertionError', 'AttributeError', 'BaseException', 'BlockingIOError', 'BrokenPipeError', 'BufferError', 'BytesWarning', 'ChildProcessError', 'ConnectionAbortedError', 'ConnectionError', 'ConnectionRefusedError', 'ConnectionResetError', 'DeprecationWarning', 'EOFError', 'Ellipsis', 'EnvironmentError', 'Exception', 'False', 'FileExistsError', 'FileNotFoundError', 'FloatingPointError', 'FutureWarning', 'GeneratorExit', 'IOError', 'ImportError', 'ImportWarning', 'IndentationError', 'IndexError', 'InterruptedError', 'IsADirectoryError', 'KeyError', 'KeyboardInterrupt', 'LookupError', 'MemoryError', 'ModuleNotFoundError', 'NameError', 'None', 'NotADirectoryError', 'NotImplemented', 'NotImplementedError', 'OSError', 'OverflowError', 'PendingDeprecationWarning', 'PermissionError', 'ProcessLookupError', 'RecursionError', 'ReferenceError', 'ResourceWarning', 'RuntimeError', 'RuntimeWarning', 'StopAsyncIteration', 'StopIteration', 'SyntaxError', 'SyntaxWarning', 'SystemError', 'SystemExit', 'TabError', 'TimeoutError', 'True', 'TypeError', 'UnboundLocalError', 'UnicodeDecodeError', 'UnicodeEncodeError', 'UnicodeError', 'UnicodeTranslateError', 'UnicodeWarning', 'UserWarning', 'ValueError', 'Warning', 'WindowsError', 'ZeroDivisionError', '__IPYTHON__', '__build_class__', '__debug__', '__doc__', '__import__', '__loader__', '__name__', '__package__', '__spec__', 'abs', 'all', 'any', 'ascii', 'bin', 'bool', 'breakpoint', 'bytearray', 'bytes', 'callable', 'chr', 'classmethod', 'compile', 'complex', 'copyright', 'credits', 'delattr', 'dict', 'dir', 'display', 'divmod', 'enumerate', 'eval', 'exec', 'filter', 'float', 'format', 'frozenset', 'get_ipython', 'getattr', 'globals', 'hasattr', 'hash', 'help', 'hex', 'id', 'input', 'int', 'isinstance', 'issubclass', 'iter', 'len', 'license', 'list', 'locals', 'map', 'max', 'memoryview', 'min', 'next', 'object', 'oct', 'open', 'ord', 'pow', 'print', 'property', 'range', 'repr', 'reversed', 'round', 'set', 'setattr', 'slice', 'sorted', 'staticmethod', 'str', 'sum', 'super', 'tuple', 'type', 'vars', 'zip']\n"
     ]
    }
   ],
   "source": [
    "print(dir(__builtin__))"
   ]
  },
  {
   "cell_type": "code",
   "execution_count": 19,
   "id": "b32800d5",
   "metadata": {},
   "outputs": [
    {
     "name": "stdout",
     "output_type": "stream",
     "text": [
      "[1, 2, 3]\n",
      "abced\n"
     ]
    }
   ],
   "source": [
    "def function_with_argument():\n",
    "    argument = [1,2,3]\n",
    "    return argument\n",
    "a=function_with_argument()\n",
    "print(a)\n",
    "\n",
    "\n",
    "\n",
    "def function_with_argument(argument):\n",
    "    return argument\n",
    "a=function_with_argument('abced')\n",
    "print(a)"
   ]
  },
  {
   "cell_type": "code",
   "execution_count": 20,
   "id": "7da00cef",
   "metadata": {},
   "outputs": [
    {
     "name": "stdout",
     "output_type": "stream",
     "text": [
      "[(2, 2), (1, 4)]\n"
     ]
    }
   ],
   "source": [
    "def sort_list_manually(my_list):\n",
    "    for index in range(0,len(my_list)): \n",
    "        for next_index in range(index+1,len(my_list)):\n",
    "            if my_list[next_index][1] < my_list[index][1]:\n",
    "                my_list[index],my_list[next_index] = my_list[next_index],my_list[index] # my_list[index] = my_list[next_index]\n",
    "    return my_list\n",
    "\n",
    "sorted_list=sort_list_manually([(1,4),(2,2)])\n",
    "print(sorted_list)"
   ]
  },
  {
   "cell_type": "code",
   "execution_count": 21,
   "id": "f90771cf",
   "metadata": {},
   "outputs": [
    {
     "name": "stdout",
     "output_type": "stream",
     "text": [
      "3\n",
      "10\n"
     ]
    }
   ],
   "source": [
    "def add_two_num(num1,num2):\n",
    "    sum = num1+num2\n",
    "    return sum\n",
    "\n",
    "sum_of_two=add_two_num(1,2)\n",
    "print(sum_of_two)\n",
    "\n",
    "def add_multiple_numbers(*numbers):\n",
    "    sum=0\n",
    "    for i in numbers:\n",
    "        sum+=i\n",
    "    return sum\n",
    "\n",
    "numbers = (1,2,3)\n",
    "sum_of_multiple=add_multiple_numbers(1,2,2,5)\n",
    "print(sum_of_multiple)"
   ]
  },
  {
   "cell_type": "code",
   "execution_count": 22,
   "id": "1c7b30d6",
   "metadata": {},
   "outputs": [
    {
     "name": "stdout",
     "output_type": "stream",
     "text": [
      "{'name': 'edyoda', 'age': 25, 'father_name': 'Edyoda parent'}\n"
     ]
    }
   ],
   "source": [
    "def func1(**resume):\n",
    "    print(resume)\n",
    "    \n",
    "func1(name='edyoda',age=25,father_name='Edyoda parent')"
   ]
  },
  {
   "cell_type": "code",
   "execution_count": 28,
   "id": "9dcb220f",
   "metadata": {},
   "outputs": [
    {
     "name": "stdout",
     "output_type": "stream",
     "text": [
      "8000.0\n"
     ]
    }
   ],
   "source": [
    "def emi_calc(price, tenure=12):\n",
    "    global emi\n",
    "    emi = price/tenure\n",
    "    return emi\n",
    "\n",
    "emi=emi_calc(48000,6)\n",
    "print(emi)"
   ]
  },
  {
   "cell_type": "code",
   "execution_count": 29,
   "id": "8f278351",
   "metadata": {},
   "outputs": [
    {
     "name": "stdout",
     "output_type": "stream",
     "text": [
      "8000.0\n"
     ]
    }
   ],
   "source": [
    "def emi_calc(price,tenure=12):\n",
    "    emi = price/tenure\n",
    "    return emi\n",
    "\n",
    "emi = emi_calc(48000,6)\n",
    "print(emi)"
   ]
  },
  {
   "cell_type": "code",
   "execution_count": null,
   "id": "75cfba67",
   "metadata": {},
   "outputs": [],
   "source": []
  }
 ],
 "metadata": {
  "kernelspec": {
   "display_name": "Python 3",
   "language": "python",
   "name": "python3"
  },
  "language_info": {
   "codemirror_mode": {
    "name": "ipython",
    "version": 3
   },
   "file_extension": ".py",
   "mimetype": "text/x-python",
   "name": "python",
   "nbconvert_exporter": "python",
   "pygments_lexer": "ipython3",
   "version": "3.8.8"
  }
 },
 "nbformat": 4,
 "nbformat_minor": 5
}
