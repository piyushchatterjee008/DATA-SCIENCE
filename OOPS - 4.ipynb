{
 "cells": [
  {
   "cell_type": "code",
   "execution_count": 1,
   "id": "5774a48d",
   "metadata": {},
   "outputs": [
    {
     "name": "stdout",
     "output_type": "stream",
     "text": [
      "<class '__main__.employee'>\n",
      "<__main__.employee object at 0x00000154E6596BB0>\n"
     ]
    }
   ],
   "source": [
    "'''\n",
    "types of methods available in python\n",
    "'''\n",
    "\n",
    "class employee():\n",
    "    \n",
    "    # instance method\n",
    "    def print_name(self, name):\n",
    "        return name\n",
    "    \n",
    "    # class method\n",
    "    @classmethod\n",
    "    def from_age(cls, age):\n",
    "        return cls()\n",
    "    \n",
    "    #static method\n",
    "    @staticmethod\n",
    "    def print_company_name(company_name):\n",
    "        return company_name\n",
    "    \n",
    "print(employee)\n",
    "print(employee())"
   ]
  },
  {
   "cell_type": "code",
   "execution_count": 2,
   "id": "4b8b09cf",
   "metadata": {},
   "outputs": [
    {
     "name": "stdout",
     "output_type": "stream",
     "text": [
      "employee class init called\n",
      "employee class init called\n",
      "dipesh Tech\n",
      "dipesh-Tech\n",
      "45000\n"
     ]
    }
   ],
   "source": [
    "# dunder method = duble underscore\n",
    "# __init__ , __add__, __len__, __repr__, __sub__\n",
    "\n",
    "class employee():\n",
    "    \n",
    "    def __init__(self, name, dept, salary):\n",
    "        print(\"employee class init called\")\n",
    "        self.name = name\n",
    "        self.dept = dept\n",
    "        self.salary = salary\n",
    "        \n",
    "    def __repr__(self):\n",
    "        return f\"{self.name}-{self.dept}\"\n",
    "    \n",
    "    def __len__(self):\n",
    "        return 0\n",
    "    \n",
    "    def __add__(a,b):\n",
    "        return a.salary + b.salary\n",
    "    \n",
    "emp1 = employee('dipesh','Tech',25000)\n",
    "emp2 = employee('pragyesh','Tech', 20000)\n",
    "print(emp1.name, emp1.dept)\n",
    "print(emp1)\n",
    "len(emp1)\n",
    "addition = emp1+emp2 #= __add__(emp1,emp2)\n",
    "print(emp1+emp2)"
   ]
  },
  {
   "cell_type": "code",
   "execution_count": 3,
   "id": "b8e8ddd9",
   "metadata": {},
   "outputs": [
    {
     "ename": "TypeError",
     "evalue": "'Employee' object is not iterable",
     "output_type": "error",
     "traceback": [
      "\u001b[1;31m---------------------------------------------------------------------------\u001b[0m",
      "\u001b[1;31mTypeError\u001b[0m                                 Traceback (most recent call last)",
      "\u001b[1;32m<ipython-input-3-355af661fa42>\u001b[0m in \u001b[0;36m<module>\u001b[1;34m\u001b[0m\n\u001b[0;32m     11\u001b[0m \u001b[1;33m\u001b[0m\u001b[0m\n\u001b[0;32m     12\u001b[0m \u001b[0me\u001b[0m\u001b[1;33m=\u001b[0m\u001b[0mEmployee\u001b[0m\u001b[1;33m(\u001b[0m\u001b[1;34m'dipesh'\u001b[0m\u001b[1;33m)\u001b[0m\u001b[1;33m\u001b[0m\u001b[1;33m\u001b[0m\u001b[0m\n\u001b[1;32m---> 13\u001b[1;33m \u001b[0mprint\u001b[0m\u001b[1;33m(\u001b[0m\u001b[0mlen\u001b[0m\u001b[1;33m(\u001b[0m\u001b[0me\u001b[0m\u001b[1;33m)\u001b[0m\u001b[1;33m)\u001b[0m\u001b[1;33m\u001b[0m\u001b[1;33m\u001b[0m\u001b[0m\n\u001b[0m",
      "\u001b[1;32m<ipython-input-3-355af661fa42>\u001b[0m in \u001b[0;36m__len__\u001b[1;34m(self)\u001b[0m\n\u001b[0;32m      6\u001b[0m     \u001b[1;32mdef\u001b[0m \u001b[0m__len__\u001b[0m\u001b[1;33m(\u001b[0m\u001b[0mself\u001b[0m\u001b[1;33m)\u001b[0m\u001b[1;33m:\u001b[0m\u001b[1;33m\u001b[0m\u001b[1;33m\u001b[0m\u001b[0m\n\u001b[0;32m      7\u001b[0m         \u001b[0mcount\u001b[0m \u001b[1;33m=\u001b[0m \u001b[1;36m0\u001b[0m\u001b[1;33m\u001b[0m\u001b[1;33m\u001b[0m\u001b[0m\n\u001b[1;32m----> 8\u001b[1;33m         \u001b[1;32mfor\u001b[0m \u001b[0mi\u001b[0m \u001b[1;32min\u001b[0m \u001b[0mself\u001b[0m\u001b[1;33m:\u001b[0m\u001b[1;33m\u001b[0m\u001b[1;33m\u001b[0m\u001b[0m\n\u001b[0m\u001b[0;32m      9\u001b[0m             \u001b[0mcount\u001b[0m\u001b[1;33m+=\u001b[0m\u001b[1;36m1\u001b[0m\u001b[1;33m\u001b[0m\u001b[1;33m\u001b[0m\u001b[0m\n\u001b[0;32m     10\u001b[0m         \u001b[1;32mreturn\u001b[0m \u001b[0mcount\u001b[0m\u001b[1;33m\u001b[0m\u001b[1;33m\u001b[0m\u001b[0m\n",
      "\u001b[1;31mTypeError\u001b[0m: 'Employee' object is not iterable"
     ]
    }
   ],
   "source": [
    "class Employee:\n",
    "    \n",
    "    def __init__(self, name):\n",
    "        self.name = name\n",
    "        \n",
    "    def __len__(self):\n",
    "        count = 0\n",
    "        for i in self:\n",
    "            count+=1\n",
    "        return count\n",
    "        \n",
    "e=Employee('dipesh')\n",
    "print(len(e))"
   ]
  },
  {
   "cell_type": "code",
   "execution_count": 4,
   "id": "8fb335ca",
   "metadata": {},
   "outputs": [
    {
     "name": "stdout",
     "output_type": "stream",
     "text": [
      "<class '__main__.myStr'>\n",
      "6\n"
     ]
    }
   ],
   "source": [
    "class myStr:\n",
    "    \n",
    "    def __init__(self, string):\n",
    "        self.string = string\n",
    "        \n",
    "    def __len__(self):\n",
    "        count = 0\n",
    "        for i in self.string:\n",
    "            count +=1\n",
    "        return count\n",
    "    \n",
    "my_str2 = myStr('dipesh')\n",
    "\n",
    "print(type(my_str2))\n",
    "print(len(my_str2))\n",
    "        "
   ]
  },
  {
   "cell_type": "code",
   "execution_count": 5,
   "id": "f419247a",
   "metadata": {
    "collapsed": true
   },
   "outputs": [
    {
     "name": "stdout",
     "output_type": "stream",
     "text": [
      "3\n",
      "abcdef\n",
      "[1, 2, 3, 4]\n",
      "(1, 2, 3, 4)\n"
     ]
    },
    {
     "ename": "TypeError",
     "evalue": "unsupported operand type(s) for +: 'dict' and 'dict'",
     "output_type": "error",
     "traceback": [
      "\u001b[1;31m---------------------------------------------------------------------------\u001b[0m",
      "\u001b[1;31mTypeError\u001b[0m                                 Traceback (most recent call last)",
      "\u001b[1;32m<ipython-input-5-bf340a273b54>\u001b[0m in \u001b[0;36m<module>\u001b[1;34m\u001b[0m\n\u001b[0;32m      3\u001b[0m \u001b[0mprint\u001b[0m\u001b[1;33m(\u001b[0m\u001b[1;33m[\u001b[0m\u001b[1;36m1\u001b[0m\u001b[1;33m,\u001b[0m\u001b[1;36m2\u001b[0m\u001b[1;33m]\u001b[0m\u001b[1;33m+\u001b[0m\u001b[1;33m[\u001b[0m\u001b[1;36m3\u001b[0m\u001b[1;33m,\u001b[0m\u001b[1;36m4\u001b[0m\u001b[1;33m]\u001b[0m\u001b[1;33m)\u001b[0m\u001b[1;33m\u001b[0m\u001b[1;33m\u001b[0m\u001b[0m\n\u001b[0;32m      4\u001b[0m \u001b[0mprint\u001b[0m\u001b[1;33m(\u001b[0m\u001b[1;33m(\u001b[0m\u001b[1;36m1\u001b[0m\u001b[1;33m,\u001b[0m\u001b[1;36m2\u001b[0m\u001b[1;33m)\u001b[0m\u001b[1;33m+\u001b[0m\u001b[1;33m(\u001b[0m\u001b[1;36m3\u001b[0m\u001b[1;33m,\u001b[0m\u001b[1;36m4\u001b[0m\u001b[1;33m)\u001b[0m\u001b[1;33m)\u001b[0m\u001b[1;33m\u001b[0m\u001b[1;33m\u001b[0m\u001b[0m\n\u001b[1;32m----> 5\u001b[1;33m \u001b[0mprint\u001b[0m\u001b[1;33m(\u001b[0m\u001b[1;33m{\u001b[0m\u001b[1;34m'key'\u001b[0m\u001b[1;33m:\u001b[0m\u001b[1;34m'value'\u001b[0m\u001b[1;33m}\u001b[0m\u001b[1;33m+\u001b[0m\u001b[1;33m{\u001b[0m\u001b[1;34m'key1'\u001b[0m\u001b[1;33m:\u001b[0m\u001b[1;34m'value1'\u001b[0m\u001b[1;33m}\u001b[0m\u001b[1;33m)\u001b[0m\u001b[1;33m\u001b[0m\u001b[1;33m\u001b[0m\u001b[0m\n\u001b[0m",
      "\u001b[1;31mTypeError\u001b[0m: unsupported operand type(s) for +: 'dict' and 'dict'"
     ]
    }
   ],
   "source": [
    "print(1+2)\n",
    "print('abc'+'def')\n",
    "print([1,2]+[3,4])\n",
    "print((1,2)+(3,4))\n",
    "print({'key':'value'}+{'key1':'value1'})"
   ]
  },
  {
   "cell_type": "code",
   "execution_count": 6,
   "id": "0bb9cdf3",
   "metadata": {},
   "outputs": [
    {
     "name": "stdout",
     "output_type": "stream",
     "text": [
      "dipesh\n"
     ]
    }
   ],
   "source": [
    "my_name = 'dipesh'\n",
    "\n",
    "def print_name(name):\n",
    "    return name\n",
    "\n",
    "print(print_name(my_name))"
   ]
  },
  {
   "cell_type": "code",
   "execution_count": 7,
   "id": "aca4fa16",
   "metadata": {},
   "outputs": [
    {
     "name": "stdout",
     "output_type": "stream",
     "text": [
      "None\n"
     ]
    }
   ],
   "source": [
    "import re\n",
    "\n",
    "print(re.match('doubt','undoubt'))"
   ]
  },
  {
   "cell_type": "code",
   "execution_count": 10,
   "id": "4a90559f",
   "metadata": {},
   "outputs": [
    {
     "name": "stdout",
     "output_type": "stream",
     "text": [
      "re.ASCII\n"
     ]
    }
   ],
   "source": [
    "import re \n",
    "\n",
    "print(re.ASCII)"
   ]
  },
  {
   "cell_type": "code",
   "execution_count": 12,
   "id": "95dad7eb",
   "metadata": {},
   "outputs": [
    {
     "name": "stdout",
     "output_type": "stream",
     "text": [
      "[0, 1, 2, 3, 4, 5, 6, 7, 8, 9]\n"
     ]
    }
   ],
   "source": [
    "odd= lambda x: bool(x%2)\n",
    "\n",
    "numb =[n for n in range(10)]\n",
    "\n",
    "print(numb)\n",
    "\n",
    "n=list()\n",
    "\n",
    "for i in numb:\n",
    "    if odd(i):\n",
    "        continue\n",
    "    else:\n",
    "        break"
   ]
  },
  {
   "cell_type": "code",
   "execution_count": 13,
   "id": "ea299ee4",
   "metadata": {},
   "outputs": [
    {
     "name": "stdout",
     "output_type": "stream",
     "text": [
      "True True\n"
     ]
    }
   ],
   "source": [
    "fun2 = lambda y : bool(y%2)\n",
    "\n",
    "print(fun2(25),fun2(31))"
   ]
  },
  {
   "cell_type": "code",
   "execution_count": 15,
   "id": "fc0537e9",
   "metadata": {},
   "outputs": [
    {
     "name": "stdout",
     "output_type": "stream",
     "text": [
      "40\n"
     ]
    }
   ],
   "source": [
    "import functools\n",
    "\n",
    "l=[1,2,4,5]\n",
    "\n",
    "print(functools.reduce(lambda x,y:x*y,l))"
   ]
  },
  {
   "cell_type": "code",
   "execution_count": 19,
   "id": "683383aa",
   "metadata": {},
   "outputs": [
    {
     "name": "stdout",
     "output_type": "stream",
     "text": [
      "[False, True, True, False, False]\n"
     ]
    }
   ],
   "source": [
    "l= [1,-2,-4,4,6]\n",
    "\n",
    "def f1(x):\n",
    "    return x<-1\n",
    "\n",
    "m1= map(f1,l)\n",
    "\n",
    "print(list(m1))"
   ]
  },
  {
   "cell_type": "code",
   "execution_count": 22,
   "id": "c97b60f0",
   "metadata": {},
   "outputs": [
    {
     "data": {
      "text/plain": [
       "[3, 2, 1, 0, 7]"
      ]
     },
     "execution_count": 22,
     "metadata": {},
     "output_type": "execute_result"
    }
   ],
   "source": [
    "list(map((lambda x:x^3),range(5)))"
   ]
  },
  {
   "cell_type": "code",
   "execution_count": 25,
   "id": "62b701e6",
   "metadata": {},
   "outputs": [
    {
     "name": "stdout",
     "output_type": "stream",
     "text": [
      "['bay', 'boy']\n"
     ]
    }
   ],
   "source": [
    "w=['bay','cat','boy','fan']\n",
    "\n",
    "b_words = list(filter(lambda w:w.startswith('b'),w))\n",
    "\n",
    "print(b_words)"
   ]
  },
  {
   "cell_type": "code",
   "execution_count": 88,
   "id": "70166f19",
   "metadata": {},
   "outputs": [],
   "source": [
    "#Write a Python class to implement pow(x, n)\n",
    "\n",
    "class PowerFun:\n",
    "    \n",
    "    def myPow(self, x, n):\n",
    "        \n",
    "        if x==0:return 0\n",
    "        if n==0 or x==1: return 1\n",
    "        \n",
    "        if (n>0):\n",
    "            res = self.myPow(x,n//2)\n",
    "            res = res*res\n",
    "            return x*res if n%2!=0 else res\n",
    "        \n",
    "        if n<0:   \n",
    "            res=self.myPow(x,abs(n))\n",
    "            return res if n>0 else 1/res"
   ]
  },
  {
   "cell_type": "code",
   "execution_count": 89,
   "id": "fd210b95",
   "metadata": {},
   "outputs": [
    {
     "data": {
      "text/plain": [
       "8"
      ]
     },
     "execution_count": 89,
     "metadata": {},
     "output_type": "execute_result"
    }
   ],
   "source": [
    "obj = PowerFun()\n",
    "obj.myPow(2,3)"
   ]
  },
  {
   "cell_type": "code",
   "execution_count": 90,
   "id": "45f8ab24",
   "metadata": {},
   "outputs": [
    {
     "data": {
      "text/plain": [
       "1"
      ]
     },
     "execution_count": 90,
     "metadata": {},
     "output_type": "execute_result"
    }
   ],
   "source": [
    "obj.myPow(2,0)"
   ]
  },
  {
   "cell_type": "code",
   "execution_count": 91,
   "id": "be67f7e8",
   "metadata": {},
   "outputs": [
    {
     "data": {
      "text/plain": [
       "0.125"
      ]
     },
     "execution_count": 91,
     "metadata": {},
     "output_type": "execute_result"
    }
   ],
   "source": [
    "obj.myPow(2,-3)"
   ]
  },
  {
   "cell_type": "code",
   "execution_count": 92,
   "id": "789aa7c2",
   "metadata": {},
   "outputs": [
    {
     "data": {
      "text/plain": [
       "-8"
      ]
     },
     "execution_count": 92,
     "metadata": {},
     "output_type": "execute_result"
    }
   ],
   "source": [
    "obj.myPow(-2,3)"
   ]
  },
  {
   "cell_type": "code",
   "execution_count": 78,
   "id": "527cb95b",
   "metadata": {},
   "outputs": [
    {
     "data": {
      "text/plain": [
       "1"
      ]
     },
     "execution_count": 78,
     "metadata": {},
     "output_type": "execute_result"
    }
   ],
   "source": [
    "obj.myPow(1,-3)"
   ]
  },
  {
   "cell_type": "code",
   "execution_count": 80,
   "id": "92f53fee",
   "metadata": {},
   "outputs": [
    {
     "data": {
      "text/plain": [
       "100"
      ]
     },
     "execution_count": 80,
     "metadata": {},
     "output_type": "execute_result"
    }
   ],
   "source": [
    "obj.myPow(10,2)"
   ]
  },
  {
   "cell_type": "code",
   "execution_count": 93,
   "id": "4a99c4b3",
   "metadata": {},
   "outputs": [
    {
     "name": "stdout",
     "output_type": "stream",
     "text": [
      "-0.125\n"
     ]
    }
   ],
   "source": [
    "import math\n",
    "\n",
    "r=math.pow(-2,-3)\n",
    "print(r)"
   ]
  },
  {
   "cell_type": "code",
   "execution_count": null,
   "id": "55709f1b",
   "metadata": {},
   "outputs": [],
   "source": []
  }
 ],
 "metadata": {
  "kernelspec": {
   "display_name": "Python 3",
   "language": "python",
   "name": "python3"
  },
  "language_info": {
   "codemirror_mode": {
    "name": "ipython",
    "version": 3
   },
   "file_extension": ".py",
   "mimetype": "text/x-python",
   "name": "python",
   "nbconvert_exporter": "python",
   "pygments_lexer": "ipython3",
   "version": "3.8.8"
  }
 },
 "nbformat": 4,
 "nbformat_minor": 5
}
