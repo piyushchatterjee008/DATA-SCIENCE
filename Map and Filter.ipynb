{
 "cells": [
  {
   "cell_type": "code",
   "execution_count": 1,
   "id": "03ab9b0e",
   "metadata": {},
   "outputs": [],
   "source": [
    "# map\n",
    "\n",
    "def sqr(n):\n",
    "    return n**2"
   ]
  },
  {
   "cell_type": "code",
   "execution_count": 3,
   "id": "0ec691ef",
   "metadata": {},
   "outputs": [
    {
     "data": {
      "text/plain": [
       "4"
      ]
     },
     "execution_count": 3,
     "metadata": {},
     "output_type": "execute_result"
    }
   ],
   "source": [
    "sqr(2)"
   ]
  },
  {
   "cell_type": "code",
   "execution_count": 4,
   "id": "7c272122",
   "metadata": {},
   "outputs": [
    {
     "data": {
      "text/plain": [
       "[4]"
      ]
     },
     "execution_count": 4,
     "metadata": {},
     "output_type": "execute_result"
    }
   ],
   "source": [
    "list(map(sqr,[2]))"
   ]
  },
  {
   "cell_type": "code",
   "execution_count": 5,
   "id": "666d24fd",
   "metadata": {},
   "outputs": [
    {
     "data": {
      "text/plain": [
       "[1, 4, 9]"
      ]
     },
     "execution_count": 5,
     "metadata": {},
     "output_type": "execute_result"
    }
   ],
   "source": [
    "list(map(sqr,[1,2,3]))"
   ]
  },
  {
   "cell_type": "code",
   "execution_count": 6,
   "id": "df53b92a",
   "metadata": {},
   "outputs": [
    {
     "data": {
      "text/plain": [
       "[1, 2, 8, 6]"
      ]
     },
     "execution_count": 6,
     "metadata": {},
     "output_type": "execute_result"
    }
   ],
   "source": [
    "list(map(len,['I','am','learning','python']))"
   ]
  },
  {
   "cell_type": "code",
   "execution_count": null,
   "id": "e3b77f3d",
   "metadata": {},
   "outputs": [],
   "source": [
    "Iterables:\n",
    "    list\n",
    "    dict\n",
    "    tuple\n",
    "    str\n",
    "    set"
   ]
  },
  {
   "cell_type": "code",
   "execution_count": 7,
   "id": "c90b4574",
   "metadata": {},
   "outputs": [
    {
     "data": {
      "text/plain": [
       "[1, 2, 8, 6]"
      ]
     },
     "execution_count": 7,
     "metadata": {},
     "output_type": "execute_result"
    }
   ],
   "source": [
    "list(map(len,('I','am','learning','python')))"
   ]
  },
  {
   "cell_type": "code",
   "execution_count": null,
   "id": "4a244135",
   "metadata": {},
   "outputs": [],
   "source": [
    "Q1) Use map to the following results when the item is in the given_list\n",
    "\n",
    "'potato' => 'gold'\n",
    "'harpic' => 'hussain'\n",
    "'mango' => 'fruiti'\n",
    "\n",
    "given_list = ['potato','harpic','harpic']\n",
    "result = ['gold','hussain','hussain']"
   ]
  },
  {
   "cell_type": "code",
   "execution_count": 8,
   "id": "9cfb36eb",
   "metadata": {},
   "outputs": [],
   "source": [
    "def funfun(string):\n",
    "    if string == 'potato':\n",
    "        return 'gold'\n",
    "    elif string == 'harpic':\n",
    "        return 'hussain'\n",
    "    else:\n",
    "        return 'fruiti'"
   ]
  },
  {
   "cell_type": "code",
   "execution_count": 9,
   "id": "3af8b193",
   "metadata": {},
   "outputs": [
    {
     "name": "stdout",
     "output_type": "stream",
     "text": [
      "['gold', 'hussain', 'hussain']\n"
     ]
    }
   ],
   "source": [
    "given_list = ['potato','harpic','harpic']\n",
    "\n",
    "x= list(map(funfun,given_list))\n",
    "print(x)"
   ]
  },
  {
   "cell_type": "code",
   "execution_count": 4,
   "id": "e0e6d301",
   "metadata": {},
   "outputs": [
    {
     "name": "stdout",
     "output_type": "stream",
     "text": [
      "['gold', 'hussain', 'hussain']\n"
     ]
    }
   ],
   "source": [
    "given_list = ['potato','harpic','harpic']\n",
    "x = map(funfun,given_list)\n",
    "print(list(x))"
   ]
  },
  {
   "cell_type": "code",
   "execution_count": 3,
   "id": "d8594ea3",
   "metadata": {},
   "outputs": [
    {
     "name": "stdout",
     "output_type": "stream",
     "text": [
      "['gold', 'hussain', 'hussain']\n"
     ]
    }
   ],
   "source": [
    "def fun2(string):\n",
    "    given_list={'potato':'gold','harpic':'hussain','mango':'fruiti'}\n",
    "    return given_list[string]\n",
    "\n",
    "given_list = ['potato','harpic','harpic']\n",
    "\n",
    "x= map(fun2,given_list)\n",
    "print(list(x))"
   ]
  },
  {
   "cell_type": "code",
   "execution_count": 10,
   "id": "eee0833a",
   "metadata": {},
   "outputs": [
    {
     "name": "stdout",
     "output_type": "stream",
     "text": [
      "<class 'int'>\n",
      "[11, 22, 33, 44, 55]\n"
     ]
    }
   ],
   "source": [
    "x = ['11','22','33','44','55']\n",
    "type(x[0])\n",
    "\n",
    "for i in range(0,len(x)):\n",
    "    x[i] = int(x[i])\n",
    "print(type(x[0]))\n",
    "print(x)"
   ]
  },
  {
   "cell_type": "code",
   "execution_count": 11,
   "id": "6bc86a29",
   "metadata": {},
   "outputs": [
    {
     "name": "stdout",
     "output_type": "stream",
     "text": [
      "[11, 22, 33, 44, 55]\n"
     ]
    }
   ],
   "source": [
    "x = ['11','22','33','44','55']\n",
    "\n",
    "x = list(map(int,x))\n",
    "print((x))"
   ]
  },
  {
   "cell_type": "code",
   "execution_count": null,
   "id": "563c04e4",
   "metadata": {},
   "outputs": [],
   "source": [
    "Q2) x = [23,34,45,56,79,99]\n",
    "    x = ['odd','even','odd','even','odd','odd']\n",
    "    \n",
    "    y = [1,3]\n",
    "    y = ['odd','odd']\n",
    "    \n",
    "    z = [3,4]\n",
    "    z = ['odd','even']\n",
    "    "
   ]
  },
  {
   "cell_type": "code",
   "execution_count": 7,
   "id": "3a91f66b",
   "metadata": {},
   "outputs": [
    {
     "data": {
      "text/plain": [
       "['odd', 'even', 'odd', 'even', 'odd', 'odd']"
      ]
     },
     "execution_count": 7,
     "metadata": {},
     "output_type": "execute_result"
    }
   ],
   "source": [
    "x = [23,34,45,56,79,99]\n",
    "y = ['odd','even']\n",
    "\n",
    "def odd_even(n):\n",
    "    if n%2==0:\n",
    "        return y[1]\n",
    "    else:\n",
    "        return y[0]\n",
    "    \n",
    "list(map(odd_even,x))"
   ]
  },
  {
   "cell_type": "code",
   "execution_count": 8,
   "id": "763f68c0",
   "metadata": {},
   "outputs": [
    {
     "data": {
      "text/plain": [
       "[6, 4]"
      ]
     },
     "execution_count": 8,
     "metadata": {},
     "output_type": "execute_result"
    }
   ],
   "source": [
    "list(map(len,{'python':3,'java':8}))"
   ]
  },
  {
   "cell_type": "code",
   "execution_count": 9,
   "id": "3a28e6e9",
   "metadata": {},
   "outputs": [],
   "source": [
    "def funone(n):\n",
    "    return (n,n+3)\n"
   ]
  },
  {
   "cell_type": "code",
   "execution_count": 10,
   "id": "d80af02e",
   "metadata": {},
   "outputs": [
    {
     "data": {
      "text/plain": [
       "[(1, 4), (2, 5), (3, 6), (4, 7)]"
      ]
     },
     "execution_count": 10,
     "metadata": {},
     "output_type": "execute_result"
    }
   ],
   "source": [
    "list(map(funone,[1,2,3,4]))"
   ]
  },
  {
   "cell_type": "code",
   "execution_count": 11,
   "id": "222034cb",
   "metadata": {},
   "outputs": [],
   "source": [
    "# you can convert a list of tuples with length 2 into a dict.\n"
   ]
  },
  {
   "cell_type": "code",
   "execution_count": 13,
   "id": "df473921",
   "metadata": {},
   "outputs": [
    {
     "data": {
      "text/plain": [
       "dict_items([('python', 3), ('java', 8)])"
      ]
     },
     "execution_count": 13,
     "metadata": {},
     "output_type": "execute_result"
    }
   ],
   "source": [
    "x = {'python':3,'java':8}\n",
    "x.items()"
   ]
  },
  {
   "cell_type": "code",
   "execution_count": 16,
   "id": "d754965d",
   "metadata": {},
   "outputs": [
    {
     "name": "stdout",
     "output_type": "stream",
     "text": [
      "<class 'dict'>\n",
      "{'python': 'apple', 'java': 'mango'}\n"
     ]
    }
   ],
   "source": [
    "xList = [('python', 'apple'), ('java', 'mango')]\n",
    "yDict =dict(xList)\n",
    "print(type(yDict))\n",
    "print(yDict)"
   ]
  },
  {
   "cell_type": "code",
   "execution_count": 22,
   "id": "154418d2",
   "metadata": {},
   "outputs": [
    {
     "data": {
      "text/plain": [
       "[34, 56]"
      ]
     },
     "execution_count": 22,
     "metadata": {},
     "output_type": "execute_result"
    }
   ],
   "source": [
    "x = [23,34,45,56,79,99]\n",
    "\n",
    "# final_result = [34,56]\n",
    "\n",
    "def funct1(n):\n",
    "    if n%2==0:\n",
    "        return True\n",
    "    else:\n",
    "        return False\n",
    "\n",
    "list(filter(funct1,x))\n",
    "\n",
    "# x =list(filter(funct1,x))\n",
    "# print(x)"
   ]
  },
  {
   "cell_type": "code",
   "execution_count": 23,
   "id": "65ee53d9",
   "metadata": {},
   "outputs": [],
   "source": [
    "def funtwo(n):\n",
    "    return True\n"
   ]
  },
  {
   "cell_type": "code",
   "execution_count": 24,
   "id": "73b23cc0",
   "metadata": {},
   "outputs": [
    {
     "data": {
      "text/plain": [
       "[23, 34, 45, 56, 79, 99]"
      ]
     },
     "execution_count": 24,
     "metadata": {},
     "output_type": "execute_result"
    }
   ],
   "source": [
    "list(filter(funtwo,[23,34,45,56,79,99]))\n"
   ]
  },
  {
   "cell_type": "code",
   "execution_count": 25,
   "id": "81d1cacc",
   "metadata": {},
   "outputs": [
    {
     "data": {
      "text/plain": [
       "['idea', 'nhpc']"
      ]
     },
     "execution_count": 25,
     "metadata": {},
     "output_type": "execute_result"
    }
   ],
   "source": [
    "share_dict = {'paytm':1640,'paras-defence':715,\n",
    " 'tata-motors':478,'idea':12.60,'nhpc':31.80}\n",
    "\n",
    "def share(name):\n",
    "    if share_dict[name] <150:\n",
    "        return True\n",
    "\n",
    "list(filter(share, share_dict))"
   ]
  },
  {
   "cell_type": "code",
   "execution_count": 27,
   "id": "9af7de78",
   "metadata": {},
   "outputs": [
    {
     "data": {
      "text/plain": [
       "['nhpc']"
      ]
     },
     "execution_count": 27,
     "metadata": {},
     "output_type": "execute_result"
    }
   ],
   "source": [
    "list(filter(share,['paytm','nhpc','tata-motors']))\n"
   ]
  },
  {
   "cell_type": "code",
   "execution_count": null,
   "id": "31ca75f3",
   "metadata": {},
   "outputs": [],
   "source": [
    "student_dict = {'pranjul':32,'kamlesh':55,\n",
    "                'mudgal':78,'yella':56,'shinde':39}\n",
    "\n",
    "compete_students = ['pranjul','mudgal','shinde']\n",
    "passing_marks = 50\n",
    "final_students = ['mudgal']\n",
    "\n",
    "# Question of the day\n",
    "# 5 minutes."
   ]
  },
  {
   "cell_type": "code",
   "execution_count": 29,
   "id": "2b0a4ccb",
   "metadata": {},
   "outputs": [
    {
     "data": {
      "text/plain": [
       "['kamlesh', 'mudgal', 'yella']"
      ]
     },
     "execution_count": 29,
     "metadata": {},
     "output_type": "execute_result"
    }
   ],
   "source": [
    "student_dict = {'pranjul':32,'kamlesh':55,\n",
    "                'mudgal':78,'yella':56,'shinde':39}\n",
    "\n",
    "def passing(name):\n",
    "    if student_dict[name]>50:\n",
    "        return True\n",
    "    else:\n",
    "        return False\n",
    "\n",
    "list(filter(passing,student_dict))"
   ]
  },
  {
   "cell_type": "code",
   "execution_count": 31,
   "id": "992bfcd0",
   "metadata": {},
   "outputs": [
    {
     "data": {
      "text/plain": [
       "['mudgal']"
      ]
     },
     "execution_count": 31,
     "metadata": {},
     "output_type": "execute_result"
    }
   ],
   "source": [
    "compete_students = ['pranjul','mudgal','shinde']\n",
    "list(filter(passing,compete_students))"
   ]
  },
  {
   "cell_type": "code",
   "execution_count": null,
   "id": "4a91b3f8",
   "metadata": {},
   "outputs": [],
   "source": []
  }
 ],
 "metadata": {
  "kernelspec": {
   "display_name": "Python 3",
   "language": "python",
   "name": "python3"
  },
  "language_info": {
   "codemirror_mode": {
    "name": "ipython",
    "version": 3
   },
   "file_extension": ".py",
   "mimetype": "text/x-python",
   "name": "python",
   "nbconvert_exporter": "python",
   "pygments_lexer": "ipython3",
   "version": "3.8.8"
  }
 },
 "nbformat": 4,
 "nbformat_minor": 5
}
