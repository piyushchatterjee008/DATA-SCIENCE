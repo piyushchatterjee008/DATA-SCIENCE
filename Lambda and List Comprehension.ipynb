{
 "cells": [
  {
   "cell_type": "code",
   "execution_count": 3,
   "id": "4b05b5ee",
   "metadata": {},
   "outputs": [],
   "source": [
    "def fun(a):\n",
    "    return a+2"
   ]
  },
  {
   "cell_type": "code",
   "execution_count": 4,
   "id": "973db36d",
   "metadata": {},
   "outputs": [
    {
     "data": {
      "text/plain": [
       "[12, 22, 32]"
      ]
     },
     "execution_count": 4,
     "metadata": {},
     "output_type": "execute_result"
    }
   ],
   "source": [
    "list(map(fun,[10,20,30]))"
   ]
  },
  {
   "cell_type": "code",
   "execution_count": 5,
   "id": "274da537",
   "metadata": {},
   "outputs": [],
   "source": [
    "def fun2(a):\n",
    "    if a > 0:\n",
    "        return True\n",
    "    else:\n",
    "        return False"
   ]
  },
  {
   "cell_type": "code",
   "execution_count": 6,
   "id": "327796c8",
   "metadata": {},
   "outputs": [
    {
     "data": {
      "text/plain": [
       "[5, 3, 2]"
      ]
     },
     "execution_count": 6,
     "metadata": {},
     "output_type": "execute_result"
    }
   ],
   "source": [
    "list(filter(fun2,[-9,5,-5,3,2,-1,0]))"
   ]
  },
  {
   "cell_type": "code",
   "execution_count": 6,
   "id": "43823562",
   "metadata": {},
   "outputs": [
    {
     "data": {
      "text/plain": [
       "[5, 3, 2]"
      ]
     },
     "execution_count": 6,
     "metadata": {},
     "output_type": "execute_result"
    }
   ],
   "source": [
    "list(filter(lambda a: True if a>0 else False,[-9,5,-5,3,2,-1,0]))"
   ]
  },
  {
   "cell_type": "code",
   "execution_count": 7,
   "id": "acd45a34",
   "metadata": {},
   "outputs": [
    {
     "data": {
      "text/plain": [
       "[False, True, False, True, True, False, False]"
      ]
     },
     "execution_count": 7,
     "metadata": {},
     "output_type": "execute_result"
    }
   ],
   "source": [
    "list(map(fun2,[-9,5,-5,3,2,-1,0]))"
   ]
  },
  {
   "cell_type": "code",
   "execution_count": null,
   "id": "7d6f6dac",
   "metadata": {},
   "outputs": [],
   "source": [
    "'python' => True\n",
    "'fly' => False\n",
    "\n",
    "vowels = 'aeiou'\n",
    "# using lambda expression\n"
   ]
  },
  {
   "cell_type": "code",
   "execution_count": 8,
   "id": "71306a58",
   "metadata": {},
   "outputs": [
    {
     "name": "stdout",
     "output_type": "stream",
     "text": [
      "True\n"
     ]
    }
   ],
   "source": [
    "x = 'python'\n",
    "\n",
    "# print('a' in x)\n",
    "# print('e' in x)\n",
    "# print('i' in x)\n",
    "# print('o' in x)\n",
    "# print('u' in x)\n",
    "\n",
    "print('a' in x or 'e' in x or 'i' in x or 'o' in x or 'u' in x)"
   ]
  },
  {
   "cell_type": "code",
   "execution_count": 8,
   "id": "805301ac",
   "metadata": {},
   "outputs": [],
   "source": [
    "y = lambda x : 'a' in x or 'e' in x or 'i' in x or 'o' in x or 'u' in x\n"
   ]
  },
  {
   "cell_type": "code",
   "execution_count": 9,
   "id": "21f1f216",
   "metadata": {},
   "outputs": [
    {
     "data": {
      "text/plain": [
       "False"
      ]
     },
     "execution_count": 9,
     "metadata": {},
     "output_type": "execute_result"
    }
   ],
   "source": [
    "y('strr')"
   ]
  },
  {
   "cell_type": "code",
   "execution_count": 10,
   "id": "5361b899",
   "metadata": {},
   "outputs": [
    {
     "data": {
      "text/plain": [
       "False"
      ]
     },
     "execution_count": 10,
     "metadata": {},
     "output_type": "execute_result"
    }
   ],
   "source": [
    "y('sky')"
   ]
  },
  {
   "cell_type": "code",
   "execution_count": 11,
   "id": "0fc07ff0",
   "metadata": {},
   "outputs": [
    {
     "data": {
      "text/plain": [
       "True"
      ]
     },
     "execution_count": 11,
     "metadata": {},
     "output_type": "execute_result"
    }
   ],
   "source": [
    "y('apple')"
   ]
  },
  {
   "cell_type": "code",
   "execution_count": 12,
   "id": "5fe6053c",
   "metadata": {},
   "outputs": [
    {
     "data": {
      "text/plain": [
       "[2, 4, 22, 24, 300]"
      ]
     },
     "execution_count": 12,
     "metadata": {},
     "output_type": "execute_result"
    }
   ],
   "source": [
    "list(filter(lambda x : x%2==0,[1,2,4,5,19,22,24,35,299,300]))"
   ]
  },
  {
   "cell_type": "code",
   "execution_count": 13,
   "id": "31b18c87",
   "metadata": {},
   "outputs": [
    {
     "data": {
      "text/plain": [
       "[False, True, True, False, False, True, True, False, False, True]"
      ]
     },
     "execution_count": 13,
     "metadata": {},
     "output_type": "execute_result"
    }
   ],
   "source": [
    "# lambda functions are also known as nameless functions.\n",
    "\n",
    "list(map(lambda x : x%2==0,[1,2,4,5,19,22,24,35,299,300]))\n"
   ]
  },
  {
   "cell_type": "code",
   "execution_count": 14,
   "id": "5189b0d2",
   "metadata": {},
   "outputs": [
    {
     "data": {
      "text/plain": [
       "['odd', 'even', 'even', 'odd', 'odd', 'even', 'even', 'odd', 'odd', 'even']"
      ]
     },
     "execution_count": 14,
     "metadata": {},
     "output_type": "execute_result"
    }
   ],
   "source": [
    "list(map(lambda x : 'even' if x%2==0 else 'odd',[1,2,4,5,19,22,24,35,299,300]))"
   ]
  },
  {
   "cell_type": "code",
   "execution_count": 15,
   "id": "36376355",
   "metadata": {},
   "outputs": [
    {
     "data": {
      "text/plain": [
       "[1, 3, 10, 20, 23, 34, 100]"
      ]
     },
     "execution_count": 15,
     "metadata": {},
     "output_type": "execute_result"
    }
   ],
   "source": [
    "ids = [23,34,1,10,20,3,100]\n",
    "sorted(ids)"
   ]
  },
  {
   "cell_type": "code",
   "execution_count": 20,
   "id": "aa35f576",
   "metadata": {},
   "outputs": [
    {
     "data": {
      "text/plain": [
       "['#1', '#10', '#100', '#20', '#23', '#3', '#34']"
      ]
     },
     "execution_count": 20,
     "metadata": {},
     "output_type": "execute_result"
    }
   ],
   "source": [
    "ids = ['#23','#34','#1','#10','#20','#3','#100']\n",
    "sorted(ids)"
   ]
  },
  {
   "cell_type": "code",
   "execution_count": 16,
   "id": "c1c64582",
   "metadata": {},
   "outputs": [],
   "source": [
    "def fun(a):\n",
    "    return int(a[1:])"
   ]
  },
  {
   "cell_type": "code",
   "execution_count": 17,
   "id": "e3d2ac31",
   "metadata": {},
   "outputs": [
    {
     "data": {
      "text/plain": [
       "100"
      ]
     },
     "execution_count": 17,
     "metadata": {},
     "output_type": "execute_result"
    }
   ],
   "source": [
    "fun('#100')"
   ]
  },
  {
   "cell_type": "code",
   "execution_count": 18,
   "id": "21d6018d",
   "metadata": {},
   "outputs": [
    {
     "data": {
      "text/plain": [
       "23"
      ]
     },
     "execution_count": 18,
     "metadata": {},
     "output_type": "execute_result"
    }
   ],
   "source": [
    "fun('#23')"
   ]
  },
  {
   "cell_type": "code",
   "execution_count": 25,
   "id": "0db62583",
   "metadata": {},
   "outputs": [
    {
     "data": {
      "text/plain": [
       "['#1', '#3', '#10', '#20', '#23', '#34', '#100']"
      ]
     },
     "execution_count": 25,
     "metadata": {},
     "output_type": "execute_result"
    }
   ],
   "source": [
    "ids = ['#23','#34','#1','#10','#20','#3','#100']\n",
    "sorted(ids,key=fun)\n"
   ]
  },
  {
   "cell_type": "code",
   "execution_count": 28,
   "id": "e27c2dbe",
   "metadata": {},
   "outputs": [
    {
     "data": {
      "text/plain": [
       "['#1', '#3', '#10', '#20', '#23', '#34', '#100']"
      ]
     },
     "execution_count": 28,
     "metadata": {},
     "output_type": "execute_result"
    }
   ],
   "source": [
    "ids = ['#23','#34','#1','#10','#20','#3','#100']\n",
    "\n",
    "sorted(ids,key= lambda a: int(a[1:]))"
   ]
  },
  {
   "cell_type": "code",
   "execution_count": null,
   "id": "f433ab24",
   "metadata": {},
   "outputs": [],
   "source": [
    "## List Comprehensions\n",
    "# Short way or one line way of making a list with some logic\n",
    "Syntax:\n",
    "    [write code inside these]"
   ]
  },
  {
   "cell_type": "code",
   "execution_count": 29,
   "id": "0d1070ee",
   "metadata": {},
   "outputs": [
    {
     "name": "stdout",
     "output_type": "stream",
     "text": [
      "[54, 78]\n"
     ]
    }
   ],
   "source": [
    "list1 = [1,23,43,54,65,78]\n",
    "\n",
    "even_list = []\n",
    "\n",
    "for i in list1:\n",
    "    if i %2==0:\n",
    "        even_list.append(i)\n",
    "\n",
    "print(even_list)\n",
    "        "
   ]
  },
  {
   "cell_type": "code",
   "execution_count": 31,
   "id": "25f0536f",
   "metadata": {},
   "outputs": [
    {
     "name": "stdout",
     "output_type": "stream",
     "text": [
      "[54, 78]\n"
     ]
    }
   ],
   "source": [
    "even_list = [ i for i in list1 if i%2==0]\n",
    "print(even_list)"
   ]
  },
  {
   "cell_type": "code",
   "execution_count": 32,
   "id": "b817fee3",
   "metadata": {},
   "outputs": [
    {
     "data": {
      "text/plain": [
       "['apple', 'apple', 'apple']"
      ]
     },
     "execution_count": 32,
     "metadata": {},
     "output_type": "execute_result"
    }
   ],
   "source": [
    "['apple' for i in range(3)]"
   ]
  },
  {
   "cell_type": "code",
   "execution_count": 33,
   "id": "d902d749",
   "metadata": {},
   "outputs": [
    {
     "data": {
      "text/plain": [
       "['apple0', 'apple1', 'apple2']"
      ]
     },
     "execution_count": 33,
     "metadata": {},
     "output_type": "execute_result"
    }
   ],
   "source": [
    "['apple'+ str(i) for i in range(3)]"
   ]
  },
  {
   "cell_type": "code",
   "execution_count": 1,
   "id": "f41a84cc",
   "metadata": {},
   "outputs": [
    {
     "name": "stdout",
     "output_type": "stream",
     "text": [
      "['apple', 'apricot', 'avocado']\n"
     ]
    }
   ],
   "source": [
    "x = ['apple','kiwi','mango','apricot','avocado','pineapple','grapes']\n",
    "\n",
    "y= [i for i in x if i[0]=='a']\n",
    "print(y)"
   ]
  },
  {
   "cell_type": "code",
   "execution_count": 3,
   "id": "200b9a63",
   "metadata": {},
   "outputs": [
    {
     "name": "stdout",
     "output_type": "stream",
     "text": [
      "['apple', 'apricot', 'avocado']\n"
     ]
    }
   ],
   "source": [
    "x = ['apple','kiwi','mango','apricot','avocado','pineapple','grapes']\n",
    "\n",
    "y =[i for i in x if i[0]=='a']\n",
    "print(y)"
   ]
  },
  {
   "cell_type": "code",
   "execution_count": 40,
   "id": "dbd1a11c",
   "metadata": {},
   "outputs": [
    {
     "name": "stdout",
     "output_type": "stream",
     "text": [
      "['apple', 'mango', 'kiwi']\n"
     ]
    }
   ],
   "source": [
    "x = ['apple',200,(1,2),{'python':3,'java':8},'mango','kiwi',34.56]\n",
    "\n",
    "\n",
    "y = [i for i in x if type(i)==str]\n",
    "print(y)"
   ]
  },
  {
   "cell_type": "code",
   "execution_count": 41,
   "id": "7cda8e97",
   "metadata": {},
   "outputs": [],
   "source": [
    "# Another way of list comprehension\n",
    "# if else"
   ]
  },
  {
   "cell_type": "code",
   "execution_count": 4,
   "id": "cbf9cffe",
   "metadata": {},
   "outputs": [],
   "source": [
    "x = [1,2,55,67,80]\n",
    "y = ['odd','even','odd','odd','even']"
   ]
  },
  {
   "cell_type": "code",
   "execution_count": 5,
   "id": "a58ee0d6",
   "metadata": {},
   "outputs": [],
   "source": [
    "def f(n):\n",
    "    if n%2==0:\n",
    "        return 'even'\n",
    "    else:\n",
    "        return 'odd'"
   ]
  },
  {
   "cell_type": "code",
   "execution_count": 7,
   "id": "14b79c6c",
   "metadata": {},
   "outputs": [
    {
     "name": "stdout",
     "output_type": "stream",
     "text": [
      "['odd', 'even', 'odd', 'odd', 'even']\n"
     ]
    }
   ],
   "source": [
    "x = [1,2,55,67,80]\n",
    "\n",
    "y = ['even' if i%2 ==0 else 'odd' for i in x]\n",
    "print(y)"
   ]
  },
  {
   "cell_type": "code",
   "execution_count": 47,
   "id": "be2ed989",
   "metadata": {},
   "outputs": [],
   "source": [
    "# zip"
   ]
  },
  {
   "cell_type": "code",
   "execution_count": 8,
   "id": "4ee2bab1",
   "metadata": {},
   "outputs": [
    {
     "data": {
      "text/plain": [
       "[(1, 10), (2, 20), (3, 30), (4, 40), (5, 50)]"
      ]
     },
     "execution_count": 8,
     "metadata": {},
     "output_type": "execute_result"
    }
   ],
   "source": [
    "l1 = [1,2,3,4,5]\n",
    "l2 = [10,20,30,40,50]\n",
    "\n",
    "list(zip(l1,l2))"
   ]
  },
  {
   "cell_type": "code",
   "execution_count": 9,
   "id": "22b7b50c",
   "metadata": {},
   "outputs": [
    {
     "data": {
      "text/plain": [
       "[(1, 10), (2, 20), (3, 30), (4, 40)]"
      ]
     },
     "execution_count": 9,
     "metadata": {},
     "output_type": "execute_result"
    }
   ],
   "source": [
    "l1 = [1,2,3,4,5]\n",
    "l2 = [10,20,30,40]\n",
    "\n",
    "list(zip(l1,l2))"
   ]
  },
  {
   "cell_type": "code",
   "execution_count": 10,
   "id": "36bc8d28",
   "metadata": {},
   "outputs": [
    {
     "name": "stdout",
     "output_type": "stream",
     "text": [
      "11\n",
      "22\n",
      "33\n",
      "44\n"
     ]
    }
   ],
   "source": [
    "for val1,val2 in zip(l1,l2):\n",
    "    print(val1+val2)"
   ]
  },
  {
   "cell_type": "code",
   "execution_count": 11,
   "id": "54b32df0",
   "metadata": {},
   "outputs": [
    {
     "data": {
      "text/plain": [
       "[11, 22, 33, 44]"
      ]
     },
     "execution_count": 11,
     "metadata": {},
     "output_type": "execute_result"
    }
   ],
   "source": [
    "[val1+val2 for val1,val2 in zip(l1,l2)]"
   ]
  },
  {
   "cell_type": "code",
   "execution_count": 12,
   "id": "b05811f6",
   "metadata": {},
   "outputs": [
    {
     "data": {
      "text/plain": [
       "[('app', 'solo'), ('rap', 'polo'), ('map', 'rolo'), ('tap', 'moto')]"
      ]
     },
     "execution_count": 12,
     "metadata": {},
     "output_type": "execute_result"
    }
   ],
   "source": [
    "x1 = ['app','rap','map','tap']\n",
    "x2 = ['solo','polo','rolo','moto','toto']\n",
    "\n",
    "list(zip(x1,x2))"
   ]
  },
  {
   "cell_type": "code",
   "execution_count": 56,
   "id": "d4faf5ed",
   "metadata": {},
   "outputs": [
    {
     "data": {
      "text/plain": [
       "[('app', 'solo', 1), ('rap', 'polo', 2), ('map', 'rolo', 3)]"
      ]
     },
     "execution_count": 56,
     "metadata": {},
     "output_type": "execute_result"
    }
   ],
   "source": [
    "x1 = ['app','rap','map','tap']\n",
    "x2 = ['solo','polo','rolo','moto','toto']\n",
    "x3 = [1,2,3]\n",
    "\n",
    "list(zip(x1,x2,x3))"
   ]
  },
  {
   "cell_type": "code",
   "execution_count": 57,
   "id": "dce95fa1",
   "metadata": {},
   "outputs": [
    {
     "data": {
      "text/plain": [
       "{'python': 'toto', 'java': 'moto'}"
      ]
     },
     "execution_count": 57,
     "metadata": {},
     "output_type": "execute_result"
    }
   ],
   "source": [
    "e = {'python':3,'java':8}\n",
    "f = {'toto':4,'moto':5}\n",
    "\n",
    "dict(zip(e,f))"
   ]
  },
  {
   "cell_type": "code",
   "execution_count": 58,
   "id": "ca48e880",
   "metadata": {},
   "outputs": [],
   "source": [
    "# nested loop in list comprehension\n"
   ]
  },
  {
   "cell_type": "code",
   "execution_count": 59,
   "id": "2b49ddae",
   "metadata": {},
   "outputs": [],
   "source": [
    "y = []\n",
    "for i in [10,5,3]:\n",
    "    for j in range(1,11):\n",
    "        y.append(i*j)"
   ]
  },
  {
   "cell_type": "code",
   "execution_count": 60,
   "id": "43e5098c",
   "metadata": {},
   "outputs": [
    {
     "name": "stdout",
     "output_type": "stream",
     "text": [
      "[10, 20, 30, 40, 50, 60, 70, 80, 90, 100, 5, 10, 15, 20, 25, 30, 35, 40, 45, 50, 3, 6, 9, 12, 15, 18, 21, 24, 27, 30]\n"
     ]
    }
   ],
   "source": [
    "print(y)"
   ]
  },
  {
   "cell_type": "code",
   "execution_count": 62,
   "id": "5e9629ed",
   "metadata": {},
   "outputs": [
    {
     "name": "stdout",
     "output_type": "stream",
     "text": [
      "[11, 22, 33, 44, 55, 66, 77, 88, 99, 110, 12, 24, 36, 48, 60, 72, 84, 96, 108, 120, 13, 26, 39, 52, 65, 78, 91, 104, 117, 130]\n"
     ]
    }
   ],
   "source": [
    "y = [i*j for i in[11,12,13] for j in range(1,11)]\n",
    "print(y)"
   ]
  },
  {
   "cell_type": "code",
   "execution_count": null,
   "id": "e575f7ba",
   "metadata": {},
   "outputs": [],
   "source": [
    "NOTE: YOU CAN CONVERT EVERY LIST COMPREHENSION INTO NORMAL CODE\n",
    "    \n",
    "    BUT \n",
    "    \n",
    "    YOU CAN NOT CONVERT EVERY FOR LOOP AND OTHER CODE INTO LIST\n",
    "    COMPREHENSION"
   ]
  },
  {
   "cell_type": "code",
   "execution_count": null,
   "id": "270e4de1",
   "metadata": {},
   "outputs": [],
   "source": [
    "COMPREHENSION\n",
    "NOTE2: YOU CAN CONVERT EVERY LAMDA FUNCTION INTO NORMAL FUNCTION\n",
    "    \n",
    "    BUT VICE-VERSA IS NOT TRUE"
   ]
  },
  {
   "cell_type": "code",
   "execution_count": 67,
   "id": "6d894b85",
   "metadata": {},
   "outputs": [],
   "source": [
    "# DICT COMPREHENSION\n",
    "list1 = ['apple','python','django','celery','cucumber']\n"
   ]
  },
  {
   "cell_type": "code",
   "execution_count": 66,
   "id": "d93896bb",
   "metadata": {},
   "outputs": [
    {
     "data": {
      "text/plain": [
       "{'apple': 5, 'python': 6, 'django': 6, 'celery': 6, 'cucumber': 8}"
      ]
     },
     "execution_count": 66,
     "metadata": {},
     "output_type": "execute_result"
    }
   ],
   "source": [
    "{ i :len(i) for i in list1 }"
   ]
  },
  {
   "cell_type": "code",
   "execution_count": 68,
   "id": "8ba7f1c9",
   "metadata": {},
   "outputs": [
    {
     "data": {
      "text/plain": [
       "{10: 20, 30: 40, 50: 60, 70: 80}"
      ]
     },
     "execution_count": 68,
     "metadata": {},
     "output_type": "execute_result"
    }
   ],
   "source": [
    "list1 = [(10,20),(30,40),(50,60),(70,80)]\n",
    "\n",
    "{i[0]:i[1] for i in list1}"
   ]
  },
  {
   "cell_type": "code",
   "execution_count": 69,
   "id": "99867229",
   "metadata": {},
   "outputs": [],
   "source": [
    "data = {'q1': {'question': 'What is docstring?',\n",
    "               'options':\n",
    "               ['multiline comment','none of these','documenting function'],\n",
    "              'answer':'documenting function'\n",
    "              },\n",
    "       'q2': {'question': 'Which is actual space station?',\n",
    "             'options':\n",
    "             ['ISS','ISI','RAW'],\n",
    "             'answer':'ISS'},\n",
    "       'q3': {'question': 'What is 1+4?',\n",
    "             'options':['4','5','6'],\n",
    "             'answer':'5'}}"
   ]
  },
  {
   "cell_type": "code",
   "execution_count": 70,
   "id": "f6f8674b",
   "metadata": {},
   "outputs": [
    {
     "name": "stdout",
     "output_type": "stream",
     "text": [
      "quiz\n",
      "What is docstring?\n",
      "0 multiline comment\n",
      "1 none of these\n",
      "2 documenting function\n",
      "Which is actual space station?\n",
      "0 ISS\n",
      "1 ISI\n",
      "2 RAW\n",
      "What is 1+4?\n",
      "0 4\n",
      "1 5\n",
      "2 6\n",
      "\n",
      "answers sheet\n",
      "documenting function\n",
      "ISS\n",
      "5\n"
     ]
    }
   ],
   "source": [
    "print('quiz')\n",
    "for question in data:\n",
    "    print(data[question]['question'])\n",
    "    for i,option in enumerate(data[question]['options']):\n",
    "        print(i,option)\n",
    "        \n",
    "print('\\nanswers sheet')\n",
    "for question in data:\n",
    "    print(data[question]['answer'])"
   ]
  },
  {
   "cell_type": "code",
   "execution_count": 73,
   "id": "28866acd",
   "metadata": {},
   "outputs": [
    {
     "name": "stdout",
     "output_type": "stream",
     "text": [
      "1380000000\n",
      "1400000000\n"
     ]
    }
   ],
   "source": [
    "data = {'india':{'population':1380000000,\n",
    "                 'gender_ratio':1.02},\n",
    "        'china':{'population':1400000000,\n",
    "                 'gender_ratio':0.95}\n",
    "       }\n",
    "for country_name in data:\n",
    "    print(data[country_name]['population'])"
   ]
  },
  {
   "cell_type": "code",
   "execution_count": 74,
   "id": "5989f36f",
   "metadata": {},
   "outputs": [
    {
     "name": "stdout",
     "output_type": "stream",
     "text": [
      "The population of  india  is 1380000000\n",
      "The gender_ratio of  india  is 1.02\n",
      "The population of  china  is 1400000000\n",
      "The gender_ratio of  china  is 0.95\n"
     ]
    }
   ],
   "source": [
    "for country_name in data:\n",
    "    print('The population of ',country_name,\n",
    "          ' is',data[country_name]['population'])\n",
    "    print('The gender_ratio of ',country_name,\n",
    "      ' is',data[country_name]['gender_ratio'])"
   ]
  }
 ],
 "metadata": {
  "kernelspec": {
   "display_name": "Python 3",
   "language": "python",
   "name": "python3"
  },
  "language_info": {
   "codemirror_mode": {
    "name": "ipython",
    "version": 3
   },
   "file_extension": ".py",
   "mimetype": "text/x-python",
   "name": "python",
   "nbconvert_exporter": "python",
   "pygments_lexer": "ipython3",
   "version": "3.8.8"
  }
 },
 "nbformat": 4,
 "nbformat_minor": 5
}
