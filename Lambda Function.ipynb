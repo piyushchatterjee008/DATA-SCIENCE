{
 "cells": [
  {
   "cell_type": "code",
   "execution_count": 1,
   "id": "585f8a99",
   "metadata": {},
   "outputs": [],
   "source": [
    "# Lambda Functions"
   ]
  },
  {
   "cell_type": "code",
   "execution_count": null,
   "id": "70d34339",
   "metadata": {},
   "outputs": [],
   "source": [
    "name(optional) = lambda parameters : returned value\n",
    "\n",
    "-> don't have to use any return statement, whatever is after colon\n",
    "is automatically considered to be returned."
   ]
  },
  {
   "cell_type": "code",
   "execution_count": 2,
   "id": "9ceb8a19",
   "metadata": {},
   "outputs": [
    {
     "data": {
      "text/plain": [
       "81"
      ]
     },
     "execution_count": 2,
     "metadata": {},
     "output_type": "execute_result"
    }
   ],
   "source": [
    "func = lambda a,b :a*b\n",
    "\n",
    "func(9,9)"
   ]
  },
  {
   "cell_type": "code",
   "execution_count": 3,
   "id": "ff192957",
   "metadata": {},
   "outputs": [
    {
     "data": {
      "text/plain": [
       "20000.0"
      ]
     },
     "execution_count": 3,
     "metadata": {},
     "output_type": "execute_result"
    }
   ],
   "source": [
    "hikesalary= lambda a : (a*25)/100+a\n",
    "\n",
    "hikesalary(16000)"
   ]
  },
  {
   "cell_type": "code",
   "execution_count": 4,
   "id": "450890a2",
   "metadata": {},
   "outputs": [
    {
     "data": {
      "text/plain": [
       "6"
      ]
     },
     "execution_count": 4,
     "metadata": {},
     "output_type": "execute_result"
    }
   ],
   "source": [
    "fun2 = lambda x : len(x)\n",
    "\n",
    "fun2('python')"
   ]
  },
  {
   "cell_type": "code",
   "execution_count": 5,
   "id": "43490d68",
   "metadata": {},
   "outputs": [
    {
     "data": {
      "text/plain": [
       "1"
      ]
     },
     "execution_count": 5,
     "metadata": {},
     "output_type": "execute_result"
    }
   ],
   "source": [
    "fun2('a')"
   ]
  },
  {
   "cell_type": "code",
   "execution_count": 6,
   "id": "7762dc2e",
   "metadata": {},
   "outputs": [
    {
     "data": {
      "text/plain": [
       "5"
      ]
     },
     "execution_count": 6,
     "metadata": {},
     "output_type": "execute_result"
    }
   ],
   "source": [
    "fun2('mango')"
   ]
  },
  {
   "cell_type": "code",
   "execution_count": null,
   "id": "03d22639",
   "metadata": {},
   "outputs": [],
   "source": [
    "fun2 = lambda x : len(x)\n",
    "# The above lambda function can be written in normal function way as follows:-\n",
    "# OR\n",
    "def fun2(x):\n",
    "    return len(x)"
   ]
  },
  {
   "cell_type": "code",
   "execution_count": 7,
   "id": "b0b89565",
   "metadata": {},
   "outputs": [
    {
     "data": {
      "text/plain": [
       "'True'"
      ]
     },
     "execution_count": 7,
     "metadata": {},
     "output_type": "execute_result"
    }
   ],
   "source": [
    "fun_odd_even = lambda a: 'True' if a%2==0 else 'False'\n",
    "\n",
    "fun_odd_even(24)"
   ]
  },
  {
   "cell_type": "code",
   "execution_count": 8,
   "id": "348f821e",
   "metadata": {},
   "outputs": [
    {
     "data": {
      "text/plain": [
       "'False'"
      ]
     },
     "execution_count": 8,
     "metadata": {},
     "output_type": "execute_result"
    }
   ],
   "source": [
    "fun_odd_even(25)"
   ]
  },
  {
   "cell_type": "code",
   "execution_count": 20,
   "id": "caee6395",
   "metadata": {},
   "outputs": [
    {
     "data": {
      "text/plain": [
       "'True'"
      ]
     },
     "execution_count": 20,
     "metadata": {},
     "output_type": "execute_result"
    }
   ],
   "source": [
    "fun_odd_even(0)"
   ]
  },
  {
   "cell_type": "code",
   "execution_count": 9,
   "id": "d4237015",
   "metadata": {},
   "outputs": [
    {
     "data": {
      "text/plain": [
       "'True'"
      ]
     },
     "execution_count": 9,
     "metadata": {},
     "output_type": "execute_result"
    }
   ],
   "source": [
    "fun_odd_even(-2)"
   ]
  },
  {
   "cell_type": "code",
   "execution_count": 10,
   "id": "f126a0df",
   "metadata": {},
   "outputs": [
    {
     "data": {
      "text/plain": [
       "'False'"
      ]
     },
     "execution_count": 10,
     "metadata": {},
     "output_type": "execute_result"
    }
   ],
   "source": [
    "fun_odd_even(-20.5)"
   ]
  },
  {
   "cell_type": "code",
   "execution_count": 11,
   "id": "65837614",
   "metadata": {},
   "outputs": [],
   "source": [
    "fun3 = lambda a : a+5"
   ]
  },
  {
   "cell_type": "code",
   "execution_count": 12,
   "id": "2955c3a3",
   "metadata": {},
   "outputs": [
    {
     "data": {
      "text/plain": [
       "50"
      ]
     },
     "execution_count": 12,
     "metadata": {},
     "output_type": "execute_result"
    }
   ],
   "source": [
    "fun3(45)"
   ]
  },
  {
   "cell_type": "code",
   "execution_count": 13,
   "id": "8659761e",
   "metadata": {},
   "outputs": [
    {
     "data": {
      "text/plain": [
       "28"
      ]
     },
     "execution_count": 13,
     "metadata": {},
     "output_type": "execute_result"
    }
   ],
   "source": [
    "fun3(23)"
   ]
  },
  {
   "cell_type": "code",
   "execution_count": 14,
   "id": "b69b8ae1",
   "metadata": {},
   "outputs": [
    {
     "data": {
      "text/plain": [
       "17"
      ]
     },
     "execution_count": 14,
     "metadata": {},
     "output_type": "execute_result"
    }
   ],
   "source": [
    "fun3(12)"
   ]
  },
  {
   "cell_type": "code",
   "execution_count": 15,
   "id": "795fa111",
   "metadata": {},
   "outputs": [
    {
     "data": {
      "text/plain": [
       "[6, 7, 8, 9]"
      ]
     },
     "execution_count": 15,
     "metadata": {},
     "output_type": "execute_result"
    }
   ],
   "source": [
    "list(map(lambda a:a+5,[1,2,3,4]))"
   ]
  },
  {
   "cell_type": "code",
   "execution_count": 16,
   "id": "58ebfb2d",
   "metadata": {},
   "outputs": [
    {
     "data": {
      "text/plain": [
       "['odd', 'even', 'odd', 'even']"
      ]
     },
     "execution_count": 16,
     "metadata": {},
     "output_type": "execute_result"
    }
   ],
   "source": [
    "list(map(lambda a : 'even' if a%2==0 else 'odd',[1,2,3,4]))"
   ]
  },
  {
   "cell_type": "code",
   "execution_count": null,
   "id": "f478b57d",
   "metadata": {},
   "outputs": [],
   "source": [
    "-> map\n",
    "-> filter\n",
    "-> lambda\n",
    "-> if else in single line\n",
    "-> nested if else in single line\n",
    "-> use lambda in map"
   ]
  },
  {
   "cell_type": "code",
   "execution_count": 17,
   "id": "687217b7",
   "metadata": {
    "scrolled": true
   },
   "outputs": [
    {
     "data": {
      "text/plain": [
       "[2, 4, 6]"
      ]
     },
     "execution_count": 17,
     "metadata": {},
     "output_type": "execute_result"
    }
   ],
   "source": [
    "list(filter(lambda a: True if a%2==0 else False,[1,2,3,4,5,6]))"
   ]
  },
  {
   "cell_type": "code",
   "execution_count": 19,
   "id": "7cec98f3",
   "metadata": {},
   "outputs": [
    {
     "data": {
      "text/plain": [
       "[12, 2, 312, 12, 32, 42]"
      ]
     },
     "execution_count": 19,
     "metadata": {},
     "output_type": "execute_result"
    }
   ],
   "source": [
    "list(filter(lambda a: True if a%2 == 0 else False,[12,2,312,12,32,42,11]))"
   ]
  },
  {
   "cell_type": "code",
   "execution_count": 39,
   "id": "af430a51",
   "metadata": {},
   "outputs": [],
   "source": [
    "import re\n",
    "def password_validation(password):\n",
    "    if len(password) >= 8:\n",
    "        list_of_regx = ['[a-z]','[0-9]','[A-Z]','[!-/:-@]']\n",
    "        for regx in list_of_regx:\n",
    "            if re.search(regx,password):\n",
    "                continue\n",
    "            else:\n",
    "                return False\n",
    "        else:\n",
    "            return True\n",
    "    else:\n",
    "        return False"
   ]
  },
  {
   "cell_type": "code",
   "execution_count": 41,
   "id": "972425f5",
   "metadata": {},
   "outputs": [
    {
     "data": {
      "text/plain": [
       "['Tomato@1234', 'Password@123', 'Good#Papa2']"
      ]
     },
     "execution_count": 41,
     "metadata": {},
     "output_type": "execute_result"
    }
   ],
   "source": [
    "list(filter(password_validation,['Tomato@1234',\n",
    "                                 'tomato@1234',\n",
    "                                 '1234',\n",
    "                                  'Password@123',\n",
    "                                  'APPLE',\n",
    "                                  'Good#Papa2',\n",
    "                                   '@1aQ']))"
   ]
  },
  {
   "cell_type": "code",
   "execution_count": 42,
   "id": "13b043ae",
   "metadata": {},
   "outputs": [
    {
     "name": "stdout",
     "output_type": "stream",
     "text": [
      "1\n",
      "2\n",
      "3\n",
      "4\n",
      "5\n",
      "I am in else\n"
     ]
    }
   ],
   "source": [
    "# if for loop terminated with a break than else part will not run.\n",
    "# FOR-ELSE LOOP\n",
    "# IT IS A CORRECT INDENTATION.\n",
    "for i in range(1,6):\n",
    "    print(i)\n",
    "else:\n",
    "    print('I am in else')"
   ]
  },
  {
   "cell_type": "code",
   "execution_count": null,
   "id": "bad97f35",
   "metadata": {},
   "outputs": [],
   "source": []
  }
 ],
 "metadata": {
  "kernelspec": {
   "display_name": "Python 3",
   "language": "python",
   "name": "python3"
  },
  "language_info": {
   "codemirror_mode": {
    "name": "ipython",
    "version": 3
   },
   "file_extension": ".py",
   "mimetype": "text/x-python",
   "name": "python",
   "nbconvert_exporter": "python",
   "pygments_lexer": "ipython3",
   "version": "3.8.8"
  }
 },
 "nbformat": 4,
 "nbformat_minor": 5
}
