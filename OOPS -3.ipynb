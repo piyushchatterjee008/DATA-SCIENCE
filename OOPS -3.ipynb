{
 "cells": [
  {
   "cell_type": "code",
   "execution_count": 2,
   "id": "935d1b83",
   "metadata": {},
   "outputs": [
    {
     "name": "stdout",
     "output_type": "stream",
     "text": [
      "dipesh is a python instructor at edyoda\n",
      "dipesh is a python instructor at edyoda\n"
     ]
    }
   ],
   "source": [
    "# String formatting\n",
    "name = 'dipesh'\n",
    "role = 'python instructor'\n",
    "company = 'edyoda'\n",
    "\n",
    "# result = 'dipesh is a python instructor at edyoda'\n",
    "\n",
    "result = f'{name} is a {role} at {company}' # python3 only\n",
    "result1 = \"{} is a {} at {}\".format(name, role, company) #all python\n",
    "\n",
    "print(result)\n",
    "print(result1)"
   ]
  },
  {
   "cell_type": "code",
   "execution_count": 3,
   "id": "9d95e8b0",
   "metadata": {},
   "outputs": [
    {
     "name": "stdout",
     "output_type": "stream",
     "text": [
      "30000\n",
      "20000\n",
      "15000\n"
     ]
    }
   ],
   "source": [
    "class employee:\n",
    "    \n",
    "    def __init__(self,name,age,salary):\n",
    "        self.name=name\n",
    "        self.age=age\n",
    "        self.salary=salary\n",
    "    \n",
    "    def tell_salary(self):\n",
    "        return self.salary\n",
    "    \n",
    "    @classmethod\n",
    "    def from_department(cls,name,age,dept):\n",
    "        if dept == 'IT':\n",
    "            salary = 30000\n",
    "        else:\n",
    "            salary = 20000\n",
    "        return cls(name,age,salary)\n",
    "\n",
    "emp1 = employee('dipesh',25,15000)\n",
    "emp2 = employee.from_department('abc',21,'IT')\n",
    "emp3 = employee.from_department('abc',21,'Sales')\n",
    "print(emp2.salary)\n",
    "print(emp3.salary)\n",
    "print(emp1.salary)"
   ]
  },
  {
   "cell_type": "code",
   "execution_count": 5,
   "id": "bdbe20f1",
   "metadata": {},
   "outputs": [
    {
     "name": "stdout",
     "output_type": "stream",
     "text": [
      "Provide Length of a rectangle : 10\n",
      "provide Width of rectangle : 20\n",
      "Area of rectangle for given length and width 200\n"
     ]
    }
   ],
   "source": [
    "''' Write a Python class named Rectangle constructed by a length and width and a method \n",
    "which will compute the area of a rectangle.\n",
    "\n",
    "Steps:\n",
    "1. take length from user\n",
    "2. take width from user\n",
    "3. create a class with length and width by name Rectangle\n",
    "4. create a method by name area\n",
    "5. calculate area using formula=length*width\n",
    "6. return area\n",
    "7. create a rectangele calss object using the length and width given by user\n",
    "8. call the area method on created objects\n",
    "9. print \n",
    "\n",
    "'''\n",
    "\n",
    "length=int(input('Provide Length of a rectangle : '))\n",
    "width=int(input('provide Width of rectangle : '))\n",
    "\n",
    "class Rectangle:\n",
    "    def __init__(self,length,width):\n",
    "            self.length=length\n",
    "            self.width=width\n",
    "\n",
    "    def area(self):\n",
    "        ar=self.length*self.width\n",
    "        return ar\n",
    "\n",
    "obj1 = Rectangle(length,width)\n",
    "\n",
    "print('Area of rectangle for given length and width :',obj1.area())"
   ]
  },
  {
   "cell_type": "code",
   "execution_count": 6,
   "id": "68188db8",
   "metadata": {},
   "outputs": [
    {
     "name": "stdout",
     "output_type": "stream",
     "text": [
      "('dipesh', 'python')\n",
      "1\n",
      "1\n",
      "1\n",
      "('dipesh', 'python')\n"
     ]
    }
   ],
   "source": [
    "'''\n",
    "Write a Python function student_data () which will print the id of a student (student_id). \n",
    "If the user passes an argument student_name or student_class \n",
    "the function will print the student name and class_name\n",
    "\n",
    "Steps:\n",
    "1. write a class with instance attributes id, name, class with calss name student\n",
    "2. write a method student_data() with by default name and class will be none\n",
    "3. if name and class available return name and class else return id\n",
    "4. create student objects\n",
    "5. call student_data methods by name and class_name\n",
    "6. call student_data methods without name and class_name\n",
    "\n",
    "How to pass by default value of argument in function\n",
    "student_data(name=None,class_name=None)\n",
    "'''\n",
    "\n",
    "class student():\n",
    "    \n",
    "    def __init__(self,id,name,cls_name):\n",
    "        self.id = id\n",
    "        self.name = name\n",
    "        self.cls_name = cls_name\n",
    "        \n",
    "    def student_data(self, name=None, cls_name=None):\n",
    "        if name and cls_name: # if name!=None and cls_name!=None\n",
    "            return self.name, self.cls_name\n",
    "        else:\n",
    "            return self.id\n",
    "        \n",
    "student1 = student(1,'dipesh','python')\n",
    "print(student1.student_data('dipesh','python'))\n",
    "print(student1.student_data())\n",
    "print(student1.student_data('dipesh'))\n",
    "print(student1.student_data('python'))\n",
    "\n",
    "stud2 = student(1,'dipesh','python').student_data('Sumit', 'python')\n",
    "print(stud2)\n"
   ]
  },
  {
   "cell_type": "code",
   "execution_count": 7,
   "id": "9750536a",
   "metadata": {},
   "outputs": [
    {
     "name": "stdout",
     "output_type": "stream",
     "text": [
      "('piyush', 'python')\n",
      "1\n",
      "1\n",
      "1\n"
     ]
    }
   ],
   "source": [
    "class student():\n",
    "    def __init__(self,id,name,cls_name):\n",
    "        self.id =id\n",
    "        self.name=name\n",
    "        self.cls_name=cls_name\n",
    "        \n",
    "    def student_data(self,name=None, cls_name=None):\n",
    "        if name and cls_name:\n",
    "            return self.name,self.cls_name\n",
    "        else:\n",
    "            return self.id\n",
    "        \n",
    "student1 = student(1,'piyush','python')\n",
    "\n",
    "print(student1.student_data('dipes','ads'))\n",
    "print(student1.student_data())\n",
    "\n",
    "print(student1.student_data('asdsa'))\n",
    "print(student1.student_data())"
   ]
  },
  {
   "cell_type": "code",
   "execution_count": 8,
   "id": "22210c1e",
   "metadata": {},
   "outputs": [
    {
     "name": "stdout",
     "output_type": "stream",
     "text": [
      "1\n",
      "('dipesh', 'python')\n"
     ]
    }
   ],
   "source": [
    "def student_data(id, name=None, cls_name=None):\n",
    "    if name and cls_name: # if name!=None and cls_name!=None\n",
    "        return name, cls_name\n",
    "    else:\n",
    "        return id\n",
    "    \n",
    "print(student_data(1))\n",
    "print(student_data(1,'dipesh','python'))"
   ]
  },
  {
   "cell_type": "code",
   "execution_count": null,
   "id": "5cafba26",
   "metadata": {},
   "outputs": [],
   "source": []
  }
 ],
 "metadata": {
  "kernelspec": {
   "display_name": "Python 3",
   "language": "python",
   "name": "python3"
  },
  "language_info": {
   "codemirror_mode": {
    "name": "ipython",
    "version": 3
   },
   "file_extension": ".py",
   "mimetype": "text/x-python",
   "name": "python",
   "nbconvert_exporter": "python",
   "pygments_lexer": "ipython3",
   "version": "3.8.8"
  }
 },
 "nbformat": 4,
 "nbformat_minor": 5
}
