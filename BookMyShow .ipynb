{
 "cells": [
  {
   "cell_type": "code",
   "execution_count": 1,
   "id": "b9f219f1",
   "metadata": {},
   "outputs": [
    {
     "name": "stdout",
     "output_type": "stream",
     "text": [
      "Please Enter your preference:\n",
      "1. Yes\n",
      "2. No\n",
      "3. Exit\n",
      "Enter your choice number: 1\n",
      "You have selected Yes\n",
      "Please Enter your preference:\n",
      "1. Yes\n",
      "2. No\n",
      "3. Exit\n",
      "Enter your choice number: 2\n",
      "You have selected No\n",
      "Please Enter your preference:\n",
      "1. Yes\n",
      "2. No\n",
      "3. Exit\n",
      "Enter your choice number: 3\n",
      "You have selected Exit\n"
     ]
    }
   ],
   "source": [
    "while True:\n",
    "    user_input = int(input(\"Please Enter your preference:\\n1. Yes\\n2. No\\n3. Exit\\nEnter your choice number: \"))\n",
    "    if user_input == 1:\n",
    "        print(\"You have selected Yes\")\n",
    "    elif user_input == 2:\n",
    "        print(\"You have selected No\")\n",
    "    elif user_input == 3:\n",
    "        print(\"You have selected Exit\")\n",
    "        break\n",
    "    else:\n",
    "        print(\"Option Not Available. Please choose the option from below: \")\n",
    "        \n",
    "\n",
    "    "
   ]
  },
  {
   "cell_type": "code",
   "execution_count": 9,
   "id": "efb1ce0e",
   "metadata": {},
   "outputs": [
    {
     "name": "stdout",
     "output_type": "stream",
     "text": [
      "Enter no. of rows: 7\n",
      "enter no. of columns: 8\n",
      "Here is seat allocation available for you: \n",
      "  1 2 3 4 5 6 7 8 \n",
      "1 S S S S S S S S \n",
      "2 S S S S S S S S \n",
      "3 S S S S S S S S \n",
      "4 S S S S S S S S \n",
      "5 S S S S S S S S \n",
      "6 S S S S S S S S \n",
      "7 S S S S S S S S \n"
     ]
    }
   ],
   "source": [
    "class movie:\n",
    "    \n",
    "    def __init__(self,rows,columns):\n",
    "        self.rows = rows\n",
    "        self.columns = columns\n",
    "        \n",
    "    def show_seats(self):\n",
    "        print(\"Here is seat allocation available for you: \")\n",
    "        for row in range(0,self.rows+1):\n",
    "            for column in range(0,self.columns+1):\n",
    "                if row == 0:\n",
    "                    if column == 0:\n",
    "                        print(\" \", end=\" \")\n",
    "                    else:\n",
    "                        print(column, end=\" \")\n",
    "                else:\n",
    "                    if column == 0:\n",
    "                        print(row, end=\" \")\n",
    "                    else:\n",
    "                            print(\"S\", end=\" \")\n",
    "            print()\n",
    "            \n",
    "rows=int(input(\"Enter no. of rows: \"))\n",
    "columns=int(input(\"enter no. of columns: \"))\n",
    "\n",
    "m1= movie(rows,columns)\n",
    "m1.show_seats()"
   ]
  },
  {
   "cell_type": "code",
   "execution_count": null,
   "id": "0f703083",
   "metadata": {},
   "outputs": [],
   "source": []
  },
  {
   "cell_type": "code",
   "execution_count": null,
   "id": "6d3fa4bc",
   "metadata": {},
   "outputs": [],
   "source": []
  }
 ],
 "metadata": {
  "kernelspec": {
   "display_name": "Python 3",
   "language": "python",
   "name": "python3"
  },
  "language_info": {
   "codemirror_mode": {
    "name": "ipython",
    "version": 3
   },
   "file_extension": ".py",
   "mimetype": "text/x-python",
   "name": "python",
   "nbconvert_exporter": "python",
   "pygments_lexer": "ipython3",
   "version": "3.8.8"
  }
 },
 "nbformat": 4,
 "nbformat_minor": 5
}
