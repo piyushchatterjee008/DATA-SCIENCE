{
 "cells": [
  {
   "cell_type": "code",
   "execution_count": 5,
   "id": "02f3955e",
   "metadata": {},
   "outputs": [
    {
     "name": "stdout",
     "output_type": "stream",
     "text": [
      "{'name': 'student1', 'score': 100, 'unused_key': 'unused_value', 'class': '10th'}\n",
      "{'name': 'student1', 'score': 80, 'unused_key': 'unused_value', 'class': '10th'}\n",
      "{'name': 'student1', 'score': 80, 'class': '10th'}\n",
      "\n",
      "dict_keys(['name', 'score', 'class'])\n",
      "dict_values(['student1', 80, '10th'])\n",
      "dict_items([('name', 'student1'), ('score', 80), ('class', '10th')])\n",
      "\n",
      "{'name': 'student1', 'score': 80, 'class': '10th'}\n"
     ]
    }
   ],
   "source": [
    "# Declaration\n",
    "my_dict = {'name':'student1','score':100, 'unused_key':'unused_value'}\n",
    "\n",
    "# adding a key\n",
    "my_dict['class']='10th'\n",
    "print(my_dict)\n",
    "#updation\n",
    "my_dict['score']=80\n",
    "print(my_dict)\n",
    "#removal\n",
    "my_dict.pop('unused_key')\n",
    "print(my_dict)\n",
    "\n",
    "\n",
    "# #get all keys of a dictionary\n",
    "print(\"\")\n",
    "print(my_dict.keys())\n",
    "print(my_dict.values())\n",
    "print(my_dict.items())\n",
    "\n",
    "\n"
   ]
  },
  {
   "cell_type": "code",
   "execution_count": 7,
   "id": "bf39b19e",
   "metadata": {},
   "outputs": [
    {
     "name": "stdout",
     "output_type": "stream",
     "text": [
      "\n",
      "{'name': 'student1', 'score': 80, 'class': '10th'}\n"
     ]
    }
   ],
   "source": [
    "print(\"\")\n",
    "list_of_tuples=[('name', 'student1'), ('score', 80), ('class', '10th')]\n",
    "my_dict_new = dict(list_of_tuples)\n",
    "print(my_dict_new)\n"
   ]
  },
  {
   "cell_type": "code",
   "execution_count": 9,
   "id": "9e677082",
   "metadata": {},
   "outputs": [
    {
     "name": "stdout",
     "output_type": "stream",
     "text": [
      "(0, 1)\n",
      "(1, 2)\n",
      "(2, 3)\n",
      "\n",
      "0 name\n",
      "1 score\n",
      "2 class\n"
     ]
    }
   ],
   "source": [
    "\n",
    "# for key,value in my_dict.items():\n",
    "#     print(key, value)\n",
    "    \n",
    "\n",
    "\n",
    "#enumerate\n",
    "\n",
    "for i in enumerate([1,2,3]):\n",
    "    print(i)\n",
    "\n",
    "# enumerate([1,2,3]) = [(0,1),(1,2),(2,3)]\n",
    "\n",
    "print(\"\")\n",
    "for key,value in enumerate(my_dict):\n",
    "    print(key, value)"
   ]
  },
  {
   "cell_type": "code",
   "execution_count": 10,
   "id": "5d81a7ce",
   "metadata": {},
   "outputs": [
    {
     "name": "stdout",
     "output_type": "stream",
     "text": [
      "0 name student1\n",
      "1 score 100\n",
      "2 unused_key unused_value\n"
     ]
    }
   ],
   "source": [
    "my_dict = {'name':'student1','score':100, 'unused_key':'unused_value'}\n",
    "\n",
    "\n",
    "# for i in my_dict: # my_dict = ['name','age','score']\n",
    "#     print(i)\n",
    "\n",
    "# for index,key in enumerate(my_dict):\n",
    "#     print(index, key)\n",
    "# () = (key,values) \n",
    "#'name' = (key, value)\n",
    "\n",
    "\n",
    "for index,(key,value) in enumerate(my_dict.items()): \n",
    "    #my_dict.items()[('name', 'student1'), ('score', 80), ('class', '10\n",
    "    print(index, key, value)"
   ]
  },
  {
   "cell_type": "code",
   "execution_count": 11,
   "id": "d43fe79f",
   "metadata": {},
   "outputs": [
    {
     "name": "stdout",
     "output_type": "stream",
     "text": [
      "1 2 3 4\n"
     ]
    }
   ],
   "source": [
    "#unpacking element to individual variables.\n",
    "a,b,c,d = [1,2,3,4]\n",
    "\n",
    "print(a,b,c,d)"
   ]
  },
  {
   "cell_type": "code",
   "execution_count": 13,
   "id": "f6632545",
   "metadata": {},
   "outputs": [
    {
     "name": "stdout",
     "output_type": "stream",
     "text": [
      "{1, 2, 3, 5}\n",
      "{1, 3, 5}\n",
      "union\n",
      "{1, 2, 3, 4, 5, 6}\n",
      "intersection\n",
      "{3, 4}\n",
      "difference\n",
      "{1, 2}\n",
      "{5, 6}\n"
     ]
    }
   ],
   "source": [
    "# set declaration\n",
    "my_set={1,2,3,2,1}\n",
    "\n",
    "my_list = [1,2,3,3]\n",
    "converted_set= set(my_list)\n",
    "\n",
    "#adding\n",
    "my_set.add(5)\n",
    "print(my_set)\n",
    "#removal\n",
    "my_set.remove(2)\n",
    "print(my_set)\n",
    "\n",
    "s1={1,2,3,4}\n",
    "s2={3,4,5,6}\n",
    "\n",
    "# uninon\n",
    "print(\"union\")\n",
    "# (1,2,3,4),(3,4,5,6) = (1,2,3,4,5,6)\n",
    "print(s1.union(s2))\n",
    "\n",
    "# intersection\n",
    "print('intersection')\n",
    "# (1,2,3,4),(3,4,5,6) = (3,4)\n",
    "print(s1.intersection(s2))\n",
    "\n",
    "# difference\n",
    "print('difference')\n",
    "# (1,2,3,4),(3,4,5,6) = (1,2)\n",
    "print(s1.difference(s2))# = (1,2))\n",
    "print(s2.difference(s1))# = (5,6)"
   ]
  },
  {
   "cell_type": "code",
   "execution_count": 15,
   "id": "a06e7098",
   "metadata": {},
   "outputs": [
    {
     "name": "stdout",
     "output_type": "stream",
     "text": [
      "frozenset({1, 3, 23})\n",
      "is sub set True\n",
      "is super set False\n"
     ]
    }
   ],
   "source": [
    "# frozenset\n",
    "\n",
    "my_frozenset = frozenset({1,23,3}) # fronzenset([1,2,3,4])\n",
    "print(my_frozenset)\n",
    "\n",
    "s1 = {1,2,3,4,5,0}\n",
    "s2 = {1,0}\n",
    "print(\"is sub set\",s2.issubset(s1))\n",
    "print(\"is super set\",s2.issuperset(s1))"
   ]
  },
  {
   "cell_type": "code",
   "execution_count": null,
   "id": "506192fc",
   "metadata": {},
   "outputs": [],
   "source": []
  }
 ],
 "metadata": {
  "kernelspec": {
   "display_name": "Python 3",
   "language": "python",
   "name": "python3"
  },
  "language_info": {
   "codemirror_mode": {
    "name": "ipython",
    "version": 3
   },
   "file_extension": ".py",
   "mimetype": "text/x-python",
   "name": "python",
   "nbconvert_exporter": "python",
   "pygments_lexer": "ipython3",
   "version": "3.8.8"
  }
 },
 "nbformat": 4,
 "nbformat_minor": 5
}
