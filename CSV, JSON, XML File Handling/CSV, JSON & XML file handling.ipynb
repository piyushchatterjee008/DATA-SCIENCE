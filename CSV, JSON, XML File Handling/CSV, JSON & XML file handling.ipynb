{
 "cells": [
  {
   "cell_type": "code",
   "execution_count": 12,
   "id": "9520f28b",
   "metadata": {},
   "outputs": [
    {
     "name": "stdout",
     "output_type": "stream",
     "text": [
      "<_csv.reader object at 0x00000130DDE13CA0>\n",
      "['name', 'age', 'roll number']\n",
      "['abc', '21', '1234']\n",
      "['ghi', '27', '1238']\n",
      "['XYZ', '25', '1239']\n"
     ]
    }
   ],
   "source": [
    "import csv\n",
    "\n",
    "# Reading the CSV file\n",
    "csv_file = open('csv_data.csv','r')\n",
    "\n",
    "csv_file_data = csv.reader(csv_file)\n",
    "\n",
    "# with open('csv_data.csv','r') as csv_file:\n",
    "#     csv_file_data = csv.reader(csv_file)\n",
    "\n",
    "print(csv_file_data)\n",
    "\n",
    "# print(csv_file_data.__next__())\n",
    "# print(csv_file_data.__next__())\n",
    "# print(csv_file_data.__next__())\n",
    "# print(csv_file_data.__next__())\n",
    "\n",
    "for row in csv_file_data:\n",
    "    print(row)\n",
    "    \n",
    "csv_file.close()"
   ]
  },
  {
   "cell_type": "code",
   "execution_count": 23,
   "id": "58acceef",
   "metadata": {},
   "outputs": [],
   "source": [
    "import csv\n",
    "\n",
    "#writing the csv file\n",
    "\n",
    "csv_file=open('csv_data.csv','w+')\n",
    "write_csv_file_data = csv.writer(csv_file)\n",
    "\n",
    "#wrting single row\n",
    "rows=['ram','shaym','krishna']\n",
    "\n",
    "#writing mulple rows\n",
    "\n",
    "rows=[['name','age','rollno'],['piyus','23','12'],['seti','23','14'],['ram','23','11']]\n",
    "\n",
    "write_csv_file_data.writerows(rows)\n",
    "csv_file.close()"
   ]
  },
  {
   "cell_type": "code",
   "execution_count": 24,
   "id": "906954d3",
   "metadata": {},
   "outputs": [
    {
     "name": "stdout",
     "output_type": "stream",
     "text": [
      "['name', 'age', 'rollno']\n",
      "[]\n",
      "['piyus', '23', '12']\n",
      "[]\n",
      "['seti', '23', '14']\n",
      "[]\n",
      "['ram', '23', '11']\n",
      "[]\n"
     ]
    }
   ],
   "source": [
    "import csv\n",
    "\n",
    "csv_file=open('csv_data.csv','r')\n",
    "\n",
    "csv_data=csv.reader(csv_file)\n",
    "\n",
    "for rows in csv_data:\n",
    "    print(rows)\n"
   ]
  },
  {
   "cell_type": "code",
   "execution_count": 25,
   "id": "b38a26f8",
   "metadata": {},
   "outputs": [],
   "source": [
    "import csv\n",
    "\n",
    "# Appending data into CSV file\n",
    "csv_file = open('csv_data.csv','a+')\n",
    "wrtite_csv_file_data = csv.writer(csv_file)\n",
    "\n",
    "row = ['XYZ', '25', '1239']\n",
    "rows = [['name','age','roll number'],['abc', '21', '1234'],['ghi', '27', '1238']]\n",
    "# wrtite_csv_file_data.writerow(row)\n",
    "wrtite_csv_file_data.writerows(rows)\n",
    "\n",
    "csv_file.close()"
   ]
  },
  {
   "cell_type": "code",
   "execution_count": 26,
   "id": "8fc670d9",
   "metadata": {},
   "outputs": [
    {
     "name": "stdout",
     "output_type": "stream",
     "text": [
      "<_csv.reader object at 0x00000130DE4FD640>\n",
      "['name', 'age', 'rollno']\n",
      "[]\n",
      "['piyus', '23', '12']\n",
      "[]\n",
      "['seti', '23', '14']\n",
      "[]\n",
      "['ram', '23', '11']\n",
      "[]\n",
      "['name', 'age', 'roll number']\n",
      "[]\n",
      "['abc', '21', '1234']\n",
      "[]\n",
      "['ghi', '27', '1238']\n",
      "[]\n"
     ]
    }
   ],
   "source": [
    "import csv\n",
    "\n",
    "# Reading the CSV file\n",
    "csv_file = open('csv_data.csv','r')\n",
    "csv_file_data = csv.reader(csv_file)\n",
    "\n",
    "# with open('csv_data.csv','r') as csv_file:\n",
    "#     csv_file_data = csv.reader(csv_file)\n",
    "\n",
    "print(csv_file_data)\n",
    "\n",
    "# print(csv_file_data.__next__())\n",
    "# print(csv_file_data.__next__())\n",
    "# print(csv_file_data.__next__())\n",
    "# print(csv_file_data.__next__())\n",
    "# print(csv_file_data.__next__())\n",
    "\n",
    "for row in csv_file_data:\n",
    "    print(row)\n",
    "    \n",
    "csv_file.close()"
   ]
  },
  {
   "cell_type": "code",
   "execution_count": 34,
   "id": "4e7b5773",
   "metadata": {},
   "outputs": [
    {
     "name": "stdout",
     "output_type": "stream",
     "text": [
      "[{'color': 'white', 'value': '#fff'}, {'color': 'red', 'value': '#fff'}]\n"
     ]
    }
   ],
   "source": [
    "#json\n",
    "\n",
    "import json\n",
    "\n",
    "json_file =open(\"json_data.json\")\n",
    "json_fle_data= json.load(json_file)\n",
    "\n",
    "print(json_fle_data)\n",
    "\n",
    "json_file.close()"
   ]
  },
  {
   "cell_type": "code",
   "execution_count": 39,
   "id": "85855c4a",
   "metadata": {},
   "outputs": [],
   "source": [
    "# convert into JSON:\n",
    "json_write_data=[{\"color\": \"white\", \"value\": \"#fff\"}]\n",
    "json_file = open(\"json_data.json\", \"w+\")\n",
    "\n",
    "# use four indents to make it easier to read the result:\n",
    "# sort the result alphabetically by keys:\n",
    "json.dump(json_write_data,json_file,indent=4,sort_keys=True)\n",
    "\n",
    "json_file.close()"
   ]
  },
  {
   "cell_type": "code",
   "execution_count": 40,
   "id": "392306a4",
   "metadata": {},
   "outputs": [
    {
     "name": "stdout",
     "output_type": "stream",
     "text": [
      "[{'color': 'white', 'value': '#fff'}]\n"
     ]
    }
   ],
   "source": [
    "json_file = open('json_data.json','r')\n",
    "json_file_data = json.load(json_file)\n",
    "print((json_file_data))\n",
    "json_file.close()"
   ]
  },
  {
   "cell_type": "code",
   "execution_count": 38,
   "id": "3e15cb6a",
   "metadata": {},
   "outputs": [],
   "source": [
    "json_append_data={\"color\": \"red\", \"value\": \"#fff\"}\n",
    "json_file_data.append(json_append_data)"
   ]
  },
  {
   "cell_type": "code",
   "execution_count": null,
   "id": "05bd9578",
   "metadata": {},
   "outputs": [],
   "source": [
    "json_file = open(\"json_data.json\", \"w+\")\n",
    "json.dump(json_file_data,json_file,indent=4,sort_keys=True)\n",
    "json_file.close()"
   ]
  },
  {
   "cell_type": "code",
   "execution_count": 41,
   "id": "8fc2c255",
   "metadata": {},
   "outputs": [
    {
     "name": "stdout",
     "output_type": "stream",
     "text": [
      "[{'color': 'white', 'value': '#fff'}]\n"
     ]
    }
   ],
   "source": [
    "json_file = open('json_data.json','r+')\n",
    "json_file_data = json.load(json_file)\n",
    "print((json_file_data))\n",
    "json_file.close()"
   ]
  },
  {
   "cell_type": "code",
   "execution_count": 43,
   "id": "fd5f52a1",
   "metadata": {},
   "outputs": [
    {
     "name": "stdout",
     "output_type": "stream",
     "text": [
      "<xml.etree.ElementTree.ElementTree object at 0x00000130DE55CC10>\n",
      "<Element 'to' at 0x00000130DDA9A900> {} Tove\n",
      "<Element 'from' at 0x00000130DDA9A950> {'type': 'user_mail'} Jani\n",
      "<Element 'heading' at 0x00000130DDA9A9A0> {} Reminder\n",
      "<Element 'body' at 0x00000130DDA9A9F0> {} Don't forget me this weekend!\n"
     ]
    }
   ],
   "source": [
    "#XML file handling\n",
    "import xml.etree.ElementTree as et # import pandas as pd\n",
    "\n",
    "tree = et.parse('xml_data.xml')\n",
    "print(tree)\n",
    "\n",
    "root = tree.getroot()\n",
    "# print(root)\n",
    "\n",
    "for r in root:\n",
    "    print(r, r.attrib, r.text)"
   ]
  },
  {
   "cell_type": "code",
   "execution_count": 44,
   "id": "c8d92166",
   "metadata": {},
   "outputs": [
    {
     "data": {
      "text/plain": [
       "159"
      ]
     },
     "execution_count": 44,
     "metadata": {},
     "output_type": "execute_result"
    }
   ],
   "source": [
    "data = et.Element(\"note\")\n",
    "\n",
    "element1 = et.SubElement(data, 'to')\n",
    "# element1.set('type', 'whome')\n",
    "# element1.text = 'Tove'\n",
    "# sub_element1 = et.SubElement(elemte1,'name')\n",
    "element1.text = 'Vishnu'\n",
    "\n",
    "element2 = et.SubElement(data, 'from')\n",
    "element2.set('type', 'user_mail')\n",
    "element2.text = 'Dipesh'\n",
    "\n",
    "element3 = et.SubElement(data, 'heading')\n",
    "element3.text = 'Reminder'\n",
    "\n",
    "element4 = et.SubElement(data, 'body')\n",
    "element4.text = \"Don't forget to practice question and watch recordings!\"\n",
    "\n",
    "xml_write_data = et.tostring(data)\n",
    "\n",
    "# for writing open the file in wite binary mode\n",
    "\n",
    "xml_file = open('xm_data_2.xml','wb')\n",
    "xml_file.write(xml_write_data)"
   ]
  },
  {
   "cell_type": "code",
   "execution_count": 45,
   "id": "b7d48b11",
   "metadata": {},
   "outputs": [
    {
     "ename": "ParseError",
     "evalue": "no element found: line 1, column 0 (<string>)",
     "output_type": "error",
     "traceback": [
      "Traceback \u001b[1;36m(most recent call last)\u001b[0m:\n",
      "  File \u001b[0;32m\"C:\\Users\\PIYUSH\\anaconda3\\lib\\site-packages\\IPython\\core\\interactiveshell.py\"\u001b[0m, line \u001b[0;32m3437\u001b[0m, in \u001b[0;35mrun_code\u001b[0m\n    exec(code_obj, self.user_global_ns, self.user_ns)\n",
      "  File \u001b[0;32m\"<ipython-input-45-b2c3fbd1e9e7>\"\u001b[0m, line \u001b[0;32m1\u001b[0m, in \u001b[0;35m<module>\u001b[0m\n    tree = et.parse('xm_data_2.xml')\n",
      "  File \u001b[0;32m\"C:\\Users\\PIYUSH\\anaconda3\\lib\\xml\\etree\\ElementTree.py\"\u001b[0m, line \u001b[0;32m1202\u001b[0m, in \u001b[0;35mparse\u001b[0m\n    tree.parse(source, parser)\n",
      "\u001b[1;36m  File \u001b[1;32m\"C:\\Users\\PIYUSH\\anaconda3\\lib\\xml\\etree\\ElementTree.py\"\u001b[1;36m, line \u001b[1;32m595\u001b[1;36m, in \u001b[1;35mparse\u001b[1;36m\u001b[0m\n\u001b[1;33m    self._root = parser._parse_whole(source)\u001b[0m\n",
      "\u001b[1;36m  File \u001b[1;32m\"<string>\"\u001b[1;36m, line \u001b[1;32munknown\u001b[0m\n\u001b[1;31mParseError\u001b[0m\u001b[1;31m:\u001b[0m no element found: line 1, column 0\n"
     ]
    }
   ],
   "source": [
    "tree = et.parse('xm_data_2.xml')\n",
    "print(tree)\n",
    "\n",
    "root = tree.getroot()\n",
    "# print(root)\n",
    "\n",
    "for r in root:\n",
    "    print(r, r.attrib, r.text)"
   ]
  },
  {
   "cell_type": "code",
   "execution_count": null,
   "id": "1560f52c",
   "metadata": {},
   "outputs": [],
   "source": []
  }
 ],
 "metadata": {
  "kernelspec": {
   "display_name": "Python 3",
   "language": "python",
   "name": "python3"
  },
  "language_info": {
   "codemirror_mode": {
    "name": "ipython",
    "version": 3
   },
   "file_extension": ".py",
   "mimetype": "text/x-python",
   "name": "python",
   "nbconvert_exporter": "python",
   "pygments_lexer": "ipython3",
   "version": "3.8.8"
  }
 },
 "nbformat": 4,
 "nbformat_minor": 5
}
