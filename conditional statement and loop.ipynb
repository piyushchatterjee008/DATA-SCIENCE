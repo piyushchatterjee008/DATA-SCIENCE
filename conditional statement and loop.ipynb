{
 "cells": [
  {
   "cell_type": "code",
   "execution_count": 1,
   "id": "dcc60a22",
   "metadata": {},
   "outputs": [
    {
     "name": "stdout",
     "output_type": "stream",
     "text": [
      "you are not eligible for credit card\n"
     ]
    }
   ],
   "source": [
    "'''\n",
    "1. only if condition\n",
    "if (condition):\n",
    "    code line1\n",
    "    code line2\n",
    "\n",
    "2. if-else\n",
    "if (condition):\n",
    "    code line1\n",
    "    code line2\n",
    "else:\n",
    "    code line1\n",
    "codeline2\n",
    "    \n",
    "3. if elif\n",
    "if (condition):\n",
    "    code line1\n",
    "    code line2\n",
    "elif (condition): #elif (condition):\n",
    "    code line1\n",
    "else:\n",
    "    code\n",
    "    \n",
    "4 nested if else statement:\n",
    "if condition1:\n",
    "    if condition2:\n",
    "        if condition3:\n",
    "            if condition4:\n",
    "                some code\n",
    "        code line 1\n",
    "    else:\n",
    "        condition1 is true but condition 2 is not met/false\n",
    "elif condition2:\n",
    "    condition1 is not met but condition2 is true/met\n",
    "else:\n",
    "    condition1 is not met but condition2 is not true/met\n",
    "        \n",
    "    \n",
    "''' \n",
    "\n",
    "age=23\n",
    "salary=22000\n",
    "\n",
    "if age>=18:\n",
    "    if salary>25000:\n",
    "        print(\"you are eligible for Cerdit card\")\n",
    "    else:\n",
    "        print(\"you are not eligible for credit card\")\n",
    "elif salary>25000:\n",
    "    print(\"Age not met but salary eligible\")\n",
    "else:\n",
    "    print(\"salary not met your age is eligible\")"
   ]
  },
  {
   "cell_type": "code",
   "execution_count": 2,
   "id": "f861fe48",
   "metadata": {},
   "outputs": [
    {
     "name": "stdout",
     "output_type": "stream",
     "text": [
      "C\n"
     ]
    }
   ],
   "source": [
    "#check multiple conditions in one statement:\n",
    "# if conditon1 and condition2:\n",
    "#     print(\"All condition are true\")\n",
    "    \n",
    "# if condition1 or condition2:\n",
    "#     print(\"any one/all codition met\")\n",
    "    \n",
    "grade=79\n",
    "if grade>=90:\n",
    "    print(\"A\")\n",
    "elif grade>=80 and grade<=90:\n",
    "    print(\"B\")\n",
    "elif grade>=70 and grade<=80:\n",
    "    print(\"C\")\n",
    "else:\n",
    "    print(\"Failed\")"
   ]
  },
  {
   "cell_type": "code",
   "execution_count": 7,
   "id": "d3491145",
   "metadata": {},
   "outputs": [
    {
     "name": "stdout",
     "output_type": "stream",
     "text": [
      "1\n",
      "2\n",
      "3\n",
      "4\n",
      "5\n",
      "6\n",
      "7\n",
      "8\n",
      "9\n",
      "10\n"
     ]
    }
   ],
   "source": [
    "'''\n",
    "For loop:\n",
    "for iterator in iterator_value/interable objects/sequence: [1,2,3,4,5], (1,2,3,4,5), 'string', range(1,5)=[1,2,3,4]\n",
    "    if else statement or if elif else\n",
    "    code line 1\n",
    "    code line 2\n",
    "    \n",
    "for student in class:\n",
    "    write name in notebook\n",
    "    \n",
    "for i in list:\n",
    "    pass\n",
    "'''\n",
    "for iterator in [1,2,3,4,5,6,7,8,9,10]:\n",
    "    print(iterator)"
   ]
  },
  {
   "cell_type": "code",
   "execution_count": 11,
   "id": "6f3f9481",
   "metadata": {},
   "outputs": [
    {
     "name": "stdout",
     "output_type": "stream",
     "text": [
      "K\n",
      "A\n",
      "P\n",
      "I\n",
      "L\n"
     ]
    }
   ],
   "source": [
    "for i in \"KAPIL\":\n",
    "    print(i)\n",
    "    \n"
   ]
  },
  {
   "cell_type": "code",
   "execution_count": 12,
   "id": "82edf272",
   "metadata": {},
   "outputs": [
    {
     "name": "stdout",
     "output_type": "stream",
     "text": [
      "K A P I L "
     ]
    }
   ],
   "source": [
    "for i in \"KAPIL\":\n",
    "    print(i, end=\" \")"
   ]
  },
  {
   "cell_type": "code",
   "execution_count": 13,
   "id": "64978a84",
   "metadata": {},
   "outputs": [
    {
     "name": "stdout",
     "output_type": "stream",
     "text": [
      "K,A,P,I,L,"
     ]
    }
   ],
   "source": [
    "for i in \"KAPIL\":\n",
    "    print(i, end=\",\")"
   ]
  },
  {
   "cell_type": "code",
   "execution_count": 15,
   "id": "817f0360",
   "metadata": {},
   "outputs": [
    {
     "name": "stdout",
     "output_type": "stream",
     "text": [
      "6\n"
     ]
    }
   ],
   "source": [
    "stair_count = 0\n",
    "stairs = ['stair1','stair1','stair1','stair1','stair1','stair1']\n",
    "for i in stairs:\n",
    "    stair_count=stair_count+1\n",
    "print(stair_count)"
   ]
  },
  {
   "cell_type": "code",
   "execution_count": 16,
   "id": "8d568e54",
   "metadata": {},
   "outputs": [
    {
     "name": "stdout",
     "output_type": "stream",
     "text": [
      "1\n",
      "0\n",
      "0\n",
      "0\n"
     ]
    }
   ],
   "source": [
    "for i in str(1000):\n",
    "    print(i)"
   ]
  },
  {
   "cell_type": "code",
   "execution_count": 17,
   "id": "de594fa6",
   "metadata": {},
   "outputs": [
    {
     "name": "stdout",
     "output_type": "stream",
     "text": [
      "{'key1': 'value1', 'key2': 'value2'}\n"
     ]
    }
   ],
   "source": [
    "dict= {\"key1\":\"value1\", \"key2\":\"value2\"}\n",
    "print(dict)"
   ]
  },
  {
   "cell_type": "code",
   "execution_count": null,
   "id": "dcbbf1a4",
   "metadata": {},
   "outputs": [],
   "source": []
  }
 ],
 "metadata": {
  "kernelspec": {
   "display_name": "Python 3",
   "language": "python",
   "name": "python3"
  },
  "language_info": {
   "codemirror_mode": {
    "name": "ipython",
    "version": 3
   },
   "file_extension": ".py",
   "mimetype": "text/x-python",
   "name": "python",
   "nbconvert_exporter": "python",
   "pygments_lexer": "ipython3",
   "version": "3.8.8"
  }
 },
 "nbformat": 4,
 "nbformat_minor": 5
}
