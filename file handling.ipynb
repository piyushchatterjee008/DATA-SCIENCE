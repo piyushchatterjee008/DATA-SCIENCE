{
 "cells": [
  {
   "cell_type": "code",
   "execution_count": 1,
   "id": "053009d5",
   "metadata": {},
   "outputs": [],
   "source": [
    "#creating\n",
    "\n",
    "file = open('test.txt','w')\n",
    "file.write(\"My test file and i'm writing\")\n",
    "file.close()"
   ]
  },
  {
   "cell_type": "code",
   "execution_count": 2,
   "id": "d6632aad",
   "metadata": {},
   "outputs": [
    {
     "name": "stdout",
     "output_type": "stream",
     "text": [
      "My test file and i'm writing\n"
     ]
    }
   ],
   "source": [
    "#reading\n",
    "#reading\n",
    "file = open('test.txt','r')\n",
    "print(file.read())\n",
    "file.close()"
   ]
  },
  {
   "cell_type": "code",
   "execution_count": 3,
   "id": "31de6945",
   "metadata": {},
   "outputs": [],
   "source": [
    "file = open('test.txt','w')\n",
    "file.write(\"Something new\")\n",
    "file.close()"
   ]
  },
  {
   "cell_type": "code",
   "execution_count": 4,
   "id": "ba887c81",
   "metadata": {},
   "outputs": [
    {
     "name": "stdout",
     "output_type": "stream",
     "text": [
      "Something new\n"
     ]
    }
   ],
   "source": [
    "file = open('test.txt','r')\n",
    "print(file.read())\n",
    "file.close()"
   ]
  },
  {
   "cell_type": "code",
   "execution_count": 5,
   "id": "aeb8d1e1",
   "metadata": {},
   "outputs": [],
   "source": [
    "file = open('test.txt','a')\n",
    "file.write(\"Writing in append mode\")\n",
    "file.close()"
   ]
  },
  {
   "cell_type": "code",
   "execution_count": 6,
   "id": "3af47843",
   "metadata": {},
   "outputs": [
    {
     "name": "stdout",
     "output_type": "stream",
     "text": [
      "Something newWriting in append mode\n"
     ]
    }
   ],
   "source": [
    "file = open('test.txt','r')\n",
    "print(file.read())\n",
    "file.close()"
   ]
  },
  {
   "cell_type": "code",
   "execution_count": 7,
   "id": "76479759",
   "metadata": {},
   "outputs": [
    {
     "name": "stdout",
     "output_type": "stream",
     "text": [
      "Something newWriting in append mode\n",
      "after writing:   content finished\n"
     ]
    }
   ],
   "source": [
    "file = open('test.txt','r+')\n",
    "print(file.read())\n",
    "file.write(\" Writing in Read and write mode\")\n",
    "print(\"after writing: \",file.read(), \"content finished\")\n",
    "file.close()"
   ]
  },
  {
   "cell_type": "code",
   "execution_count": 8,
   "id": "64f6fb70",
   "metadata": {},
   "outputs": [
    {
     "name": "stdout",
     "output_type": "stream",
     "text": [
      " mode Writing in Read and write mode\n"
     ]
    }
   ],
   "source": [
    "file = open('test.txt','r+')\n",
    "file.write(\"Writing in Read and write mode\")\n",
    "print(file.read())\n",
    "file.close()"
   ]
  },
  {
   "cell_type": "code",
   "execution_count": 9,
   "id": "daafcf98",
   "metadata": {},
   "outputs": [
    {
     "name": "stdout",
     "output_type": "stream",
     "text": [
      "Writing in Read and write mode mode Writing in Read and write mode\n"
     ]
    }
   ],
   "source": [
    "file = open('test.txt','r')\n",
    "print(file.read())\n",
    "file.close()"
   ]
  },
  {
   "cell_type": "code",
   "execution_count": 10,
   "id": "8548ac34",
   "metadata": {},
   "outputs": [],
   "source": [
    "file = open('test.txt','w')\n",
    "file.write(\"Writing in Read and write mode\\nsecond lin\\nthird line\")\n",
    "file.close()"
   ]
  },
  {
   "cell_type": "code",
   "execution_count": 11,
   "id": "8a953943",
   "metadata": {},
   "outputs": [
    {
     "name": "stdout",
     "output_type": "stream",
     "text": [
      "Writing in Read and write mode\n",
      "second lin\n",
      "third line\n"
     ]
    }
   ],
   "source": [
    "file = open('test.txt','r')\n",
    "print(file.read())\n",
    "file.close()"
   ]
  },
  {
   "cell_type": "code",
   "execution_count": 12,
   "id": "f484deb6",
   "metadata": {},
   "outputs": [
    {
     "data": {
      "text/plain": [
       "0"
      ]
     },
     "execution_count": 12,
     "metadata": {},
     "output_type": "execute_result"
    }
   ],
   "source": [
    "file = open('test.txt','w')\n",
    "file.truncate()"
   ]
  },
  {
   "cell_type": "code",
   "execution_count": 13,
   "id": "94d971fc",
   "metadata": {},
   "outputs": [],
   "source": [
    "file = open('test.txt','a')\n",
    "file.write(\"\\nWriting in Read and write mode\")\n",
    "file.close()"
   ]
  },
  {
   "cell_type": "code",
   "execution_count": 14,
   "id": "6cb0e025",
   "metadata": {},
   "outputs": [
    {
     "name": "stdout",
     "output_type": "stream",
     "text": [
      "\n",
      "Writing in Read and write mode\n"
     ]
    }
   ],
   "source": [
    "file = open('test.txt','r')\n",
    "print(file.read())\n",
    "file.close()"
   ]
  },
  {
   "cell_type": "code",
   "execution_count": null,
   "id": "9cf15b62",
   "metadata": {},
   "outputs": [],
   "source": []
  }
 ],
 "metadata": {
  "kernelspec": {
   "display_name": "Python 3",
   "language": "python",
   "name": "python3"
  },
  "language_info": {
   "codemirror_mode": {
    "name": "ipython",
    "version": 3
   },
   "file_extension": ".py",
   "mimetype": "text/x-python",
   "name": "python",
   "nbconvert_exporter": "python",
   "pygments_lexer": "ipython3",
   "version": "3.8.8"
  }
 },
 "nbformat": 4,
 "nbformat_minor": 5
}
