{
 "cells": [
  {
   "cell_type": "code",
   "execution_count": 1,
   "id": "6cc38efa",
   "metadata": {},
   "outputs": [
    {
     "name": "stdout",
     "output_type": "stream",
     "text": [
      "<re.Match object; span=(0, 3), match='a8Y'>\n",
      "<re.Match object; span=(1, 4), match='a6A'>\n",
      "None\n",
      "<re.Match object; span=(5, 8), match='o4M'>\n",
      "<re.Match object; span=(7, 10), match='s2S'>\n",
      "<re.Match object; span=(0, 3), match='a8Y'>\n"
     ]
    }
   ],
   "source": [
    "regx = '[a-z][0-9][A-Z]'\n",
    "\n",
    "list_of_string = ['a8Y',\n",
    "                  '8a6Ab',\n",
    "                  'abcd1234ABCD',\n",
    "                  'Tamato4Mango',\n",
    "                  'Debashis2Sanjeev',\n",
    "                  'a8Yb9Z']\n",
    "\n",
    "import re\n",
    "for string in list_of_string:\n",
    "    print(re.search(regx, string))"
   ]
  },
  {
   "cell_type": "code",
   "execution_count": 2,
   "id": "30a66687",
   "metadata": {},
   "outputs": [
    {
     "name": "stdout",
     "output_type": "stream",
     "text": [
      "['a8Y']\n",
      "['a6A']\n",
      "[]\n",
      "['o4M']\n",
      "['s2S']\n",
      "['a8Y', 'b9Z']\n"
     ]
    }
   ],
   "source": [
    "regx = '[a-z][0-9][A-Z]'\n",
    "\n",
    "list_of_string = ['a8Y',\n",
    "                  '8a6Ab',\n",
    "                  'abcd1234ABCD',\n",
    "                  'Tamato4Mango',\n",
    "                  'Debashis2Sanjeev',\n",
    "                  'a8Yb9Z']\n",
    "\n",
    "import re\n",
    "for string in list_of_string:\n",
    "    print(re.findall(regx, string))"
   ]
  },
  {
   "cell_type": "code",
   "execution_count": 3,
   "id": "d7f854cb",
   "metadata": {},
   "outputs": [
    {
     "name": "stdout",
     "output_type": "stream",
     "text": [
      "['a8Y']\n",
      "['a6A']\n",
      "[]\n",
      "['o4M']\n",
      "['s2S']\n",
      "['a8Y', 'b9Z', 'x2Q', 'u6W']\n"
     ]
    }
   ],
   "source": [
    "regx = '[a-z][0-9][A-Z]'\n",
    "\n",
    "list_of_string = ['a8Y',\n",
    "                  '8a6Ab',\n",
    "                  'abcd1234ABCD',\n",
    "                  'Tamato4Mango',\n",
    "                  'Debashis2Sanjeev',\n",
    "                  'a8Yb9Zx2Qu6W']\n",
    "\n",
    "import re\n",
    "for string in list_of_string:\n",
    "    print(re.findall(regx, string))"
   ]
  },
  {
   "cell_type": "code",
   "execution_count": null,
   "id": "31149737",
   "metadata": {},
   "outputs": [],
   "source": [
    "# Anchors\n",
    "^ => start of the string\n",
    "$ => end of the string"
   ]
  },
  {
   "cell_type": "code",
   "execution_count": 4,
   "id": "630bab19",
   "metadata": {},
   "outputs": [
    {
     "name": "stdout",
     "output_type": "stream",
     "text": [
      "<re.Match object; span=(0, 3), match='a8Y'>\n",
      "<re.Match object; span=(0, 3), match='a6A'>\n",
      "None\n",
      "None\n",
      "None\n",
      "<re.Match object; span=(0, 3), match='b9Z'>\n"
     ]
    }
   ],
   "source": [
    "regx = '^[a-z][0-9][A-Z]'\n",
    "\n",
    "list_of_string = ['a8Y',\n",
    "                  'a6Ab',\n",
    "                  'abcd1234ABCD',\n",
    "                  'Tamato4Mango',\n",
    "                  'Debashis2Sanjeev',\n",
    "                  'b9Zx2Qu6W']\n",
    "\n",
    "import re\n",
    "for string in list_of_string:\n",
    "    print(re.search(regx, string))"
   ]
  },
  {
   "cell_type": "code",
   "execution_count": 5,
   "id": "3c269ad0",
   "metadata": {},
   "outputs": [
    {
     "name": "stdout",
     "output_type": "stream",
     "text": [
      "<re.Match object; span=(0, 8), match='apples8Y'>\n",
      "None\n",
      "None\n",
      "None\n",
      "None\n",
      "None\n"
     ]
    }
   ],
   "source": [
    "regx = '^apple[a-z][0-9][A-Z]'\n",
    "\n",
    "list_of_string = ['apples8Y',\n",
    "                  'a6apples8YAb',\n",
    "                  'abcd1234ABCD',\n",
    "                  'Tamato4Mango',\n",
    "                  'Debashis2Sanjeev',\n",
    "                  'b9Zx2Qu6W']\n",
    "\n",
    "import re\n",
    "for string in list_of_string:\n",
    "    print(re.search(regx, string))"
   ]
  },
  {
   "cell_type": "code",
   "execution_count": 6,
   "id": "0ce7cc0d",
   "metadata": {},
   "outputs": [
    {
     "name": "stdout",
     "output_type": "stream",
     "text": [
      "None\n",
      "<re.Match object; span=(0, 11), match='sharukhkhan'>\n",
      "<re.Match object; span=(0, 10), match='salmankhan'>\n",
      "None\n",
      "None\n",
      "None\n"
     ]
    }
   ],
   "source": [
    "regx = '.*khan$'\n",
    "\n",
    "list_of_string = ['khan###@@@124',\n",
    "                  'sharukhkhan',\n",
    "                  'salmankhan',\n",
    "                  'khanAcademy',\n",
    "                  'teesmaarkhans',\n",
    "                  'Mudgal']\n",
    "\n",
    "import re\n",
    "for string in list_of_string:\n",
    "    print(re.search(regx, string))"
   ]
  },
  {
   "cell_type": "code",
   "execution_count": 7,
   "id": "4168246f",
   "metadata": {},
   "outputs": [
    {
     "name": "stdout",
     "output_type": "stream",
     "text": [
      "<re.Match object; span=(4, 8), match='56aa'>\n",
      "<re.Match object; span=(10, 14), match='54rr'>\n",
      "None\n",
      "None\n",
      "None\n",
      "None\n"
     ]
    }
   ],
   "source": [
    "regx = '[0-9]{2}[a-z]{2}'\n",
    "\n",
    "list_of_string = ['123456aa',\n",
    "                  'sharukh55554rrkhan',\n",
    "                  'salmankhan',\n",
    "                  'khanAcademy',\n",
    "                  'teesmaarkhans',\n",
    "                  'Mudgal']\n",
    "\n",
    "import re\n",
    "for string in list_of_string:\n",
    "    print(re.search(regx, string))"
   ]
  },
  {
   "cell_type": "code",
   "execution_count": 8,
   "id": "f1e2c359",
   "metadata": {},
   "outputs": [
    {
     "name": "stdout",
     "output_type": "stream",
     "text": [
      "<re.Match object; span=(1, 6), match='!@#az'>\n",
      "<re.Match object; span=(0, 5), match='!@&rr'>\n",
      "<re.Match object; span=(0, 5), match='^^^kk'>\n",
      "<re.Match object; span=(0, 5), match='!@@hh'>\n"
     ]
    }
   ],
   "source": [
    "# Q1) 3 special characters followed by 2 small case alphabet and \n",
    "# the total length of the string should be 7.\n",
    "\n",
    "regx = '[!@#$%^&*]{3}[a-z]{2}'\n",
    "\n",
    "list_of_string = ['8!@#azQ',\n",
    "                  '!@&rr12',\n",
    "                  '^^^kkT2',\n",
    "                  '!@@hhKp']\n",
    "\n",
    "import re\n",
    "for string in list_of_string:\n",
    "    if len(string) != 7:\n",
    "        print('None')\n",
    "    else:\n",
    "        print(re.search(regx, string))"
   ]
  },
  {
   "cell_type": "code",
   "execution_count": 9,
   "id": "2da88ac6",
   "metadata": {},
   "outputs": [
    {
     "name": "stdout",
     "output_type": "stream",
     "text": [
      "<re.Match object; span=(0, 6), match='#apple'>\n",
      "<re.Match object; span=(0, 7), match='%%apple'>\n",
      "<re.Match object; span=(4, 12), match='$$$apple'>\n",
      "<re.Match object; span=(5, 13), match='^@@apple'>\n"
     ]
    }
   ],
   "source": [
    "regx = '[!@#$%^&*]{1,3}apple'\n",
    "\n",
    "list_of_string = ['#apple',\n",
    "                  '%%apple',\n",
    "                  '^^^$$$$apple',\n",
    "                  '!@@^^^@@apple']\n",
    "\n",
    "import re\n",
    "for string in list_of_string:\n",
    "    print(re.search(regx, string))\n"
   ]
  },
  {
   "cell_type": "code",
   "execution_count": 10,
   "id": "b930a0c5",
   "metadata": {},
   "outputs": [
    {
     "name": "stdout",
     "output_type": "stream",
     "text": [
      "None\n",
      "<re.Match object; span=(0, 2), match='11'>\n",
      "None\n",
      "None\n",
      "None\n"
     ]
    }
   ],
   "source": [
    "regx = '^[0-9]{2}$'\n",
    "\n",
    "list_of_string = ['1',\n",
    "                  '11',\n",
    "                  '111',\n",
    "                  '1111',\n",
    "                  '12121']\n",
    "\n",
    "import re\n",
    "for string in list_of_string:\n",
    "    print(re.search(regx, string))"
   ]
  },
  {
   "cell_type": "code",
   "execution_count": 11,
   "id": "c624830c",
   "metadata": {},
   "outputs": [
    {
     "name": "stdout",
     "output_type": "stream",
     "text": [
      "<re.Match object; span=(1, 2), match='d'>\n",
      "None\n",
      "None\n",
      "None\n",
      "None\n"
     ]
    }
   ],
   "source": [
    "# compliment ^\n",
    "regx = '[^0-9]'\n",
    "\n",
    "list_of_string = ['1dd',\n",
    "                  '11',\n",
    "                  '111',\n",
    "                  '1111',\n",
    "                  '12121']\n",
    "\n",
    "import re\n",
    "for string in list_of_string:\n",
    "    print(re.search(regx, string))"
   ]
  },
  {
   "cell_type": "code",
   "execution_count": 12,
   "id": "05945760",
   "metadata": {},
   "outputs": [
    {
     "name": "stdout",
     "output_type": "stream",
     "text": [
      "<re.Match object; span=(0, 1), match='1'>\n",
      "<re.Match object; span=(1, 2), match='5'>\n",
      "None\n",
      "None\n",
      "<re.Match object; span=(0, 1), match='2'>\n"
     ]
    }
   ],
   "source": [
    "# compliment ^\n",
    "regx = '[^#%@]'\n",
    "\n",
    "list_of_string = ['1dd',\n",
    "                  '#5',\n",
    "                  '%',\n",
    "                  '@',\n",
    "                  '2###121']\n",
    "\n",
    "import re\n",
    "for string in list_of_string:\n",
    "    print(re.search(regx, string))"
   ]
  },
  {
   "cell_type": "code",
   "execution_count": null,
   "id": "1be78e5a",
   "metadata": {},
   "outputs": [],
   "source": [
    "1) '[0-9]{3}abc'\n",
    "2) '[0-9]{3}[a-z]{3}'\n",
    "3) '^a.*z$'\n",
    "4) '[a-z]{1,3}'"
   ]
  },
  {
   "cell_type": "code",
   "execution_count": 13,
   "id": "1fc4edc7",
   "metadata": {},
   "outputs": [],
   "source": [
    "regx = '^a.*z$'\n",
    "def check(string):\n",
    "    if re.search(regx,string):\n",
    "        print('hello world')\n",
    "    else:\n",
    "        print(string)"
   ]
  },
  {
   "cell_type": "code",
   "execution_count": 14,
   "id": "b3513288",
   "metadata": {},
   "outputs": [
    {
     "name": "stdout",
     "output_type": "stream",
     "text": [
      "hello world\n",
      "hello world\n",
      "hello world\n",
      "ayuh12\n",
      "12abcz\n"
     ]
    }
   ],
   "source": [
    "list_of_string = ['az','ae8934593u45jeksz','a234234z','ayuh12','12abcz']\n",
    "\n",
    "import re\n",
    "for string in list_of_string:\n",
    "    check(string)"
   ]
  },
  {
   "cell_type": "code",
   "execution_count": 15,
   "id": "c6e773a5",
   "metadata": {},
   "outputs": [
    {
     "name": "stdout",
     "output_type": "stream",
     "text": [
      "<re.Match object; span=(1, 3), match='dd'>\n",
      "<re.Match object; span=(0, 1), match='z'>\n",
      "<re.Match object; span=(0, 3), match='avt'>\n",
      "<re.Match object; span=(0, 3), match='zeb'>\n",
      "None\n",
      "None\n",
      "None\n"
     ]
    }
   ],
   "source": [
    "regx = '[a-z]{1,3}'\n",
    "\n",
    "list_of_string = ['1dd','zSn$f','avtyul','zebra'\n",
    "                  '#5',\n",
    "                  '%',\n",
    "                  '@',\n",
    "                  '2###121']\n",
    "\n",
    "import re\n",
    "for string in list_of_string:\n",
    "    print(re.search(regx, string))"
   ]
  },
  {
   "cell_type": "code",
   "execution_count": 16,
   "id": "2173c6b7",
   "metadata": {},
   "outputs": [],
   "source": [
    "# Groups ()"
   ]
  },
  {
   "cell_type": "code",
   "execution_count": 17,
   "id": "9a01243d",
   "metadata": {},
   "outputs": [
    {
     "name": "stdout",
     "output_type": "stream",
     "text": [
      "None\n",
      "None\n",
      "None\n",
      "None\n",
      "None\n",
      "None\n",
      "<re.Match object; span=(0, 15), match='appleappleapple'>\n"
     ]
    }
   ],
   "source": [
    "regx = '(apple)+'\n",
    "\n",
    "list_of_string = ['1dd','zSn$f','avtyul','zebra'\n",
    "                  '#5',\n",
    "                  '%',\n",
    "                  '@',\n",
    "                  'appleappleapple']\n",
    "\n",
    "import re\n",
    "for string in list_of_string:\n",
    "    print(re.search(regx, string))"
   ]
  },
  {
   "cell_type": "code",
   "execution_count": 18,
   "id": "f5d13b47",
   "metadata": {},
   "outputs": [
    {
     "name": "stdout",
     "output_type": "stream",
     "text": [
      "None\n",
      "None\n",
      "None\n",
      "None\n",
      "None\n",
      "<re.Match object; span=(0, 16), match='appleeeeeeeeeeee'>\n",
      "<re.Match object; span=(0, 5), match='apple'>\n"
     ]
    }
   ],
   "source": [
    "regx = 'apple+'\n",
    "\n",
    "list_of_string = ['1dd','zSn$f','avtyul','zebra'\n",
    "                  '#5',\n",
    "                  '%',\n",
    "                  'appleeeeeeeeeeee',\n",
    "                  'appleappleapple']\n",
    "\n",
    "import re\n",
    "for string in list_of_string:\n",
    "    print(re.search(regx, string))"
   ]
  },
  {
   "cell_type": "code",
   "execution_count": 19,
   "id": "2c75b7c6",
   "metadata": {},
   "outputs": [
    {
     "name": "stdout",
     "output_type": "stream",
     "text": [
      "None\n",
      "None\n",
      "None\n",
      "None\n",
      "None\n",
      "<re.Match object; span=(0, 21), match='salmankhansharukhkhan'>\n",
      "None\n"
     ]
    }
   ],
   "source": [
    "regx = '(.*khan)+'\n",
    "\n",
    "list_of_string = ['1dd','zSn$f','avtyul','zebra'\n",
    "                  '#5',\n",
    "                  '%',\n",
    "                  'salmankhansharukhkhan',\n",
    "                  'appleappleapple']\n",
    "\n",
    "import re\n",
    "for string in list_of_string:\n",
    "    print(re.search(regx, string))"
   ]
  },
  {
   "cell_type": "code",
   "execution_count": 20,
   "id": "ab9910ef",
   "metadata": {},
   "outputs": [
    {
     "name": "stdout",
     "output_type": "stream",
     "text": [
      "None\n",
      "None\n",
      "None\n",
      "None\n",
      "<re.Match object; span=(0, 12), match='22aa33bb44cc'>\n",
      "None\n",
      "None\n"
     ]
    }
   ],
   "source": [
    "regx = '([0-9]{2}[a-z]{2})+'\n",
    "\n",
    "list_of_string = ['1dd','zSn$f','avtyul','zebra'\n",
    "                  '#5',\n",
    "                  '22aa33bb44cc',\n",
    "                  'salmankhansharukhkhan',\n",
    "                  'appleappleapple']\n",
    "\n",
    "import re\n",
    "for string in list_of_string:\n",
    "    print(re.search(regx, string))"
   ]
  },
  {
   "cell_type": "code",
   "execution_count": 21,
   "id": "553d5409",
   "metadata": {},
   "outputs": [
    {
     "name": "stdout",
     "output_type": "stream",
     "text": [
      "<re.Match object; span=(0, 18), match='22aa33bb44ccapple5'>\n"
     ]
    }
   ],
   "source": [
    "regx = '([0-9]{2}[a-z]{2}).*(apple[0-9])'\n",
    "string = '22aa33bb44ccapple5'\n",
    "m = re.search(regx, string)\n",
    "print(m)"
   ]
  },
  {
   "cell_type": "code",
   "execution_count": 22,
   "id": "f986b119",
   "metadata": {},
   "outputs": [
    {
     "data": {
      "text/plain": [
       "('22aa', 'apple5')"
      ]
     },
     "execution_count": 22,
     "metadata": {},
     "output_type": "execute_result"
    }
   ],
   "source": [
    "m.groups()"
   ]
  },
  {
   "cell_type": "code",
   "execution_count": 23,
   "id": "bfb4c5fd",
   "metadata": {},
   "outputs": [
    {
     "data": {
      "text/plain": [
       "'22aa'"
      ]
     },
     "execution_count": 23,
     "metadata": {},
     "output_type": "execute_result"
    }
   ],
   "source": [
    "m.groups()[0]"
   ]
  },
  {
   "cell_type": "code",
   "execution_count": 24,
   "id": "524681b7",
   "metadata": {},
   "outputs": [
    {
     "data": {
      "text/plain": [
       "'apple5'"
      ]
     },
     "execution_count": 24,
     "metadata": {},
     "output_type": "execute_result"
    }
   ],
   "source": [
    "m.groups()[1]"
   ]
  },
  {
   "cell_type": "code",
   "execution_count": 25,
   "id": "b1d1bd39",
   "metadata": {},
   "outputs": [
    {
     "name": "stdout",
     "output_type": "stream",
     "text": [
      "<re.Match object; span=(0, 18), match='22aa33bb44ccapple5'>\n"
     ]
    }
   ],
   "source": [
    "regx = '([0-9]{2}[a-z]{2}).*'\n",
    "string = '22aa33bb44ccapple5'\n",
    "m = re.search(regx, string)\n",
    "print(m)"
   ]
  },
  {
   "cell_type": "code",
   "execution_count": 27,
   "id": "7ea4189f",
   "metadata": {},
   "outputs": [
    {
     "name": "stdout",
     "output_type": "stream",
     "text": [
      "<re.Match object; span=(0, 4), match='22aa'>\n"
     ]
    }
   ],
   "source": [
    "regx = '([0-9]{2}[a-z]{2})'\n",
    "string = '22aa33bb44ccapple5'\n",
    "m = re.search(regx, string)\n",
    "print(m)"
   ]
  },
  {
   "cell_type": "code",
   "execution_count": 30,
   "id": "d6d09241",
   "metadata": {},
   "outputs": [
    {
     "name": "stdout",
     "output_type": "stream",
     "text": [
      "<re.Match object; span=(8, 18), match='44ccapple5'>\n"
     ]
    }
   ],
   "source": [
    "regx = '[0-9]{2}[a-z]{2}apple[0-9]'\n",
    "string = '22aa33bb44ccapple5'\n",
    "m = re.search(regx, string)\n",
    "print(m)"
   ]
  },
  {
   "cell_type": "code",
   "execution_count": 31,
   "id": "26f4bfbe",
   "metadata": {},
   "outputs": [
    {
     "data": {
      "text/plain": [
       "()"
      ]
     },
     "execution_count": 31,
     "metadata": {},
     "output_type": "execute_result"
    }
   ],
   "source": [
    "m.groups()"
   ]
  },
  {
   "cell_type": "code",
   "execution_count": 32,
   "id": "e4334c5d",
   "metadata": {},
   "outputs": [
    {
     "name": "stdout",
     "output_type": "stream",
     "text": [
      "('A', '70')\n",
      "('B', '69')\n",
      "('A', '1')\n",
      "('A', '33')\n",
      "('B', '42')\n",
      "('B', '88')\n",
      "['70', '1', '33']\n",
      "['69', '42', '88']\n"
     ]
    }
   ],
   "source": [
    "list_of_string = ['A70','B69','A1','A33','B42','B88']\n",
    "A = []\n",
    "B = []\n",
    "\n",
    "regx = '([AB])([0-9]{1,3})'\n",
    "for student in list_of_string:\n",
    "    m = re.search(regx,student)\n",
    "    print(m.groups())\n",
    "    if m.groups()[0] == 'A':\n",
    "        A.append(m.groups()[1])\n",
    "    else:\n",
    "        B.append(m.groups()[1])\n",
    "        \n",
    "print(A)\n",
    "print(B)"
   ]
  },
  {
   "cell_type": "code",
   "execution_count": null,
   "id": "30123256",
   "metadata": {},
   "outputs": [],
   "source": []
  }
 ],
 "metadata": {
  "kernelspec": {
   "display_name": "Python 3",
   "language": "python",
   "name": "python3"
  },
  "language_info": {
   "codemirror_mode": {
    "name": "ipython",
    "version": 3
   },
   "file_extension": ".py",
   "mimetype": "text/x-python",
   "name": "python",
   "nbconvert_exporter": "python",
   "pygments_lexer": "ipython3",
   "version": "3.8.8"
  }
 },
 "nbformat": 4,
 "nbformat_minor": 5
}
