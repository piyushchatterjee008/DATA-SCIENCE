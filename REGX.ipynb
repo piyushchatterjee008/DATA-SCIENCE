{
 "cells": [
  {
   "cell_type": "raw",
   "id": "8654b6f9",
   "metadata": {},
   "source": [
    "#Regular expression\n",
    "\n",
    "IT IS A STRING CONTAING SOME RULES TO MATCH OR DEFINE PARTICULAR PATTERN\n",
    "\n",
    "Everything around regular expression is put inside a module names as re in python."
   ]
  },
  {
   "cell_type": "code",
   "execution_count": 1,
   "id": "2dbdff1a",
   "metadata": {},
   "outputs": [],
   "source": [
    "import re"
   ]
  },
  {
   "cell_type": "raw",
   "id": "d31a1efd",
   "metadata": {},
   "source": [
    "# What is application of RE ?\n",
    "-> Pattern Validation\n",
    "-> Pattern extraction\n",
    "-> String Matching and Finding"
   ]
  },
  {
   "cell_type": "raw",
   "id": "2539fabe",
   "metadata": {},
   "source": [
    "contains of\n",
    "\n",
    "-numbers\n",
    "-special character\n",
    "- min length\n",
    "\n",
    "--extract all emails from the document"
   ]
  },
  {
   "cell_type": "markdown",
   "id": "2eb01a1f",
   "metadata": {},
   "source": [
    "## METACHARACTERS:\n",
    ".(dot) => matches with all the char(alphabets,digits,special chars,etc...)\n",
    "except the new line char '\\n'\n",
    "\n",
    "[] -> Character Class. A set of characters\n",
    "\n",
    "Quantifiers\n",
    "+ => atleast 1 or more occurence"
   ]
  },
  {
   "cell_type": "code",
   "execution_count": 1,
   "id": "d699d075",
   "metadata": {},
   "outputs": [
    {
     "name": "stdout",
     "output_type": "stream",
     "text": [
      "<re.Match object; span=(0, 12), match='applesbanana'>\n"
     ]
    }
   ],
   "source": [
    "import re\n",
    "\n",
    "# re.search(REGX,STRING_IN_WHICH_YOU_WANT_TO_SEARCH_RGX_PATTERN)\n",
    "# re.search matches the first pattern according to the REGX\n",
    "# and returns a match object with info.\n",
    "\n",
    "REGX = 'apple.banana'\n",
    "\n",
    "string = 'applesbananas'\n",
    "\n",
    "print(re.search(REGX, string))"
   ]
  },
  {
   "cell_type": "code",
   "execution_count": 5,
   "id": "45006a5b",
   "metadata": {},
   "outputs": [
    {
     "name": "stdout",
     "output_type": "stream",
     "text": [
      "<re.Match object; span=(0, 12), match='apple4banana'>\n"
     ]
    }
   ],
   "source": [
    "REGX = 'apple.banana'\n",
    "\n",
    "string = 'apple4bananas I love to eat apple2bananas. Kiwi is also a great fruit.'\n",
    "\n",
    "print(re.search(REGX, string))"
   ]
  },
  {
   "cell_type": "code",
   "execution_count": 9,
   "id": "7af2f453",
   "metadata": {},
   "outputs": [
    {
     "name": "stdout",
     "output_type": "stream",
     "text": [
      "<re.Match object; span=(14, 27), match='apple12banana'>\n"
     ]
    }
   ],
   "source": [
    "REGX = 'apple..banana'\n",
    "\n",
    "string = 'I love to eat apple12bananas. Kiwi is also a great fruit.'\n",
    "\n",
    "print(re.search(REGX, string))"
   ]
  },
  {
   "cell_type": "code",
   "execution_count": 10,
   "id": "e4f3c94e",
   "metadata": {},
   "outputs": [
    {
     "name": "stdout",
     "output_type": "stream",
     "text": [
      "<re.Match object; span=(14, 29), match='apple##bananas.'>\n"
     ]
    }
   ],
   "source": [
    "REGX = 'apple..banana..'\n",
    "\n",
    "string = 'I love to eat apple##bananas. Kiwi is also a great fruit.'\n",
    "\n",
    "print(re.search(REGX,string))"
   ]
  },
  {
   "cell_type": "code",
   "execution_count": 11,
   "id": "8f43ffa3",
   "metadata": {},
   "outputs": [
    {
     "name": "stdout",
     "output_type": "stream",
     "text": [
      "None\n"
     ]
    }
   ],
   "source": [
    "REGX = 'apple.banana'\n",
    "\n",
    "string = 'I love to eat apple\\nbananas. Kiwi is also a great fruit.'\n",
    "\n",
    "print(re.search(REGX, string))"
   ]
  },
  {
   "cell_type": "code",
   "execution_count": 15,
   "id": "4bcf4cda",
   "metadata": {},
   "outputs": [
    {
     "name": "stdout",
     "output_type": "stream",
     "text": [
      "<re.Match object; span=(0, 12), match='apple banana'>\n",
      "None\n",
      "<re.Match object; span=(0, 12), match='applesbanana'>\n"
     ]
    }
   ],
   "source": [
    "REGX = 'apple.banana'\n",
    "collection_of_strings = ['apple bananasMango','mango45banana','applesbananas']\n",
    "for strings in collection_of_strings:\n",
    "    print(re.search(REGX,strings))"
   ]
  },
  {
   "cell_type": "code",
   "execution_count": 16,
   "id": "aeb278cb",
   "metadata": {},
   "outputs": [
    {
     "name": "stdout",
     "output_type": "stream",
     "text": [
      "appleakiwi --> <re.Match object; span=(0, 10), match='appleakiwi'>\n",
      "applesbananas --> None\n",
      "apple8kiwi --> <re.Match object; span=(0, 10), match='apple8kiwi'>\n",
      "appleHkiwi --> None\n",
      "apple#kiwi --> <re.Match object; span=(0, 10), match='apple#kiwi'>\n",
      "apple@kiwi --> <re.Match object; span=(0, 10), match='apple@kiwi'>\n",
      "apple$kiwi --> None\n"
     ]
    }
   ],
   "source": [
    "# [] -> Character class is a set of characters.\n",
    "\n",
    "REGX = 'apple[a@#8]kiwi'\n",
    "collection_of_strings = ['appleakiwi',\n",
    "                         'applesbananas',\n",
    "                        'apple8kiwi',\n",
    "                        'appleHkiwi',\n",
    "                        'apple#kiwi',\n",
    "                        'apple@kiwi',\n",
    "                        'apple$kiwi']\n",
    "for string in collection_of_strings:\n",
    "    print(string,'-->',re.search(REGX, string))"
   ]
  },
  {
   "cell_type": "code",
   "execution_count": 18,
   "id": "d09c6850",
   "metadata": {},
   "outputs": [
    {
     "name": "stdout",
     "output_type": "stream",
     "text": [
      "appleaUkiwiAE --> <re.Match object; span=(0, 13), match='appleaUkiwiAE'>\n",
      "applesbananas --> None\n",
      "apple8kiwi --> None\n",
      "appleHkiwi --> None\n",
      "apple#kiwi --> None\n",
      "apple@kiwi --> None\n",
      "apple$kiwi --> None\n",
      "appleaUkiwiAO --> <re.Match object; span=(0, 13), match='appleaUkiwiAO'>\n"
     ]
    }
   ],
   "source": [
    "REGX = 'apple[a@#8][AEIOU]kiwi[AEIOU][AEIOU]'\n",
    "collection_of_strings = ['appleaUkiwiAE',\n",
    "                         'applesbananas',\n",
    "                        'apple8kiwi',\n",
    "                        'appleHkiwi',\n",
    "                        'apple#kiwi',\n",
    "                        'apple@kiwi',\n",
    "                        'apple$kiwi',\n",
    "                        'appleaUkiwiAO']\n",
    "for string in collection_of_strings:\n",
    "    print(string,'-->',re.search(REGX, string))"
   ]
  },
  {
   "cell_type": "code",
   "execution_count": 20,
   "id": "d4cb64fb",
   "metadata": {},
   "outputs": [
    {
     "name": "stdout",
     "output_type": "stream",
     "text": [
      "apple44DkiwiAE --> <re.Match object; span=(0, 7), match='apple44'>\n",
      "apple555bananas --> <re.Match object; span=(0, 7), match='apple55'>\n",
      "apple66kiwi --> <re.Match object; span=(0, 7), match='apple66'>\n",
      "apple77kiwi --> <re.Match object; span=(0, 7), match='apple77'>\n",
      "apple88kiwi --> <re.Match object; span=(0, 7), match='apple88'>\n",
      "apple12kiwi --> <re.Match object; span=(0, 7), match='apple12'>\n",
      "I LOVE MANGOES.apple17kiwi --> <re.Match object; span=(15, 22), match='apple17'>\n"
     ]
    }
   ],
   "source": [
    "# [1-5] => INTEGERS FROM 1 TO 5\n",
    "REGX = 'apple[1-9][1-9]'\n",
    "collection_of_strings = ['apple44DkiwiAE',\n",
    "                         'apple555bananas',\n",
    "                        'apple66kiwi',\n",
    "                        'apple77kiwi',\n",
    "                        'apple88kiwi',\n",
    "                        'apple12kiwi',\n",
    "                        'I LOVE MANGOES.apple17kiwi']\n",
    "for string in collection_of_strings:\n",
    "    print(string,'-->',re.search(REGX, string))"
   ]
  },
  {
   "cell_type": "code",
   "execution_count": 21,
   "id": "7bd43f60",
   "metadata": {},
   "outputs": [
    {
     "name": "stdout",
     "output_type": "stream",
     "text": [
      "apple44DkiwiAE --> None\n",
      "apple55bananas --> None\n",
      "apple60kiwi --> None\n",
      "apple77kiwi --> None\n",
      "apple08kiwi --> None\n",
      "apple00kiwi --> None\n",
      "I LOVE MANGOES.apple17kiwi --> None\n"
     ]
    }
   ],
   "source": [
    "# [1-5] => INTEGERS FROM 1 TO 5\n",
    "REGX = 'apple-[0-9][0-9]'\n",
    "collection_of_strings = ['apple44DkiwiAE',\n",
    "                         'apple55bananas',\n",
    "                        'apple60kiwi',\n",
    "                        'apple77kiwi',\n",
    "                        'apple08kiwi',\n",
    "                        'apple00kiwi',\n",
    "                        'I LOVE MANGOES.apple17kiwi']\n",
    "for string in collection_of_strings:\n",
    "    print(string,'-->',re.search(REGX, string))"
   ]
  },
  {
   "cell_type": "code",
   "execution_count": 23,
   "id": "88facec2",
   "metadata": {},
   "outputs": [
    {
     "name": "stdout",
     "output_type": "stream",
     "text": [
      "A89 --> <re.Match object; span=(0, 3), match='A89'>\n",
      "f78 --> None\n",
      "R8# --> None\n",
      "T00 --> <re.Match object; span=(0, 3), match='T00'>\n",
      "Z39 --> <re.Match object; span=(0, 3), match='Z39'>\n",
      "X77 --> <re.Match object; span=(0, 3), match='X77'>\n",
      "W19 --> <re.Match object; span=(0, 3), match='W19'>\n"
     ]
    }
   ],
   "source": [
    "# Q1) write regx for matching single capital alphabet followed by 2 digit\n",
    "# number.\n",
    "# 8:25.\n",
    "\n",
    "# [A-Z0-9] => all the caps alphabets and integers.\n",
    "\n",
    "REGX = '[A-Z][0-9][0-9]'\n",
    "collection_of_strings = ['A89',\n",
    "                        'f78',\n",
    "                        'R8#',\n",
    "                        'T00',\n",
    "                        'Z39',\n",
    "                        'X77',\n",
    "                        'W19']\n",
    "for i in collection_of_strings:\n",
    "     print(i,'-->',re.search(REGX, i))"
   ]
  },
  {
   "cell_type": "code",
   "execution_count": null,
   "id": "ee5f88b3",
   "metadata": {},
   "outputs": [],
   "source": [
    "Quantifiers\n",
    "+ => atleast 1 or more occurence\n",
    "\n",
    "* => 0 or more occurence"
   ]
  },
  {
   "cell_type": "code",
   "execution_count": 24,
   "id": "ed33f8c6",
   "metadata": {},
   "outputs": [
    {
     "name": "stdout",
     "output_type": "stream",
     "text": [
      "943028dsjkflA89 --> <re.Match object; span=(12, 15), match='A89'>\n",
      "@#$#$^f78 --> None\n",
      "djklfALSDF234R8# --> <re.Match object; span=(9, 13), match='F234'>\n",
      "SDJFKL234T005 --> <re.Match object; span=(5, 9), match='L234'>\n",
      "SDKLF2345@#%$Z3978 --> <re.Match object; span=(4, 9), match='F2345'>\n",
      "SJDKLF!@#%$X774509876 --> <re.Match object; span=(11, 21), match='X774509876'>\n",
      "SDLKF!@#$%W19902843293804249308239048 --> <re.Match object; span=(10, 37), match='W19902843293804249308239048'>\n",
      "ASDJFL!@#A8B --> <re.Match object; span=(9, 11), match='A8'>\n"
     ]
    }
   ],
   "source": [
    "REGX = '[A-Z][0-9]+'\n",
    "collection_of_strings = ['943028dsjkflA89',\n",
    "                        '@#$#$^f78',\n",
    "                        'djklfALSDF234R8#',\n",
    "                        'SDJFKL234T005',\n",
    "                        'SDKLF2345@#%$Z3978',\n",
    "                        'SJDKLF!@#%$X774509876',\n",
    "                        'SDLKF!@#$%W19902843293804249308239048',\n",
    "                        'ASDJFL!@#A8B']\n",
    "for string in collection_of_strings:\n",
    "    print(string,'-->',re.search(REGX, string))"
   ]
  },
  {
   "cell_type": "code",
   "execution_count": 2,
   "id": "1c5995a9",
   "metadata": {},
   "outputs": [
    {
     "name": "stdout",
     "output_type": "stream",
     "text": [
      "#23 --> <re.Match object; span=(0, 3), match='#23'>\n",
      "#4 --> None\n",
      "78# --> None\n",
      "T#TY78 --> None\n",
      "###888 --> <re.Match object; span=(0, 5), match='###88'>\n",
      "##7890 --> <re.Match object; span=(0, 4), match='##78'>\n",
      "MANGO#99 --> <re.Match object; span=(5, 8), match='#99'>\n"
     ]
    }
   ],
   "source": [
    "import re\n",
    "REGX = '#+[0-9][0-9]'\n",
    "collection_of_strings = ['#23',\n",
    "                        '#4',\n",
    "                        '78#',\n",
    "                        'T#TY78',\n",
    "                        '###888',\n",
    "                        '##7890',\n",
    "                        'MANGO#99']\n",
    "for string in collection_of_strings:\n",
    "    print(string,'-->',re.search(REGX, string))"
   ]
  },
  {
   "cell_type": "code",
   "execution_count": 3,
   "id": "3947b8b1",
   "metadata": {},
   "outputs": [
    {
     "name": "stdout",
     "output_type": "stream",
     "text": [
      "fff23 --> <re.Match object; span=(0, 5), match='fff23'>\n",
      "f4 --> None\n",
      "7f8# --> None\n",
      "T#fffTY78 --> None\n",
      "fff888 --> <re.Match object; span=(0, 5), match='fff88'>\n",
      "fff7890 --> <re.Match object; span=(0, 5), match='fff78'>\n",
      "ffff9978 --> <re.Match object; span=(0, 6), match='ffff99'>\n"
     ]
    }
   ],
   "source": [
    "REGX = 'f+[0-9][0-9]'\n",
    "collection_of_strings = ['fff23',\n",
    "                        'f4',\n",
    "                        '7f8#',\n",
    "                        'T#fffTY78',\n",
    "                        'fff888',\n",
    "                        'fff7890',\n",
    "                        'ffff9978']\n",
    "for string in collection_of_strings:\n",
    "    print(string,'-->',re.search(REGX, string))"
   ]
  },
  {
   "cell_type": "code",
   "execution_count": 4,
   "id": "5617ec8d",
   "metadata": {},
   "outputs": [
    {
     "name": "stdout",
     "output_type": "stream",
     "text": [
      "f23 --> <re.Match object; span=(0, 3), match='f23'>\n",
      "f4 --> None\n",
      "f78 --> <re.Match object; span=(0, 3), match='f78'>\n",
      "TTY78 --> <re.Match object; span=(3, 5), match='78'>\n",
      "888 --> <re.Match object; span=(0, 2), match='88'>\n",
      "ffff7890 --> <re.Match object; span=(0, 6), match='ffff78'>\n",
      "MANGO#99 --> <re.Match object; span=(6, 8), match='99'>\n"
     ]
    }
   ],
   "source": [
    "# *\n",
    "REGX = 'f*[0-9][0-9]'\n",
    "collection_of_strings = ['f23',\n",
    "                        'f4',\n",
    "                        'f78',\n",
    "                        'TTY78',\n",
    "                        '888',\n",
    "                        'ffff7890',\n",
    "                        'MANGO#99']\n",
    "for string in collection_of_strings:\n",
    "    print(string,'-->',re.search(REGX, string))"
   ]
  },
  {
   "cell_type": "code",
   "execution_count": 1,
   "id": "56431b0a",
   "metadata": {},
   "outputs": [
    {
     "ename": "SyntaxError",
     "evalue": "unexpected EOF while parsing (<ipython-input-1-cadd8779f196>, line 10)",
     "output_type": "error",
     "traceback": [
      "\u001b[1;36m  File \u001b[1;32m\"<ipython-input-1-cadd8779f196>\"\u001b[1;36m, line \u001b[1;32m10\u001b[0m\n\u001b[1;33m    print(string,'-->',re.search(REGX, string)\u001b[0m\n\u001b[1;37m                                              ^\u001b[0m\n\u001b[1;31mSyntaxError\u001b[0m\u001b[1;31m:\u001b[0m unexpected EOF while parsing\n"
     ]
    }
   ],
   "source": [
    "# *\n",
    "import re\n",
    "REGX = '[0-9]*[A-Za-z]@'\n",
    "collection_of_strings = ['Apple@',\n",
    "                        '44K@',\n",
    "                        '7890a',\n",
    "                        '678t@',\n",
    "                        '12Mj@']\n",
    "for string in collection_of_strings:\n",
    "    print(string,'-->',re.search(REGX, string)"
   ]
  },
  {
   "cell_type": "code",
   "execution_count": null,
   "id": "5b975e78",
   "metadata": {},
   "outputs": [],
   "source": [
    "Quantifier\n",
    "\n",
    "? => once or not at all"
   ]
  },
  {
   "cell_type": "code",
   "execution_count": 11,
   "id": "5cf68f57",
   "metadata": {},
   "outputs": [
    {
     "name": "stdout",
     "output_type": "stream",
     "text": [
      "Apple@ --> <re.Match object; span=(4, 6), match='e@'>\n",
      "44K@ --> <re.Match object; span=(1, 4), match='4K@'>\n",
      "7890a --> None\n",
      "678t@ --> <re.Match object; span=(2, 5), match='8t@'>\n",
      "12Mj@ --> <re.Match object; span=(3, 5), match='j@'>\n",
      "A@ --> <re.Match object; span=(0, 2), match='A@'>\n"
     ]
    }
   ],
   "source": [
    "# *\n",
    "REGX = '[0-9]?[A-Za-z]@'\n",
    "collection_of_strings = ['Apple@',\n",
    "                        '44K@',\n",
    "                        '7890a',\n",
    "                        '678t@',\n",
    "                        '12Mj@',\n",
    "                        'A@']\n",
    "for string in collection_of_strings:\n",
    "    print(string,'-->',re.search(REGX, string))"
   ]
  },
  {
   "cell_type": "code",
   "execution_count": 12,
   "id": "4b0784d9",
   "metadata": {},
   "outputs": [
    {
     "name": "stdout",
     "output_type": "stream",
     "text": [
      "Appl3e@@@@ --> <re.Match object; span=(4, 10), match='3e@@@@'>\n",
      "44K@ --> <re.Match object; span=(1, 4), match='4K@'>\n",
      "7890a --> <re.Match object; span=(3, 5), match='0a'>\n",
      "678t@ --> <re.Match object; span=(2, 5), match='8t@'>\n",
      "12Mj@ --> <re.Match object; span=(1, 3), match='2M'>\n"
     ]
    }
   ],
   "source": [
    "# *\n",
    "REGX = '[0-9][A-Za-z]@*'\n",
    "collection_of_strings = ['Appl3e@@@@',\n",
    "                        '44K@',\n",
    "                        '7890a',\n",
    "                        '678t@',\n",
    "                        '12Mj@']\n",
    "for string in collection_of_strings:\n",
    "    print(string,'-->',re.search(REGX, string))"
   ]
  },
  {
   "cell_type": "code",
   "execution_count": 13,
   "id": "a8c1f246",
   "metadata": {},
   "outputs": [
    {
     "name": "stdout",
     "output_type": "stream",
     "text": [
      "Appl3e@@@@ --> <re.Match object; span=(0, 1), match='A'>\n",
      "44K@ --> <re.Match object; span=(1, 4), match='4K@'>\n",
      "7890a --> <re.Match object; span=(3, 5), match='0a'>\n",
      "678t@ --> <re.Match object; span=(2, 5), match='8t@'>\n",
      "12Mj@ --> <re.Match object; span=(1, 3), match='2M'>\n"
     ]
    }
   ],
   "source": [
    "# *\n",
    "REGX = '[0-9]?[A-Za-z]@*'\n",
    "collection_of_strings = ['Appl3e@@@@',\n",
    "                        '44K@',\n",
    "                        '7890a',\n",
    "                        '678t@',\n",
    "                        '12Mj@']\n",
    "for string in collection_of_strings:\n",
    "    print(string,'-->',re.search(REGX, string))\n",
    "    "
   ]
  },
  {
   "cell_type": "code",
   "execution_count": 14,
   "id": "7fc71015",
   "metadata": {},
   "outputs": [
    {
     "name": "stdout",
     "output_type": "stream",
     "text": [
      "Appl3e@@@@ --> None\n",
      "44K@ --> None\n",
      "7890a78b --> <re.Match object; span=(2, 5), match='90a'>\n",
      "678t@ --> <re.Match object; span=(1, 4), match='78t'>\n",
      "12Mj@ --> None\n"
     ]
    }
   ],
   "source": [
    "# *\n",
    "REGX = '[0-9][0-9][a-z]'\n",
    "collection_of_strings = ['Appl3e@@@@',\n",
    "                        '44K@',\n",
    "                        '7890a78b',\n",
    "                        '678t@',\n",
    "                        '12Mj@']\n",
    "for string in collection_of_strings:\n",
    "    print(string,'-->',re.search(REGX, string))\n",
    "    \n",
    "# re.search only gives the first match\n",
    "# what if i want all the matches?"
   ]
  },
  {
   "cell_type": "code",
   "execution_count": 15,
   "id": "e73ecf12",
   "metadata": {},
   "outputs": [
    {
     "name": "stdout",
     "output_type": "stream",
     "text": [
      "Appl3e@@@@ --> []\n",
      "44K@ --> []\n",
      "7890a78b --> ['90a', '78b']\n",
      "678t@ --> ['78t']\n",
      "12Mj@ --> []\n"
     ]
    }
   ],
   "source": [
    "# *\n",
    "REGX = '[0-9][0-9][a-z]'\n",
    "collection_of_strings = ['Appl3e@@@@',\n",
    "                        '44K@',\n",
    "                        '7890a78b',\n",
    "                        '678t@',\n",
    "                        '12Mj@']\n",
    "for string in collection_of_strings:\n",
    "    print(string,'-->',re.findall(REGX, string))\n",
    "    \n",
    "# re.search only gives the first match\n",
    "# what if i want all the matches?"
   ]
  },
  {
   "cell_type": "code",
   "execution_count": null,
   "id": "64301f7f",
   "metadata": {},
   "outputs": [],
   "source": []
  }
 ],
 "metadata": {
  "kernelspec": {
   "display_name": "Python 3",
   "language": "python",
   "name": "python3"
  },
  "language_info": {
   "codemirror_mode": {
    "name": "ipython",
    "version": 3
   },
   "file_extension": ".py",
   "mimetype": "text/x-python",
   "name": "python",
   "nbconvert_exporter": "python",
   "pygments_lexer": "ipython3",
   "version": "3.8.8"
  }
 },
 "nbformat": 4,
 "nbformat_minor": 5
}
